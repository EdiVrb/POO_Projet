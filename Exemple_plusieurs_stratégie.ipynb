{
 "cells": [
  {
   "cell_type": "markdown",
   "metadata": {},
   "source": [
    "# Exemple avec plusieurs stratégies"
   ]
  },
  {
   "cell_type": "markdown",
   "metadata": {},
   "source": [
    "## Importation du package et Lecture du fichier de données"
   ]
  },
  {
   "cell_type": "code",
   "execution_count": 62,
   "metadata": {},
   "outputs": [],
   "source": [
    "# import nécessaire au fonctionnement du package\n",
    "from mypackage import Strategy_Manager, Strategy, strategy, DataFileReader\n",
    "\n",
    "# import supplémentaire pour les stratégies utilisées comme exemple\n",
    "import pandas as pd\n",
    "import numpy as np\n",
    "from sklearn.linear_model import LinearRegression"
   ]
  },
  {
   "cell_type": "code",
   "execution_count": 63,
   "metadata": {},
   "outputs": [
    {
     "data": {
      "text/html": [
       "<div>\n",
       "<style scoped>\n",
       "    .dataframe tbody tr th:only-of-type {\n",
       "        vertical-align: middle;\n",
       "    }\n",
       "\n",
       "    .dataframe tbody tr th {\n",
       "        vertical-align: top;\n",
       "    }\n",
       "\n",
       "    .dataframe thead th {\n",
       "        text-align: right;\n",
       "    }\n",
       "</style>\n",
       "<table border=\"1\" class=\"dataframe\">\n",
       "  <thead>\n",
       "    <tr style=\"text-align: right;\">\n",
       "      <th></th>\n",
       "      <th>AAVEUSDT</th>\n",
       "      <th>ACMUSDT</th>\n",
       "      <th>ADAUSDT</th>\n",
       "      <th>ADXUSDT</th>\n",
       "      <th>AGLDUSDT</th>\n",
       "      <th>ALGOUSDT</th>\n",
       "      <th>ALICEUSDT</th>\n",
       "      <th>ALPACAUSDT</th>\n",
       "      <th>ALPHAUSDT</th>\n",
       "      <th>AMPUSDT</th>\n",
       "      <th>...</th>\n",
       "      <th>BATUSDT</th>\n",
       "      <th>BCHUSDT</th>\n",
       "      <th>BEAMUSDT</th>\n",
       "      <th>BELUSDT</th>\n",
       "      <th>BETAUSDT</th>\n",
       "      <th>BICOUSDT</th>\n",
       "      <th>BLZUSDT</th>\n",
       "      <th>BNBUPUSDT</th>\n",
       "      <th>BNBUSDT</th>\n",
       "      <th>BNTUSDT</th>\n",
       "    </tr>\n",
       "    <tr>\n",
       "      <th>Date_Price</th>\n",
       "      <th></th>\n",
       "      <th></th>\n",
       "      <th></th>\n",
       "      <th></th>\n",
       "      <th></th>\n",
       "      <th></th>\n",
       "      <th></th>\n",
       "      <th></th>\n",
       "      <th></th>\n",
       "      <th></th>\n",
       "      <th></th>\n",
       "      <th></th>\n",
       "      <th></th>\n",
       "      <th></th>\n",
       "      <th></th>\n",
       "      <th></th>\n",
       "      <th></th>\n",
       "      <th></th>\n",
       "      <th></th>\n",
       "      <th></th>\n",
       "      <th></th>\n",
       "    </tr>\n",
       "  </thead>\n",
       "  <tbody>\n",
       "    <tr>\n",
       "      <th>2022-01-01</th>\n",
       "      <td>266.4</td>\n",
       "      <td>5.211</td>\n",
       "      <td>1.3800</td>\n",
       "      <td>0.5729</td>\n",
       "      <td>1.705</td>\n",
       "      <td>1.7414</td>\n",
       "      <td>13.380</td>\n",
       "      <td>0.6264</td>\n",
       "      <td>0.6995</td>\n",
       "      <td>0.04964</td>\n",
       "      <td>...</td>\n",
       "      <td>1.2560</td>\n",
       "      <td>444.8</td>\n",
       "      <td>0.5862</td>\n",
       "      <td>1.651</td>\n",
       "      <td>0.64700</td>\n",
       "      <td>4.480</td>\n",
       "      <td>0.2208</td>\n",
       "      <td>543.00</td>\n",
       "      <td>527.3</td>\n",
       "      <td>3.345</td>\n",
       "    </tr>\n",
       "    <tr>\n",
       "      <th>2022-01-02</th>\n",
       "      <td>265.3</td>\n",
       "      <td>5.195</td>\n",
       "      <td>1.3770</td>\n",
       "      <td>0.5799</td>\n",
       "      <td>1.828</td>\n",
       "      <td>1.6734</td>\n",
       "      <td>13.060</td>\n",
       "      <td>0.6085</td>\n",
       "      <td>0.6978</td>\n",
       "      <td>0.04897</td>\n",
       "      <td>...</td>\n",
       "      <td>1.2999</td>\n",
       "      <td>447.7</td>\n",
       "      <td>0.6011</td>\n",
       "      <td>1.667</td>\n",
       "      <td>0.68177</td>\n",
       "      <td>4.223</td>\n",
       "      <td>0.2258</td>\n",
       "      <td>552.62</td>\n",
       "      <td>531.0</td>\n",
       "      <td>3.396</td>\n",
       "    </tr>\n",
       "    <tr>\n",
       "      <th>2022-01-03</th>\n",
       "      <td>267.2</td>\n",
       "      <td>5.152</td>\n",
       "      <td>1.3190</td>\n",
       "      <td>0.5798</td>\n",
       "      <td>1.718</td>\n",
       "      <td>1.7949</td>\n",
       "      <td>12.640</td>\n",
       "      <td>0.6186</td>\n",
       "      <td>0.7019</td>\n",
       "      <td>0.05239</td>\n",
       "      <td>...</td>\n",
       "      <td>1.3017</td>\n",
       "      <td>434.7</td>\n",
       "      <td>0.5934</td>\n",
       "      <td>1.616</td>\n",
       "      <td>0.63450</td>\n",
       "      <td>3.892</td>\n",
       "      <td>0.2273</td>\n",
       "      <td>506.38</td>\n",
       "      <td>511.9</td>\n",
       "      <td>3.428</td>\n",
       "    </tr>\n",
       "    <tr>\n",
       "      <th>2022-01-04</th>\n",
       "      <td>252.1</td>\n",
       "      <td>5.107</td>\n",
       "      <td>1.3090</td>\n",
       "      <td>0.5613</td>\n",
       "      <td>1.637</td>\n",
       "      <td>1.6725</td>\n",
       "      <td>13.650</td>\n",
       "      <td>0.6163</td>\n",
       "      <td>0.6981</td>\n",
       "      <td>0.04929</td>\n",
       "      <td>...</td>\n",
       "      <td>1.2825</td>\n",
       "      <td>427.1</td>\n",
       "      <td>0.5864</td>\n",
       "      <td>1.646</td>\n",
       "      <td>0.63164</td>\n",
       "      <td>3.920</td>\n",
       "      <td>0.2219</td>\n",
       "      <td>494.10</td>\n",
       "      <td>506.9</td>\n",
       "      <td>3.401</td>\n",
       "    </tr>\n",
       "    <tr>\n",
       "      <th>2022-01-05</th>\n",
       "      <td>230.3</td>\n",
       "      <td>4.727</td>\n",
       "      <td>1.2300</td>\n",
       "      <td>0.5276</td>\n",
       "      <td>1.570</td>\n",
       "      <td>1.5554</td>\n",
       "      <td>12.230</td>\n",
       "      <td>0.5660</td>\n",
       "      <td>0.6276</td>\n",
       "      <td>0.04682</td>\n",
       "      <td>...</td>\n",
       "      <td>1.1764</td>\n",
       "      <td>399.4</td>\n",
       "      <td>0.5339</td>\n",
       "      <td>1.465</td>\n",
       "      <td>0.57229</td>\n",
       "      <td>3.553</td>\n",
       "      <td>0.2064</td>\n",
       "      <td>411.33</td>\n",
       "      <td>474.1</td>\n",
       "      <td>3.297</td>\n",
       "    </tr>\n",
       "    <tr>\n",
       "      <th>...</th>\n",
       "      <td>...</td>\n",
       "      <td>...</td>\n",
       "      <td>...</td>\n",
       "      <td>...</td>\n",
       "      <td>...</td>\n",
       "      <td>...</td>\n",
       "      <td>...</td>\n",
       "      <td>...</td>\n",
       "      <td>...</td>\n",
       "      <td>...</td>\n",
       "      <td>...</td>\n",
       "      <td>...</td>\n",
       "      <td>...</td>\n",
       "      <td>...</td>\n",
       "      <td>...</td>\n",
       "      <td>...</td>\n",
       "      <td>...</td>\n",
       "      <td>...</td>\n",
       "      <td>...</td>\n",
       "      <td>...</td>\n",
       "      <td>...</td>\n",
       "    </tr>\n",
       "    <tr>\n",
       "      <th>2022-12-26</th>\n",
       "      <td>56.0</td>\n",
       "      <td>2.346</td>\n",
       "      <td>0.2652</td>\n",
       "      <td>0.1212</td>\n",
       "      <td>0.270</td>\n",
       "      <td>0.1715</td>\n",
       "      <td>1.091</td>\n",
       "      <td>0.2529</td>\n",
       "      <td>0.0801</td>\n",
       "      <td>0.00318</td>\n",
       "      <td>...</td>\n",
       "      <td>0.1869</td>\n",
       "      <td>103.4</td>\n",
       "      <td>0.1167</td>\n",
       "      <td>0.405</td>\n",
       "      <td>0.07050</td>\n",
       "      <td>0.284</td>\n",
       "      <td>0.0534</td>\n",
       "      <td>28.24</td>\n",
       "      <td>244.3</td>\n",
       "      <td>0.343</td>\n",
       "    </tr>\n",
       "    <tr>\n",
       "      <th>2022-12-27</th>\n",
       "      <td>57.5</td>\n",
       "      <td>2.345</td>\n",
       "      <td>0.2603</td>\n",
       "      <td>0.1182</td>\n",
       "      <td>0.264</td>\n",
       "      <td>0.1701</td>\n",
       "      <td>1.093</td>\n",
       "      <td>0.2504</td>\n",
       "      <td>0.0786</td>\n",
       "      <td>0.00312</td>\n",
       "      <td>...</td>\n",
       "      <td>0.1788</td>\n",
       "      <td>101.7</td>\n",
       "      <td>0.1164</td>\n",
       "      <td>0.401</td>\n",
       "      <td>0.06771</td>\n",
       "      <td>0.274</td>\n",
       "      <td>0.0531</td>\n",
       "      <td>28.76</td>\n",
       "      <td>246.7</td>\n",
       "      <td>0.339</td>\n",
       "    </tr>\n",
       "    <tr>\n",
       "      <th>2022-12-28</th>\n",
       "      <td>53.8</td>\n",
       "      <td>2.288</td>\n",
       "      <td>0.2482</td>\n",
       "      <td>0.1143</td>\n",
       "      <td>0.259</td>\n",
       "      <td>0.1670</td>\n",
       "      <td>1.058</td>\n",
       "      <td>0.2477</td>\n",
       "      <td>0.0762</td>\n",
       "      <td>0.00309</td>\n",
       "      <td>...</td>\n",
       "      <td>0.1680</td>\n",
       "      <td>99.2</td>\n",
       "      <td>0.1107</td>\n",
       "      <td>0.386</td>\n",
       "      <td>0.06701</td>\n",
       "      <td>0.264</td>\n",
       "      <td>0.0523</td>\n",
       "      <td>28.27</td>\n",
       "      <td>244.5</td>\n",
       "      <td>0.329</td>\n",
       "    </tr>\n",
       "    <tr>\n",
       "      <th>2022-12-29</th>\n",
       "      <td>54.5</td>\n",
       "      <td>2.308</td>\n",
       "      <td>0.2440</td>\n",
       "      <td>0.1150</td>\n",
       "      <td>0.265</td>\n",
       "      <td>0.1648</td>\n",
       "      <td>1.049</td>\n",
       "      <td>0.2454</td>\n",
       "      <td>0.0749</td>\n",
       "      <td>0.00306</td>\n",
       "      <td>...</td>\n",
       "      <td>0.1657</td>\n",
       "      <td>98.4</td>\n",
       "      <td>0.1114</td>\n",
       "      <td>0.386</td>\n",
       "      <td>0.06616</td>\n",
       "      <td>0.266</td>\n",
       "      <td>0.0515</td>\n",
       "      <td>28.74</td>\n",
       "      <td>246.3</td>\n",
       "      <td>0.330</td>\n",
       "    </tr>\n",
       "    <tr>\n",
       "      <th>2022-12-30</th>\n",
       "      <td>52.4</td>\n",
       "      <td>2.291</td>\n",
       "      <td>0.2458</td>\n",
       "      <td>0.1109</td>\n",
       "      <td>0.263</td>\n",
       "      <td>0.1691</td>\n",
       "      <td>1.050</td>\n",
       "      <td>0.2426</td>\n",
       "      <td>0.0705</td>\n",
       "      <td>0.00305</td>\n",
       "      <td>...</td>\n",
       "      <td>0.1654</td>\n",
       "      <td>96.8</td>\n",
       "      <td>0.1103</td>\n",
       "      <td>0.387</td>\n",
       "      <td>0.06665</td>\n",
       "      <td>0.275</td>\n",
       "      <td>0.0496</td>\n",
       "      <td>28.55</td>\n",
       "      <td>245.8</td>\n",
       "      <td>0.325</td>\n",
       "    </tr>\n",
       "  </tbody>\n",
       "</table>\n",
       "<p>364 rows × 36 columns</p>\n",
       "</div>"
      ],
      "text/plain": [
       "            AAVEUSDT  ACMUSDT  ADAUSDT  ADXUSDT  AGLDUSDT  ALGOUSDT  \\\n",
       "Date_Price                                                            \n",
       "2022-01-01     266.4    5.211   1.3800   0.5729     1.705    1.7414   \n",
       "2022-01-02     265.3    5.195   1.3770   0.5799     1.828    1.6734   \n",
       "2022-01-03     267.2    5.152   1.3190   0.5798     1.718    1.7949   \n",
       "2022-01-04     252.1    5.107   1.3090   0.5613     1.637    1.6725   \n",
       "2022-01-05     230.3    4.727   1.2300   0.5276     1.570    1.5554   \n",
       "...              ...      ...      ...      ...       ...       ...   \n",
       "2022-12-26      56.0    2.346   0.2652   0.1212     0.270    0.1715   \n",
       "2022-12-27      57.5    2.345   0.2603   0.1182     0.264    0.1701   \n",
       "2022-12-28      53.8    2.288   0.2482   0.1143     0.259    0.1670   \n",
       "2022-12-29      54.5    2.308   0.2440   0.1150     0.265    0.1648   \n",
       "2022-12-30      52.4    2.291   0.2458   0.1109     0.263    0.1691   \n",
       "\n",
       "            ALICEUSDT  ALPACAUSDT  ALPHAUSDT  AMPUSDT  ...  BATUSDT  BCHUSDT  \\\n",
       "Date_Price                                             ...                     \n",
       "2022-01-01     13.380      0.6264     0.6995  0.04964  ...   1.2560    444.8   \n",
       "2022-01-02     13.060      0.6085     0.6978  0.04897  ...   1.2999    447.7   \n",
       "2022-01-03     12.640      0.6186     0.7019  0.05239  ...   1.3017    434.7   \n",
       "2022-01-04     13.650      0.6163     0.6981  0.04929  ...   1.2825    427.1   \n",
       "2022-01-05     12.230      0.5660     0.6276  0.04682  ...   1.1764    399.4   \n",
       "...               ...         ...        ...      ...  ...      ...      ...   \n",
       "2022-12-26      1.091      0.2529     0.0801  0.00318  ...   0.1869    103.4   \n",
       "2022-12-27      1.093      0.2504     0.0786  0.00312  ...   0.1788    101.7   \n",
       "2022-12-28      1.058      0.2477     0.0762  0.00309  ...   0.1680     99.2   \n",
       "2022-12-29      1.049      0.2454     0.0749  0.00306  ...   0.1657     98.4   \n",
       "2022-12-30      1.050      0.2426     0.0705  0.00305  ...   0.1654     96.8   \n",
       "\n",
       "            BEAMUSDT  BELUSDT  BETAUSDT  BICOUSDT  BLZUSDT  BNBUPUSDT  \\\n",
       "Date_Price                                                              \n",
       "2022-01-01    0.5862    1.651   0.64700     4.480   0.2208     543.00   \n",
       "2022-01-02    0.6011    1.667   0.68177     4.223   0.2258     552.62   \n",
       "2022-01-03    0.5934    1.616   0.63450     3.892   0.2273     506.38   \n",
       "2022-01-04    0.5864    1.646   0.63164     3.920   0.2219     494.10   \n",
       "2022-01-05    0.5339    1.465   0.57229     3.553   0.2064     411.33   \n",
       "...              ...      ...       ...       ...      ...        ...   \n",
       "2022-12-26    0.1167    0.405   0.07050     0.284   0.0534      28.24   \n",
       "2022-12-27    0.1164    0.401   0.06771     0.274   0.0531      28.76   \n",
       "2022-12-28    0.1107    0.386   0.06701     0.264   0.0523      28.27   \n",
       "2022-12-29    0.1114    0.386   0.06616     0.266   0.0515      28.74   \n",
       "2022-12-30    0.1103    0.387   0.06665     0.275   0.0496      28.55   \n",
       "\n",
       "            BNBUSDT  BNTUSDT  \n",
       "Date_Price                    \n",
       "2022-01-01    527.3    3.345  \n",
       "2022-01-02    531.0    3.396  \n",
       "2022-01-03    511.9    3.428  \n",
       "2022-01-04    506.9    3.401  \n",
       "2022-01-05    474.1    3.297  \n",
       "...             ...      ...  \n",
       "2022-12-26    244.3    0.343  \n",
       "2022-12-27    246.7    0.339  \n",
       "2022-12-28    244.5    0.329  \n",
       "2022-12-29    246.3    0.330  \n",
       "2022-12-30    245.8    0.325  \n",
       "\n",
       "[364 rows x 36 columns]"
      ]
     },
     "execution_count": 63,
     "metadata": {},
     "output_type": "execute_result"
    }
   ],
   "source": [
    "# Chemin vers le fichier de données sous format .csv ou .parquet\n",
    "filepath = 'fichier_donnée.csv' \n",
    "\n",
    "# Initialiser le lecteur de fichiers en indiquant le format des dates\n",
    "reader = DataFileReader(date_format='%d/%m/%Y') \n",
    "\n",
    "# Lecture du fichier\n",
    "data = reader.read_file(filepath, date_column='Date_Price')\n",
    "data"
   ]
  },
  {
   "cell_type": "markdown",
   "metadata": {},
   "source": [
    "## Création de plusieurs stratégies"
   ]
  },
  {
   "cell_type": "code",
   "execution_count": 64,
   "metadata": {},
   "outputs": [],
   "source": [
    "# Création d'une stratégie par héritage\n",
    "class MovingAverageCrossover(Strategy):\n",
    "    \"\"\"Stratégie de croisement de moyennes mobiles pour plusieurs actifs.\"\"\"\n",
    "    \n",
    "    def __init__(self, assets, short_window=20, long_window=50, rebalancing_frequency='D', \n",
    "                 allocation_method='equal'):\n",
    "        super().__init__(rebalancing_frequency=rebalancing_frequency, assets=assets)\n",
    "        self.short_window = short_window\n",
    "        self.long_window = long_window\n",
    "        self.allocation_method = allocation_method\n",
    "\n",
    "    def get_position(self, historical_data, current_position):\n",
    "        if len(historical_data) < self.long_window:\n",
    "            return {asset: 0 for asset in self.assets}\n",
    "        \n",
    "        signals = {}\n",
    "        for asset in self.assets:\n",
    "            short_ma = historical_data[asset].rolling(self.short_window).mean()\n",
    "            long_ma = historical_data[asset].rolling(self.long_window).mean()\n",
    "            signals[asset] = 1 if short_ma.iloc[-1] > long_ma.iloc[-1] else -1\n",
    "        \n",
    "        # Allocation des positions selon la méthode choisie\n",
    "        if self.allocation_method == 'equal':\n",
    "            position_size = 1.0 / len(self.assets)\n",
    "            positions = {asset: signal * position_size for asset, signal in signals.items()}\n",
    "        else:  # 'signal_weighted'\n",
    "            total_signals = sum(abs(signal) for signal in signals.values())\n",
    "            positions = {asset: signal / total_signals for asset, signal in signals.items()}\n",
    "            \n",
    "        return positions"
   ]
  },
  {
   "cell_type": "code",
   "execution_count": 65,
   "metadata": {},
   "outputs": [],
   "source": [
    "# Création d'une stratégie simple avec décorateur\n",
    "@strategy\n",
    "def momentum_strategy(historical_data, current_position, assets, rebalancing_frequency, chosen_window=20):\n",
    "    \"\"\"\n",
    "    Cette stratégie mesure le momentum basé sur les variations de prix sur une fenêtre donnée.\n",
    "    Elle prend une position long si le rendement est positif, et short s'il est négatif.\n",
    "\n",
    "    Args:\n",
    "        historical_data (pd.DataFrame): Données historiques avec les prix des actifs.\n",
    "        current_position (dict): Positions actuelles sur les actifs.\n",
    "        assets (list): Liste des actifs à trader.\n",
    "        rebalancing_frequency (str): Fréquence de rééquilibrage ('D', 'W', etc.).\n",
    "        chosen_window (int): Fenêtre de temps pour le calcul du momentum (en périodes).\n",
    "    \n",
    "    Returns:\n",
    "        dict: Positions pondérées pour chaque actif.\n",
    "    \"\"\"\n",
    "    \n",
    "    # Vérifie si suffisamment de données sont disponibles pour la fenêtre choisie\n",
    "    if len(historical_data) < chosen_window:\n",
    "        return {asset: 0 for asset in assets}\n",
    "\n",
    "    positions = {}\n",
    "    active_assets = []  # Liste pour enregistrer les actifs ayant des signaux valides\n",
    "    \n",
    "    for asset in assets:\n",
    "        # Calcul du rendement sur la fenêtre choisie (momentum)\n",
    "        # Le rendement est calculé comme la variation en pourcentage entre la valeur à la fin de la fenêtre et celle du début.\n",
    "        asset_data = historical_data[asset]\n",
    "        \n",
    "        if len(asset_data) >= chosen_window:\n",
    "            returns = (asset_data.iloc[-1] - asset_data.iloc[-chosen_window]) / asset_data.iloc[-chosen_window]\n",
    "        else:\n",
    "            returns = None  # Si on n'a pas assez de données\n",
    "        # Vérifie si le rendement est valide (non-NaN)\n",
    "        if pd.isna(returns) or returns == 0:\n",
    "            positions[asset] = 0\n",
    "        else:\n",
    "            # Génère un signal : 1 si momentum positif, -1 si négatif\n",
    "            signal = 1 if returns > 0 else -1\n",
    "            positions[asset] = signal\n",
    "            active_assets.append(asset)\n",
    "    return positions"
   ]
  },
  {
   "cell_type": "code",
   "execution_count": 66,
   "metadata": {},
   "outputs": [],
   "source": [
    "class MCOBasedStrategy(Strategy):\n",
    "    \"\"\"\n",
    "    Stratégie basée sur la déviation du prix actuel par rapport au coût moyen des actifs.\n",
    "    Une forte déviation positive conduit à une position short, une forte déviation négative à une position long.\n",
    "    \"\"\"\n",
    "\n",
    "    def __init__(self, assets, threshold: float = 0.05, initial_position_costs: dict = None, rebalancing_frequency: str = 'D'):\n",
    "        \"\"\"\n",
    "        Initialise la stratégie.\n",
    "\n",
    "        :param assets: Liste des actifs à trader.\n",
    "        :param threshold: Seuil de déviation du prix pour prendre une position.\n",
    "        :param initial_position_costs: Coûts moyens initiaux pour chaque actif.\n",
    "        :param rebalancing_frequency: Fréquence de rééquilibrage ('D', 'W', etc.).\n",
    "        \"\"\"\n",
    "        super().__init__(rebalancing_frequency=rebalancing_frequency, assets=assets)\n",
    "        self.threshold = threshold\n",
    "        self.average_costs = None\n",
    "        self.initial_position_costs = initial_position_costs or {asset: 0 for asset in assets}\n",
    "\n",
    "    def fit(self, data: pd.DataFrame) -> None:\n",
    "        \"\"\"\n",
    "        Initialise les coûts moyens pour chaque actif.\n",
    "\n",
    "        :param data: Données historiques utilisées pour initialiser la stratégie.\n",
    "        \"\"\"\n",
    "        self.average_costs = self.initial_position_costs.copy()\n",
    "\n",
    "    def update_average_cost(self, asset: str, executed_price: float, executed_quantity: float, current_position: float) -> None:\n",
    "        \"\"\"\n",
    "        Met à jour le coût moyen pour un actif spécifique après une transaction.\n",
    "\n",
    "        :param asset: Nom de l'actif.\n",
    "        :param executed_price: Prix d'exécution de la transaction.\n",
    "        :param executed_quantity: Quantité exécutée.\n",
    "        :param current_position: Position actuelle avant la transaction.\n",
    "        \"\"\"\n",
    "        new_position = current_position + executed_quantity\n",
    "        if new_position == 0:\n",
    "            self.average_costs[asset] = self.initial_position_costs[asset]\n",
    "        else:\n",
    "            self.average_costs[asset] = (\n",
    "                (self.average_costs[asset] * current_position + executed_price * executed_quantity) / new_position\n",
    "            )\n",
    "\n",
    "    def get_position(self, historical_data: pd.DataFrame, current_position: dict) -> dict:\n",
    "        \"\"\"\n",
    "        Calcule les positions basées sur la déviation du prix par rapport au coût moyen.\n",
    "\n",
    "        :param historical_data: Données historiques avec les prix des actifs.\n",
    "        :param current_position: Positions actuelles des actifs.\n",
    "        :return: Dictionnaire des positions calculées.\n",
    "        \"\"\"\n",
    "        if self.average_costs is None:\n",
    "            raise ValueError(\"Les coûts moyens doivent être initialisés avec la méthode fit().\")\n",
    "        \n",
    "        positions = {}\n",
    "        active_assets = []\n",
    "        \n",
    "        for asset in self.assets:\n",
    "            if historical_data[asset].empty:\n",
    "                positions[asset] = 0\n",
    "                continue\n",
    "\n",
    "            current_price = historical_data[asset].iloc[-1]\n",
    "            if pd.isna(current_price):\n",
    "                positions[asset] = 0\n",
    "                continue\n",
    "\n",
    "            avg_cost = self.average_costs[asset]\n",
    "            if avg_cost == 0:  # Éviter la division par zéro\n",
    "                positions[asset] = 0\n",
    "                continue\n",
    "\n",
    "            price_deviation = (current_price - avg_cost) / avg_cost\n",
    "\n",
    "            if price_deviation > self.threshold:\n",
    "                positions[asset] = -1  # Position short\n",
    "                active_assets.append(asset)\n",
    "            elif price_deviation < -self.threshold:\n",
    "                positions[asset] = 1  # Position long\n",
    "                active_assets.append(asset)\n",
    "            else:\n",
    "                positions[asset] = 0\n",
    "        \n",
    "        # Ajuster les positions pour une allocation égale\n",
    "        if active_assets:\n",
    "            position_size = 1.0 / len(active_assets)\n",
    "            for asset in active_assets:\n",
    "                positions[asset] *= position_size\n",
    "                \n",
    "        return positions\n"
   ]
  },
  {
   "cell_type": "code",
   "execution_count": 67,
   "metadata": {},
   "outputs": [],
   "source": [
    "# Stratégie basée sur les Moindres Carrés Ordinaires (MCO)\n",
    "class OrdinaryLeastSquaresStrategy(Strategy):\n",
    "    \"\"\"\n",
    "    Stratégie utilisant les Moindres Carrés Ordinaires (MCO) pour prédire les tendances des prix.\n",
    "\n",
    "    Ajuste la position selon l'écart relatif entre le prix actuel et le prix prévu par une régression linéaire.\n",
    "    \"\"\"\n",
    "    def __init__(self, assets, window_size=20, threshold=0.01, rebalancing_frequency='D'):\n",
    "        \"\"\"\n",
    "        Initialise la stratégie avec les paramètres donnés.\n",
    "\n",
    "        :param window_size: Nombre de périodes pour la fenêtre de régression.\n",
    "        :param threshold: Seuil pour déclencher une position (en pourcentage).\n",
    "        :param rebalancing_frequency: Fréquence de rééquilibrage ('D', 'W', etc.).\n",
    "        \"\"\"\n",
    "        super().__init__(rebalancing_frequency=rebalancing_frequency, assets=assets)\n",
    "        self.window_size = window_size\n",
    "        self.threshold = threshold\n",
    "\n",
    "    def get_position(self, historical_data, current_position):\n",
    "        \"\"\"\n",
    "        Calcule les positions pour chaque actif en fonction de l'écart entre le prix actuel et le prix prévu.\n",
    "\n",
    "        :param historical_data: Données historiques des actifs sous forme de DataFrame.\n",
    "        :param current_position: Positions actuelles pour chaque actif.\n",
    "        :return: Dictionnaire des nouvelles positions.\n",
    "        \"\"\"\n",
    "        positions = {}\n",
    "        for asset in self.assets:\n",
    "            asset_data = historical_data[asset]\n",
    "            if len(asset_data) < self.window_size:\n",
    "                # Pas assez de données pour effectuer la régression\n",
    "                positions[asset] = 0\n",
    "                continue\n",
    "\n",
    "            # Préparation des données pour la régression linéaire\n",
    "            prices = asset_data.iloc[-self.window_size:].values.reshape(-1, 1)\n",
    "            time = np.arange(self.window_size).reshape(-1, 1)\n",
    "\n",
    "            # Ajustement du modèle linéaire\n",
    "            model = LinearRegression()\n",
    "            model.fit(time, prices)\n",
    "            # Prédiction du prix actuel\n",
    "            predicted_price = model.predict([[self.window_size]])[0]\n",
    "            current_price = asset_data.iloc[-1]\n",
    "            price_deviation = (current_price - predicted_price) / predicted_price\n",
    "\n",
    "            # Génération des signaux de position\n",
    "            if price_deviation > self.threshold:\n",
    "                positions[asset] = -1\n",
    "            elif price_deviation < -self.threshold:\n",
    "                positions[asset] = 1\n",
    "            else:\n",
    "                positions[asset] = 0\n",
    "        return positions"
   ]
  },
  {
   "cell_type": "code",
   "execution_count": 68,
   "metadata": {},
   "outputs": [],
   "source": [
    "class DayVariationStrategy(Strategy):\n",
    "    def __init__(self, assets, rebalancing_frequency='D'):\n",
    "        \"\"\"\n",
    "        Initialisation de la stratégie Day Variation.\n",
    "        Args:\n",
    "            assets: Liste des actifs à trader.\n",
    "            rebalancing_frequency: Fréquence de rééquilibrage ('D', 'W', 'M', etc.).\n",
    "        \"\"\"\n",
    "        super().__init__(rebalancing_frequency=rebalancing_frequency, assets=assets)\n",
    "\n",
    "    def get_position(self, historical_data: pd.DataFrame, current_position: dict) -> dict:\n",
    "        \"\"\"\n",
    "        Calcule les positions en fonction de la variation journalière.\n",
    "        Args:\n",
    "            historical_data: Données historiques contenant les prix des actifs.\n",
    "            current_position: Positions actuelles.\n",
    "        Returns:\n",
    "            dict: Positions pour chaque actif (-1 ou 1).\n",
    "        \"\"\"\n",
    "        if len(historical_data) < 2:\n",
    "            # Pas assez de données pour calculer la variation\n",
    "            return {asset: 0 for asset in self.assets}\n",
    "\n",
    "        positions = {}\n",
    "        for asset in self.assets:\n",
    "            current_price = historical_data[asset].iloc[-1]\n",
    "            previous_price = historical_data[asset].iloc[-2]\n",
    "            positions[asset] = 1 if current_price > previous_price else -1\n",
    "\n",
    "        return positions"
   ]
  },
  {
   "cell_type": "markdown",
   "metadata": {},
   "source": [
    "## Mise en place des variables nécessaire aux backtests"
   ]
  },
  {
   "cell_type": "code",
   "execution_count": 69,
   "metadata": {},
   "outputs": [],
   "source": [
    "# Création de la liste des actifs utilisé\n",
    "all_asset = data.columns.to_list()\n",
    "\n",
    "# Création des instances et exécution des backtests\n",
    "# Création des instances et exécution des backtests\n",
    "ma_strat_default = MovingAverageCrossover(assets=all_asset, short_window=20, long_window=50)\n",
    "ma_strat_weekly = MovingAverageCrossover(assets=all_asset, short_window=20, long_window=50, rebalancing_frequency='W')     # Weekly rebalancing\n",
    "ma_strat_monthly = MovingAverageCrossover(assets=all_asset, short_window=20, long_window=50, rebalancing_frequency='ME')    # Monthly rebalancing\n",
    "\n",
    "mom_strat_daily = momentum_strategy(assets=all_asset, chosen_window=10, rebalancing_frequency='D')\n",
    "mom_strat_weekly = momentum_strategy(assets=all_asset, chosen_window=10, rebalancing_frequency='W')\n",
    "mom_strat_monthly = momentum_strategy(assets=all_asset, chosen_window=10, rebalancing_frequency='ME')\n",
    "\n",
    "day_var_strat_daily = DayVariationStrategy(assets=all_asset, rebalancing_frequency='D')\n",
    "day_var_strat_weekly = DayVariationStrategy(assets=all_asset, rebalancing_frequency='W')\n",
    "day_var_strat_monthly = DayVariationStrategy(assets=all_asset, rebalancing_frequency='ME')\n",
    "\n",
    "ols_strat = OrdinaryLeastSquaresStrategy(assets=all_asset, window_size=20, threshold=0.01)\n",
    "\n",
    "initial_costs = {asset: 0.10 for asset in all_asset}\n",
    "mco_strat_monthly = MCOBasedStrategy(\n",
    "    assets=all_asset,\n",
    "    threshold=0.02,\n",
    "    initial_position_costs=initial_costs,\n",
    "    rebalancing_frequency='M'\n",
    ")\n",
    "\n",
    "transaction_cost = {'AAVEUSDT': 0.5, 'ACMUSDT': 0.2, 'ADAUSDT': 0.4, 'ADXUSDT': 0.6, 'AGLDUSDT': 0.7, 'ALGOUSDT': 0.001, 'ALICEUSDT': 0.8, 'ALPACAUSDT': 2, 'ALPHAUSDT': 0.8, 'AMPUSDT': 0.051}\n",
    "slippage_cost = {'AAVEUSDT': 0.53, 'ACMUSDT': 0.03, 'ADAUSDT': 0.33, 'ADXUSDT': 0.63, 'AGLDUSDT': 0.73, 'ALGOUSDT': 0.001, 'ALICEUSDT': 0.8, 'ALPACAUSDT': 21, 'ALPHAUSDT': 0.8, 'AMPUSDT': 0.01}\n",
    "\n",
    "transaction_cost_partiel = {'AAVEUSDT': 5, 'ACMUSDT': 2}\n",
    "\n",
    "# Création des dictionnaires de coûts\n",
    "transaction_cost = {'AAVEUSDT': 0.5, 'ACMUSDT': 0.2, 'ADAUSDT': 0.4, 'ADXUSDT': 0.6, 'AGLDUSDT': 0.7, \n",
    "                    'ALGOUSDT': 0.001, 'ALICEUSDT': 0.8, 'ALPACAUSDT': 2, 'ALPHAUSDT': 0.8, 'AMPUSDT': 0.051}\n",
    "slippage_cost = {'AAVEUSDT': 0.53, 'ACMUSDT': 0.03, 'ADAUSDT': 0.33, 'ADXUSDT': 0.63, 'AGLDUSDT': 0.73, \n",
    "                 'ALGOUSDT': 0.001, 'ALICEUSDT': 0.8, 'ALPACAUSDT': 21, 'ALPHAUSDT': 0.8, 'AMPUSDT': 0.01}\n",
    "\n",
    "# Création d'un dictionnaire des différentes stratégies à comparer avec \n",
    "#   en clé, le nom choisi de la stratégie\n",
    "#   en valeur, un tuple contenant la stratégie, les coûts de transactions, les coûts de slippage\n",
    "dico_strat = {\n",
    "    'ma_strat_default': (ma_strat_default, 0.1, 0.2),\n",
    "    'ma_strat_weekly': (ma_strat_weekly, transaction_cost_partiel, None),\n",
    "    'ma_strat_monthly': (ma_strat_monthly, transaction_cost, slippage_cost),\n",
    "    'mom_strat_daily': (mom_strat_daily, 0.002, 0.0005),\n",
    "    'mom_strat_weekly': (mom_strat_weekly, 0.01, 0.004),\n",
    "    'mom_strat_monthly': (mom_strat_monthly, 0.005, 0.003),\n",
    "    'mco_strat_monthly': (mco_strat_monthly, 0.01, 0.004),\n",
    "}\n",
    "# stratégies supplémentaire séparées pour une question de visibilité des graphes par rapport aux autres stratégies\n",
    "dico_strat_2 = {\n",
    "    'day_var_strat_daily': (day_var_strat_daily, transaction_cost, slippage_cost),\n",
    "    'ols_strat': (ols_strat, transaction_cost, slippage_cost),\n",
    "}\n",
    "\n",
    "# Création de l'instance utile à la comparaison\n",
    "manager = Strategy_Manager(data, dico_strat)\n",
    "manager2 = Strategy_Manager(data, dico_strat_2)\n",
    "\n",
    "# Exécution des backtests\n",
    "manager.run_backtests()\n",
    "manager2.run_backtests()"
   ]
  },
  {
   "cell_type": "markdown",
   "metadata": {},
   "source": [
    "## Résultat du Backtest"
   ]
  },
  {
   "cell_type": "code",
   "execution_count": 70,
   "metadata": {},
   "outputs": [
    {
     "name": "stdout",
     "output_type": "stream",
     "text": [
      "\n",
      "Statistiques : \n",
      "                   total_return  annual_return  profit_factor  volatility  \\\n",
      "ma_strat_default        -0.1116        -0.0787         0.4151      0.0188   \n",
      "ma_strat_weekly         -0.0647        -0.2724         0.1405      0.0455   \n",
      "ma_strat_monthly        -0.2480        -0.9975         0.0019      0.3157   \n",
      "mom_strat_daily          0.1245         0.0846         1.0855      0.5774   \n",
      "mom_strat_weekly        -0.4131        -0.9206         0.4601      0.5059   \n",
      "mom_strat_monthly       -0.0630        -0.7448         0.6412      0.6118   \n",
      "mco_strat_monthly       -0.0004        -0.0083         0.9032      0.0179   \n",
      "\n",
      "                   sharpe_ratio  max_drawdown  sortino_ratio  VaR_95%  \\\n",
      "ma_strat_default        -4.1853       -0.1123        -3.6176  -0.0022   \n",
      "ma_strat_weekly         -5.9855       -0.0653        -3.9890  -0.0078   \n",
      "ma_strat_monthly        -3.1591       -0.2480        -1.8092  -0.0474   \n",
      "mom_strat_daily          0.1466       -0.5178         0.1735  -0.0503   \n",
      "mom_strat_weekly        -1.8197       -0.4604        -1.4609  -0.0653   \n",
      "mom_strat_monthly       -1.2175       -0.1508        -1.1572  -0.0621   \n",
      "mco_strat_monthly       -0.4645       -0.0028        -0.4046  -0.0017   \n",
      "\n",
      "                   CVaR_95%  Profit/Loss_Ratio  num_trades  win_rate  \n",
      "ma_strat_default    -0.0031             0.7421         270    0.3587  \n",
      "ma_strat_weekly     -0.0091             0.2107         254    0.4000  \n",
      "ma_strat_monthly    -0.0477             0.0170         176    0.1000  \n",
      "mom_strat_daily     -0.0721             1.2642        2014    0.4620  \n",
      "mom_strat_weekly    -0.0799             0.5856         805    0.4400  \n",
      "mom_strat_monthly   -0.1020             1.4961         279    0.3000  \n",
      "mco_strat_monthly   -0.0028             0.9032         114    0.5000  \n",
      "\n",
      "Statistiques : \n",
      "                     total_return  annual_return  profit_factor  volatility  \\\n",
      "day_var_strat_daily          -1.0           -1.0         0.0037     11.1489   \n",
      "ols_strat                    -1.0           -1.0         0.0090      6.7242   \n",
      "\n",
      "                     sharpe_ratio  max_drawdown  sortino_ratio  VaR_95%  \\\n",
      "day_var_strat_daily       -0.0897       -1.0823        -0.0523  -1.7602   \n",
      "ols_strat                 -0.1487       -1.0341        -0.1108  -1.3273   \n",
      "\n",
      "                     CVaR_95%  Profit/Loss_Ratio  num_trades  win_rate  \n",
      "day_var_strat_daily   -1.7859             0.0571        7093    0.0606  \n",
      "ols_strat             -1.4488             0.0704        3183    0.1130  \n"
     ]
    }
   ],
   "source": [
    "# Affichage des statistiques pour chaque stratégie\n",
    "manager.print_statistics()\n",
    "manager2.print_statistics()"
   ]
  },
  {
   "cell_type": "markdown",
   "metadata": {},
   "source": [
    "## Graphique"
   ]
  },
  {
   "cell_type": "code",
   "execution_count": 71,
   "metadata": {},
   "outputs": [],
   "source": [
    "# Choix du backend utilisé pour les graphiques\n",
    "backend = 'plotly' # 'plotly' # 'matplotlib' # 'seaborn'"
   ]
  },
  {
   "cell_type": "code",
   "execution_count": 72,
   "metadata": {},
   "outputs": [
    {
     "data": {
      "application/vnd.plotly.v1+json": {
       "config": {
        "plotlyServerURL": "https://plot.ly"
       },
       "data": [
        {
         "mode": "lines",
         "name": "ma_strat_default",
         "type": "scatter",
         "x": [
          "2022-01-01T00:00:00",
          "2022-01-02T00:00:00",
          "2022-01-03T00:00:00",
          "2022-01-04T00:00:00",
          "2022-01-05T00:00:00",
          "2022-01-06T00:00:00",
          "2022-01-07T00:00:00",
          "2022-01-08T00:00:00",
          "2022-01-09T00:00:00",
          "2022-01-10T00:00:00",
          "2022-01-11T00:00:00",
          "2022-01-12T00:00:00",
          "2022-01-13T00:00:00",
          "2022-01-14T00:00:00",
          "2022-01-15T00:00:00",
          "2022-01-16T00:00:00",
          "2022-01-17T00:00:00",
          "2022-01-18T00:00:00",
          "2022-01-19T00:00:00",
          "2022-01-20T00:00:00",
          "2022-01-21T00:00:00",
          "2022-01-22T00:00:00",
          "2022-01-23T00:00:00",
          "2022-01-24T00:00:00",
          "2022-01-25T00:00:00",
          "2022-01-26T00:00:00",
          "2022-01-27T00:00:00",
          "2022-01-28T00:00:00",
          "2022-01-29T00:00:00",
          "2022-01-30T00:00:00",
          "2022-01-31T00:00:00",
          "2022-02-01T00:00:00",
          "2022-02-02T00:00:00",
          "2022-02-03T00:00:00",
          "2022-02-04T00:00:00",
          "2022-02-05T00:00:00",
          "2022-02-06T00:00:00",
          "2022-02-07T00:00:00",
          "2022-02-08T00:00:00",
          "2022-02-09T00:00:00",
          "2022-02-10T00:00:00",
          "2022-02-11T00:00:00",
          "2022-02-12T00:00:00",
          "2022-02-13T00:00:00",
          "2022-02-14T00:00:00",
          "2022-02-15T00:00:00",
          "2022-02-16T00:00:00",
          "2022-02-17T00:00:00",
          "2022-02-18T00:00:00",
          "2022-02-19T00:00:00",
          "2022-02-20T00:00:00",
          "2022-02-21T00:00:00",
          "2022-02-22T00:00:00",
          "2022-02-23T00:00:00",
          "2022-02-24T00:00:00",
          "2022-02-25T00:00:00",
          "2022-02-26T00:00:00",
          "2022-02-27T00:00:00",
          "2022-02-28T00:00:00",
          "2022-03-01T00:00:00",
          "2022-03-02T00:00:00",
          "2022-03-03T00:00:00",
          "2022-03-04T00:00:00",
          "2022-03-05T00:00:00",
          "2022-03-06T00:00:00",
          "2022-03-07T00:00:00",
          "2022-03-08T00:00:00",
          "2022-03-09T00:00:00",
          "2022-03-10T00:00:00",
          "2022-03-11T00:00:00",
          "2022-03-12T00:00:00",
          "2022-03-13T00:00:00",
          "2022-03-14T00:00:00",
          "2022-03-15T00:00:00",
          "2022-03-16T00:00:00",
          "2022-03-17T00:00:00",
          "2022-03-18T00:00:00",
          "2022-03-19T00:00:00",
          "2022-03-20T00:00:00",
          "2022-03-21T00:00:00",
          "2022-03-22T00:00:00",
          "2022-03-23T00:00:00",
          "2022-03-24T00:00:00",
          "2022-03-25T00:00:00",
          "2022-03-26T00:00:00",
          "2022-03-27T00:00:00",
          "2022-03-28T00:00:00",
          "2022-03-29T00:00:00",
          "2022-03-30T00:00:00",
          "2022-03-31T00:00:00",
          "2022-04-01T00:00:00",
          "2022-04-02T00:00:00",
          "2022-04-03T00:00:00",
          "2022-04-04T00:00:00",
          "2022-04-05T00:00:00",
          "2022-04-06T00:00:00",
          "2022-04-07T00:00:00",
          "2022-04-08T00:00:00",
          "2022-04-09T00:00:00",
          "2022-04-10T00:00:00",
          "2022-04-11T00:00:00",
          "2022-04-12T00:00:00",
          "2022-04-13T00:00:00",
          "2022-04-14T00:00:00",
          "2022-04-15T00:00:00",
          "2022-04-16T00:00:00",
          "2022-04-17T00:00:00",
          "2022-04-18T00:00:00",
          "2022-04-19T00:00:00",
          "2022-04-20T00:00:00",
          "2022-04-21T00:00:00",
          "2022-04-22T00:00:00",
          "2022-04-23T00:00:00",
          "2022-04-24T00:00:00",
          "2022-04-25T00:00:00",
          "2022-04-26T00:00:00",
          "2022-04-27T00:00:00",
          "2022-04-28T00:00:00",
          "2022-04-29T00:00:00",
          "2022-04-30T00:00:00",
          "2022-05-01T00:00:00",
          "2022-05-02T00:00:00",
          "2022-05-03T00:00:00",
          "2022-05-04T00:00:00",
          "2022-05-05T00:00:00",
          "2022-05-06T00:00:00",
          "2022-05-07T00:00:00",
          "2022-05-08T00:00:00",
          "2022-05-09T00:00:00",
          "2022-05-10T00:00:00",
          "2022-05-11T00:00:00",
          "2022-05-12T00:00:00",
          "2022-05-13T00:00:00",
          "2022-05-14T00:00:00",
          "2022-05-15T00:00:00",
          "2022-05-16T00:00:00",
          "2022-05-17T00:00:00",
          "2022-05-18T00:00:00",
          "2022-05-19T00:00:00",
          "2022-05-20T00:00:00",
          "2022-05-21T00:00:00",
          "2022-05-22T00:00:00",
          "2022-05-23T00:00:00",
          "2022-05-24T00:00:00",
          "2022-05-25T00:00:00",
          "2022-05-26T00:00:00",
          "2022-05-27T00:00:00",
          "2022-05-28T00:00:00",
          "2022-05-29T00:00:00",
          "2022-05-30T00:00:00",
          "2022-05-31T00:00:00",
          "2022-06-01T00:00:00",
          "2022-06-02T00:00:00",
          "2022-06-03T00:00:00",
          "2022-06-04T00:00:00",
          "2022-06-05T00:00:00",
          "2022-06-06T00:00:00",
          "2022-06-07T00:00:00",
          "2022-06-08T00:00:00",
          "2022-06-09T00:00:00",
          "2022-06-10T00:00:00",
          "2022-06-11T00:00:00",
          "2022-06-12T00:00:00",
          "2022-06-13T00:00:00",
          "2022-06-14T00:00:00",
          "2022-06-15T00:00:00",
          "2022-06-16T00:00:00",
          "2022-06-17T00:00:00",
          "2022-06-18T00:00:00",
          "2022-06-19T00:00:00",
          "2022-06-20T00:00:00",
          "2022-06-21T00:00:00",
          "2022-06-22T00:00:00",
          "2022-06-23T00:00:00",
          "2022-06-24T00:00:00",
          "2022-06-25T00:00:00",
          "2022-06-26T00:00:00",
          "2022-06-27T00:00:00",
          "2022-06-28T00:00:00",
          "2022-06-29T00:00:00",
          "2022-06-30T00:00:00",
          "2022-07-01T00:00:00",
          "2022-07-02T00:00:00",
          "2022-07-03T00:00:00",
          "2022-07-04T00:00:00",
          "2022-07-05T00:00:00",
          "2022-07-06T00:00:00",
          "2022-07-07T00:00:00",
          "2022-07-08T00:00:00",
          "2022-07-09T00:00:00",
          "2022-07-10T00:00:00",
          "2022-07-11T00:00:00",
          "2022-07-12T00:00:00",
          "2022-07-13T00:00:00",
          "2022-07-14T00:00:00",
          "2022-07-15T00:00:00",
          "2022-07-16T00:00:00",
          "2022-07-17T00:00:00",
          "2022-07-18T00:00:00",
          "2022-07-19T00:00:00",
          "2022-07-20T00:00:00",
          "2022-07-21T00:00:00",
          "2022-07-22T00:00:00",
          "2022-07-23T00:00:00",
          "2022-07-24T00:00:00",
          "2022-07-25T00:00:00",
          "2022-07-26T00:00:00",
          "2022-07-27T00:00:00",
          "2022-07-28T00:00:00",
          "2022-07-29T00:00:00",
          "2022-07-30T00:00:00",
          "2022-07-31T00:00:00",
          "2022-08-01T00:00:00",
          "2022-08-02T00:00:00",
          "2022-08-03T00:00:00",
          "2022-08-04T00:00:00",
          "2022-08-05T00:00:00",
          "2022-08-06T00:00:00",
          "2022-08-07T00:00:00",
          "2022-08-08T00:00:00",
          "2022-08-09T00:00:00",
          "2022-08-10T00:00:00",
          "2022-08-11T00:00:00",
          "2022-08-12T00:00:00",
          "2022-08-13T00:00:00",
          "2022-08-14T00:00:00",
          "2022-08-15T00:00:00",
          "2022-08-16T00:00:00",
          "2022-08-17T00:00:00",
          "2022-08-18T00:00:00",
          "2022-08-19T00:00:00",
          "2022-08-20T00:00:00",
          "2022-08-21T00:00:00",
          "2022-08-22T00:00:00",
          "2022-08-23T00:00:00",
          "2022-08-24T00:00:00",
          "2022-08-25T00:00:00",
          "2022-08-26T00:00:00",
          "2022-08-27T00:00:00",
          "2022-08-28T00:00:00",
          "2022-08-29T00:00:00",
          "2022-08-30T00:00:00",
          "2022-08-31T00:00:00",
          "2022-09-01T00:00:00",
          "2022-09-02T00:00:00",
          "2022-09-03T00:00:00",
          "2022-09-04T00:00:00",
          "2022-09-05T00:00:00",
          "2022-09-06T00:00:00",
          "2022-09-07T00:00:00",
          "2022-09-08T00:00:00",
          "2022-09-09T00:00:00",
          "2022-09-10T00:00:00",
          "2022-09-11T00:00:00",
          "2022-09-12T00:00:00",
          "2022-09-13T00:00:00",
          "2022-09-14T00:00:00",
          "2022-09-15T00:00:00",
          "2022-09-16T00:00:00",
          "2022-09-17T00:00:00",
          "2022-09-18T00:00:00",
          "2022-09-19T00:00:00",
          "2022-09-20T00:00:00",
          "2022-09-21T00:00:00",
          "2022-09-22T00:00:00",
          "2022-09-23T00:00:00",
          "2022-09-24T00:00:00",
          "2022-09-25T00:00:00",
          "2022-09-26T00:00:00",
          "2022-09-27T00:00:00",
          "2022-09-28T00:00:00",
          "2022-09-29T00:00:00",
          "2022-09-30T00:00:00",
          "2022-10-01T00:00:00",
          "2022-10-02T00:00:00",
          "2022-10-03T00:00:00",
          "2022-10-04T00:00:00",
          "2022-10-05T00:00:00",
          "2022-10-06T00:00:00",
          "2022-10-07T00:00:00",
          "2022-10-08T00:00:00",
          "2022-10-09T00:00:00",
          "2022-10-10T00:00:00",
          "2022-10-11T00:00:00",
          "2022-10-12T00:00:00",
          "2022-10-13T00:00:00",
          "2022-10-14T00:00:00",
          "2022-10-15T00:00:00",
          "2022-10-16T00:00:00",
          "2022-10-17T00:00:00",
          "2022-10-18T00:00:00",
          "2022-10-19T00:00:00",
          "2022-10-20T00:00:00",
          "2022-10-21T00:00:00",
          "2022-10-22T00:00:00",
          "2022-10-23T00:00:00",
          "2022-10-24T00:00:00",
          "2022-10-25T00:00:00",
          "2022-10-26T00:00:00",
          "2022-10-27T00:00:00",
          "2022-10-28T00:00:00",
          "2022-10-29T00:00:00",
          "2022-10-30T00:00:00",
          "2022-10-31T00:00:00",
          "2022-11-01T00:00:00",
          "2022-11-02T00:00:00",
          "2022-11-03T00:00:00",
          "2022-11-04T00:00:00",
          "2022-11-05T00:00:00",
          "2022-11-06T00:00:00",
          "2022-11-07T00:00:00",
          "2022-11-08T00:00:00",
          "2022-11-09T00:00:00",
          "2022-11-10T00:00:00",
          "2022-11-11T00:00:00",
          "2022-11-12T00:00:00",
          "2022-11-13T00:00:00",
          "2022-11-14T00:00:00",
          "2022-11-15T00:00:00",
          "2022-11-16T00:00:00",
          "2022-11-17T00:00:00",
          "2022-11-18T00:00:00",
          "2022-11-19T00:00:00",
          "2022-11-20T00:00:00",
          "2022-11-21T00:00:00",
          "2022-11-22T00:00:00",
          "2022-11-23T00:00:00",
          "2022-11-24T00:00:00",
          "2022-11-25T00:00:00",
          "2022-11-26T00:00:00",
          "2022-11-27T00:00:00",
          "2022-11-28T00:00:00",
          "2022-11-29T00:00:00",
          "2022-11-30T00:00:00",
          "2022-12-01T00:00:00",
          "2022-12-02T00:00:00",
          "2022-12-03T00:00:00",
          "2022-12-04T00:00:00",
          "2022-12-05T00:00:00",
          "2022-12-06T00:00:00",
          "2022-12-07T00:00:00",
          "2022-12-08T00:00:00",
          "2022-12-09T00:00:00",
          "2022-12-10T00:00:00",
          "2022-12-11T00:00:00",
          "2022-12-12T00:00:00",
          "2022-12-13T00:00:00",
          "2022-12-14T00:00:00",
          "2022-12-15T00:00:00",
          "2022-12-16T00:00:00",
          "2022-12-17T00:00:00",
          "2022-12-18T00:00:00",
          "2022-12-19T00:00:00",
          "2022-12-20T00:00:00",
          "2022-12-21T00:00:00",
          "2022-12-22T00:00:00",
          "2022-12-23T00:00:00",
          "2022-12-24T00:00:00",
          "2022-12-25T00:00:00",
          "2022-12-26T00:00:00",
          "2022-12-27T00:00:00",
          "2022-12-28T00:00:00",
          "2022-12-29T00:00:00",
          "2022-12-30T00:00:00"
         ],
         "y": [
          1,
          1,
          1,
          1,
          1,
          1,
          1,
          1,
          1,
          1,
          1,
          1,
          1,
          1,
          1,
          1,
          1,
          1,
          1,
          1,
          1,
          1,
          1,
          1,
          1,
          1,
          1,
          1,
          1,
          1,
          1,
          1,
          1,
          1,
          1,
          1,
          1,
          1,
          1,
          1,
          1,
          1,
          1,
          1,
          1,
          1,
          1,
          1,
          1,
          0.9916666666666667,
          0.992417480712237,
          0.9932997480148686,
          0.9923380887548401,
          0.9927941689173418,
          0.9929044783733814,
          0.9918515253561907,
          0.9919949960566561,
          0.9922253500360986,
          0.9897242521036389,
          0.9892891586728831,
          0.989609250628328,
          0.9899585558141031,
          0.990930690942113,
          0.9905985349681432,
          0.9901108155196661,
          0.9898416537724449,
          0.9884298654477696,
          0.9860587373401777,
          0.987031595072902,
          0.9874667733897414,
          0.9870857637021764,
          0.9870565662697338,
          0.9862845414461018,
          0.9857626913429952,
          0.9836731287985558,
          0.9838197362190629,
          0.982976834561854,
          0.9809410542835417,
          0.981926648926596,
          0.9810954676242206,
          0.9804347833686613,
          0.979124079811138,
          0.9784006880407976,
          0.9778454828088674,
          0.9768643835812864,
          0.9749187904119425,
          0.974473720566796,
          0.9712029073907287,
          0.9697896303393025,
          0.9701493505166269,
          0.9670587691940228,
          0.9662819028232101,
          0.9654170254740351,
          0.9645034950878406,
          0.9637086329783031,
          0.9607982168319213,
          0.961225442800209,
          0.9598073487536487,
          0.9604810552938665,
          0.9596246583847645,
          0.9572057736247973,
          0.9578934693245384,
          0.9582781334995939,
          0.9577401666519281,
          0.958047018133413,
          0.9580034291665284,
          0.9572080780256763,
          0.9572772267079795,
          0.9569678763977134,
          0.9570414124331121,
          0.9530049615391819,
          0.9526141494885773,
          0.9490784916341934,
          0.9477314852838237,
          0.947389121040522,
          0.9476870666521773,
          0.9472177054987165,
          0.9455280012549747,
          0.9456063934742993,
          0.9474883606723871,
          0.9466435071439467,
          0.946871018674343,
          0.9467090377420349,
          0.944505509251389,
          0.9464292097167493,
          0.9466432249869867,
          0.9470912804460603,
          0.947829585141291,
          0.9528442072569786,
          0.9518739878453361,
          0.9589022698949299,
          0.9608656671642904,
          0.9580902618749284,
          0.9564292240910999,
          0.9545223825300905,
          0.9566527364150773,
          0.9543902372308195,
          0.9564007976483256,
          0.9543153920337246,
          0.9551580953699058,
          0.9540988874951242,
          0.9535892259035855,
          0.9546462827698623,
          0.9534251728203679,
          0.9539204483670527,
          0.9560870455734171,
          0.9569934736725905,
          0.9556208463037752,
          0.9540648698133422,
          0.9516979519139751,
          0.9517595761077777,
          0.9538196081983898,
          0.953148800844782,
          0.9534646585998082,
          0.9529537689131572,
          0.9531318885643152,
          0.9522274644144514,
          0.9514312730736125,
          0.9499070502111829,
          0.9499116262880781,
          0.9514066139742982,
          0.9529044064568638,
          0.9544605496113779,
          0.9564881918127042,
          0.9561397676890244,
          0.9541453359329561,
          0.9565848640681978,
          0.9561606769454637,
          0.9575560709858575,
          0.9558552100905099,
          0.9550574551462645,
          0.9547617226697374,
          0.9554804899466047,
          0.9536606020731739,
          0.9518421428315952,
          0.9516121856955704,
          0.9526434140612764,
          0.952540428643652,
          0.9533975097788713,
          0.9530913066713842,
          0.95340848599534,
          0.9537006163136241,
          0.9530413177505533,
          0.9524750129896492,
          0.9510334545376189,
          0.9513301879338523,
          0.9504105245253083,
          0.9498619898591549,
          0.9502100562641725,
          0.949638809172859,
          0.9504608273236961,
          0.9515373336447757,
          0.9517112760732656,
          0.9499026384390716,
          0.9481441183484041,
          0.9471317663222149,
          0.9459697961207262,
          0.9461924210709961,
          0.9446197402942971,
          0.9441116133767318,
          0.9433293294111667,
          0.9423300914825762,
          0.942312903487486,
          0.9413055092119784,
          0.9402718433987939,
          0.9398788231872555,
          0.9389415455189204,
          0.9381345462734635,
          0.9358750076649892,
          0.935649304404326,
          0.9344255677252099,
          0.9331521834734425,
          0.9337293968713948,
          0.9333094971487185,
          0.9332196778331862,
          0.9333239999047775,
          0.9344847277230983,
          0.9342792767449892,
          0.9346513533390531,
          0.9344987708243901,
          0.9327623567409392,
          0.9338921152095198,
          0.933911237787493,
          0.9335418851505923,
          0.9331769128925569,
          0.9325560862107245,
          0.9322647738796519,
          0.9321572902188044,
          0.9310587200013736,
          0.9302698603491781,
          0.9282492490275335,
          0.9284939332662558,
          0.9292227987724567,
          0.9287376344135579,
          0.9291419773833774,
          0.9283946118763219,
          0.9278200679944947,
          0.9251536941769227,
          0.923959554403078,
          0.9207663255930485,
          0.9199791127311151,
          0.9179927147833656,
          0.916372062302695,
          0.9162779203827484,
          0.9163688019184817,
          0.9153778004211351,
          0.9141649148347261,
          0.91411046964802,
          0.9151897741704947,
          0.9143526555208894,
          0.9142408360740726,
          0.9131565086060017,
          0.9127446188690929,
          0.9122349430160472,
          0.9119651424401347,
          0.9129669096157474,
          0.912163013420241,
          0.9130690904342444,
          0.9126813081726002,
          0.9116820313447301,
          0.9127992455523909,
          0.9124822938486556,
          0.9127660061724469,
          0.9127349579637586,
          0.9115290835008157,
          0.9107471644586622,
          0.9112737463951606,
          0.9110902197719044,
          0.9107985154379024,
          0.9109087478046292,
          0.9107240047755802,
          0.9100864011121486,
          0.9101798627329754,
          0.9103948329073893,
          0.9107686028240268,
          0.9098677028447449,
          0.9095377951710795,
          0.9097121823294757,
          0.9098939679408855,
          0.9100319515962775,
          0.9101686094155556,
          0.9096251028266091,
          0.9101474307777656,
          0.9100927894881342,
          0.9097303814222203,
          0.9100374552276854,
          0.9102100576359315,
          0.9098170730834902,
          0.9096206427085686,
          0.9093030139976458,
          0.9089555866169299,
          0.9096287130154443,
          0.9085269506745876,
          0.9082477536173184,
          0.9077169256661938,
          0.9073301725839046,
          0.9075975866119874,
          0.9065318342571279,
          0.9062020786851516,
          0.9061517907406909,
          0.905207342431001,
          0.9044105944943875,
          0.90442598786022,
          0.9035569242317946,
          0.9028416062507609,
          0.902393162394684,
          0.9014021219928037,
          0.899691139253511,
          0.8994917646921173,
          0.8991610116040135,
          0.8983386016888012,
          0.8981090263048327,
          0.8965746499807767,
          0.8966580817365465,
          0.8959483883791688,
          0.895496264564769,
          0.8955455743929167,
          0.8945967847258536,
          0.8937800789033347,
          0.8939484463728885,
          0.8932051958738914,
          0.8928469401105238,
          0.8923530311260737,
          0.8929925179927769,
          0.8929515250708371,
          0.8919612678774257,
          0.8914880156919113,
          0.8910119287788005,
          0.8898186589258682,
          0.889933472198409,
          0.8901418607279851,
          0.8902704007352491,
          0.889903038780623,
          0.8890599155427724,
          0.8895567009652854,
          0.8891433660650999,
          0.8897585508511915,
          0.8890268454265376,
          0.8887394923054329,
          0.8887728988372096,
          0.8892638582963502,
          0.8888307832398251,
          0.888854040633629,
          0.8887977302948362,
          0.8891597328669149,
          0.8891460654133454,
          0.8885658368807903,
          0.8878244015645704,
          0.888305260587557,
          0.8894544585714608,
          0.8889983342273536,
          0.8890610666900609,
          0.8898657214665106,
          0.8879642527031314,
          0.8883780727404992,
          0.8882317219371438,
          0.8883561639765007,
          0.8883503407107964,
          0.8880785782897389,
          0.8877116220497377,
          0.8879153136823499,
          0.8886334661530569,
          0.8881828496007286,
          0.8883744656072736
         ]
        },
        {
         "mode": "lines",
         "name": "ma_strat_weekly",
         "type": "scatter",
         "x": [
          "2022-01-02T00:00:00",
          "2022-01-09T00:00:00",
          "2022-01-16T00:00:00",
          "2022-01-23T00:00:00",
          "2022-01-30T00:00:00",
          "2022-02-06T00:00:00",
          "2022-02-13T00:00:00",
          "2022-02-20T00:00:00",
          "2022-02-27T00:00:00",
          "2022-03-06T00:00:00",
          "2022-03-13T00:00:00",
          "2022-03-20T00:00:00",
          "2022-03-27T00:00:00",
          "2022-04-03T00:00:00",
          "2022-04-10T00:00:00",
          "2022-04-17T00:00:00",
          "2022-04-24T00:00:00",
          "2022-05-01T00:00:00",
          "2022-05-08T00:00:00",
          "2022-05-15T00:00:00",
          "2022-05-22T00:00:00",
          "2022-05-29T00:00:00",
          "2022-06-05T00:00:00",
          "2022-06-12T00:00:00",
          "2022-06-19T00:00:00",
          "2022-06-26T00:00:00",
          "2022-07-03T00:00:00",
          "2022-07-10T00:00:00",
          "2022-07-17T00:00:00",
          "2022-07-24T00:00:00",
          "2022-07-31T00:00:00",
          "2022-08-07T00:00:00",
          "2022-08-14T00:00:00",
          "2022-08-21T00:00:00",
          "2022-08-28T00:00:00",
          "2022-09-04T00:00:00",
          "2022-09-11T00:00:00",
          "2022-09-18T00:00:00",
          "2022-09-25T00:00:00",
          "2022-10-02T00:00:00",
          "2022-10-09T00:00:00",
          "2022-10-16T00:00:00",
          "2022-10-23T00:00:00",
          "2022-10-30T00:00:00",
          "2022-11-06T00:00:00",
          "2022-11-13T00:00:00",
          "2022-11-20T00:00:00",
          "2022-11-27T00:00:00",
          "2022-12-04T00:00:00",
          "2022-12-11T00:00:00",
          "2022-12-18T00:00:00",
          "2022-12-25T00:00:00",
          "2023-01-01T00:00:00"
         ],
         "y": [
          1,
          1,
          1,
          1,
          1,
          1,
          1,
          0.9945586419753086,
          0.9953718777496484,
          0.9962929703271448,
          0.9935380771260157,
          0.9914165071336987,
          0.9901217135069783,
          0.9819593932984325,
          0.981242494375695,
          0.9803357955079394,
          0.9797150796906386,
          0.9686664521088442,
          0.9693693456565385,
          0.9674367052585803,
          0.9669199188569008,
          0.9653455448070963,
          0.9655259806449062,
          0.9677057486887316,
          0.965986859407968,
          0.9671743545256997,
          0.9670978920311637,
          0.9680159465851319,
          0.9684371260381369,
          0.9608326338080841,
          0.9581517522230355,
          0.9584794177599888,
          0.9579011696719253,
          0.9586531197880314,
          0.9576268238369182,
          0.9503310033595453,
          0.9502642067948164,
          0.9487446699296818,
          0.9489786640515617,
          0.9493682748702222,
          0.9492329205249579,
          0.94904282220886,
          0.9486302568906567,
          0.9414063968933494,
          0.9420776691968286,
          0.9421046462724131,
          0.9348455410274142,
          0.9349962699580979,
          0.934658066960883,
          0.935073602479548,
          0.9351779276155064,
          0.9352923751457999,
          0.9352923751457999
         ]
        },
        {
         "mode": "lines",
         "name": "ma_strat_monthly",
         "type": "scatter",
         "x": [
          "2022-01-31T00:00:00",
          "2022-02-28T00:00:00",
          "2022-03-31T00:00:00",
          "2022-04-30T00:00:00",
          "2022-05-31T00:00:00",
          "2022-06-30T00:00:00",
          "2022-07-31T00:00:00",
          "2022-08-31T00:00:00",
          "2022-09-30T00:00:00",
          "2022-10-31T00:00:00",
          "2022-11-30T00:00:00",
          "2022-12-31T00:00:00"
         ],
         "y": [
          1,
          0.9761172839506173,
          0.9371595266678318,
          0.9317523628928411,
          0.8988271037485132,
          0.8993019746208553,
          0.8563770828861339,
          0.8160331807115032,
          0.7867881754611185,
          0.7834891079262639,
          0.7520358825521796,
          0.7520358825521796
         ]
        },
        {
         "mode": "lines",
         "name": "mom_strat_daily",
         "type": "scatter",
         "x": [
          "2022-01-01T00:00:00",
          "2022-01-02T00:00:00",
          "2022-01-03T00:00:00",
          "2022-01-04T00:00:00",
          "2022-01-05T00:00:00",
          "2022-01-06T00:00:00",
          "2022-01-07T00:00:00",
          "2022-01-08T00:00:00",
          "2022-01-09T00:00:00",
          "2022-01-10T00:00:00",
          "2022-01-11T00:00:00",
          "2022-01-12T00:00:00",
          "2022-01-13T00:00:00",
          "2022-01-14T00:00:00",
          "2022-01-15T00:00:00",
          "2022-01-16T00:00:00",
          "2022-01-17T00:00:00",
          "2022-01-18T00:00:00",
          "2022-01-19T00:00:00",
          "2022-01-20T00:00:00",
          "2022-01-21T00:00:00",
          "2022-01-22T00:00:00",
          "2022-01-23T00:00:00",
          "2022-01-24T00:00:00",
          "2022-01-25T00:00:00",
          "2022-01-26T00:00:00",
          "2022-01-27T00:00:00",
          "2022-01-28T00:00:00",
          "2022-01-29T00:00:00",
          "2022-01-30T00:00:00",
          "2022-01-31T00:00:00",
          "2022-02-01T00:00:00",
          "2022-02-02T00:00:00",
          "2022-02-03T00:00:00",
          "2022-02-04T00:00:00",
          "2022-02-05T00:00:00",
          "2022-02-06T00:00:00",
          "2022-02-07T00:00:00",
          "2022-02-08T00:00:00",
          "2022-02-09T00:00:00",
          "2022-02-10T00:00:00",
          "2022-02-11T00:00:00",
          "2022-02-12T00:00:00",
          "2022-02-13T00:00:00",
          "2022-02-14T00:00:00",
          "2022-02-15T00:00:00",
          "2022-02-16T00:00:00",
          "2022-02-17T00:00:00",
          "2022-02-18T00:00:00",
          "2022-02-19T00:00:00",
          "2022-02-20T00:00:00",
          "2022-02-21T00:00:00",
          "2022-02-22T00:00:00",
          "2022-02-23T00:00:00",
          "2022-02-24T00:00:00",
          "2022-02-25T00:00:00",
          "2022-02-26T00:00:00",
          "2022-02-27T00:00:00",
          "2022-02-28T00:00:00",
          "2022-03-01T00:00:00",
          "2022-03-02T00:00:00",
          "2022-03-03T00:00:00",
          "2022-03-04T00:00:00",
          "2022-03-05T00:00:00",
          "2022-03-06T00:00:00",
          "2022-03-07T00:00:00",
          "2022-03-08T00:00:00",
          "2022-03-09T00:00:00",
          "2022-03-10T00:00:00",
          "2022-03-11T00:00:00",
          "2022-03-12T00:00:00",
          "2022-03-13T00:00:00",
          "2022-03-14T00:00:00",
          "2022-03-15T00:00:00",
          "2022-03-16T00:00:00",
          "2022-03-17T00:00:00",
          "2022-03-18T00:00:00",
          "2022-03-19T00:00:00",
          "2022-03-20T00:00:00",
          "2022-03-21T00:00:00",
          "2022-03-22T00:00:00",
          "2022-03-23T00:00:00",
          "2022-03-24T00:00:00",
          "2022-03-25T00:00:00",
          "2022-03-26T00:00:00",
          "2022-03-27T00:00:00",
          "2022-03-28T00:00:00",
          "2022-03-29T00:00:00",
          "2022-03-30T00:00:00",
          "2022-03-31T00:00:00",
          "2022-04-01T00:00:00",
          "2022-04-02T00:00:00",
          "2022-04-03T00:00:00",
          "2022-04-04T00:00:00",
          "2022-04-05T00:00:00",
          "2022-04-06T00:00:00",
          "2022-04-07T00:00:00",
          "2022-04-08T00:00:00",
          "2022-04-09T00:00:00",
          "2022-04-10T00:00:00",
          "2022-04-11T00:00:00",
          "2022-04-12T00:00:00",
          "2022-04-13T00:00:00",
          "2022-04-14T00:00:00",
          "2022-04-15T00:00:00",
          "2022-04-16T00:00:00",
          "2022-04-17T00:00:00",
          "2022-04-18T00:00:00",
          "2022-04-19T00:00:00",
          "2022-04-20T00:00:00",
          "2022-04-21T00:00:00",
          "2022-04-22T00:00:00",
          "2022-04-23T00:00:00",
          "2022-04-24T00:00:00",
          "2022-04-25T00:00:00",
          "2022-04-26T00:00:00",
          "2022-04-27T00:00:00",
          "2022-04-28T00:00:00",
          "2022-04-29T00:00:00",
          "2022-04-30T00:00:00",
          "2022-05-01T00:00:00",
          "2022-05-02T00:00:00",
          "2022-05-03T00:00:00",
          "2022-05-04T00:00:00",
          "2022-05-05T00:00:00",
          "2022-05-06T00:00:00",
          "2022-05-07T00:00:00",
          "2022-05-08T00:00:00",
          "2022-05-09T00:00:00",
          "2022-05-10T00:00:00",
          "2022-05-11T00:00:00",
          "2022-05-12T00:00:00",
          "2022-05-13T00:00:00",
          "2022-05-14T00:00:00",
          "2022-05-15T00:00:00",
          "2022-05-16T00:00:00",
          "2022-05-17T00:00:00",
          "2022-05-18T00:00:00",
          "2022-05-19T00:00:00",
          "2022-05-20T00:00:00",
          "2022-05-21T00:00:00",
          "2022-05-22T00:00:00",
          "2022-05-23T00:00:00",
          "2022-05-24T00:00:00",
          "2022-05-25T00:00:00",
          "2022-05-26T00:00:00",
          "2022-05-27T00:00:00",
          "2022-05-28T00:00:00",
          "2022-05-29T00:00:00",
          "2022-05-30T00:00:00",
          "2022-05-31T00:00:00",
          "2022-06-01T00:00:00",
          "2022-06-02T00:00:00",
          "2022-06-03T00:00:00",
          "2022-06-04T00:00:00",
          "2022-06-05T00:00:00",
          "2022-06-06T00:00:00",
          "2022-06-07T00:00:00",
          "2022-06-08T00:00:00",
          "2022-06-09T00:00:00",
          "2022-06-10T00:00:00",
          "2022-06-11T00:00:00",
          "2022-06-12T00:00:00",
          "2022-06-13T00:00:00",
          "2022-06-14T00:00:00",
          "2022-06-15T00:00:00",
          "2022-06-16T00:00:00",
          "2022-06-17T00:00:00",
          "2022-06-18T00:00:00",
          "2022-06-19T00:00:00",
          "2022-06-20T00:00:00",
          "2022-06-21T00:00:00",
          "2022-06-22T00:00:00",
          "2022-06-23T00:00:00",
          "2022-06-24T00:00:00",
          "2022-06-25T00:00:00",
          "2022-06-26T00:00:00",
          "2022-06-27T00:00:00",
          "2022-06-28T00:00:00",
          "2022-06-29T00:00:00",
          "2022-06-30T00:00:00",
          "2022-07-01T00:00:00",
          "2022-07-02T00:00:00",
          "2022-07-03T00:00:00",
          "2022-07-04T00:00:00",
          "2022-07-05T00:00:00",
          "2022-07-06T00:00:00",
          "2022-07-07T00:00:00",
          "2022-07-08T00:00:00",
          "2022-07-09T00:00:00",
          "2022-07-10T00:00:00",
          "2022-07-11T00:00:00",
          "2022-07-12T00:00:00",
          "2022-07-13T00:00:00",
          "2022-07-14T00:00:00",
          "2022-07-15T00:00:00",
          "2022-07-16T00:00:00",
          "2022-07-17T00:00:00",
          "2022-07-18T00:00:00",
          "2022-07-19T00:00:00",
          "2022-07-20T00:00:00",
          "2022-07-21T00:00:00",
          "2022-07-22T00:00:00",
          "2022-07-23T00:00:00",
          "2022-07-24T00:00:00",
          "2022-07-25T00:00:00",
          "2022-07-26T00:00:00",
          "2022-07-27T00:00:00",
          "2022-07-28T00:00:00",
          "2022-07-29T00:00:00",
          "2022-07-30T00:00:00",
          "2022-07-31T00:00:00",
          "2022-08-01T00:00:00",
          "2022-08-02T00:00:00",
          "2022-08-03T00:00:00",
          "2022-08-04T00:00:00",
          "2022-08-05T00:00:00",
          "2022-08-06T00:00:00",
          "2022-08-07T00:00:00",
          "2022-08-08T00:00:00",
          "2022-08-09T00:00:00",
          "2022-08-10T00:00:00",
          "2022-08-11T00:00:00",
          "2022-08-12T00:00:00",
          "2022-08-13T00:00:00",
          "2022-08-14T00:00:00",
          "2022-08-15T00:00:00",
          "2022-08-16T00:00:00",
          "2022-08-17T00:00:00",
          "2022-08-18T00:00:00",
          "2022-08-19T00:00:00",
          "2022-08-20T00:00:00",
          "2022-08-21T00:00:00",
          "2022-08-22T00:00:00",
          "2022-08-23T00:00:00",
          "2022-08-24T00:00:00",
          "2022-08-25T00:00:00",
          "2022-08-26T00:00:00",
          "2022-08-27T00:00:00",
          "2022-08-28T00:00:00",
          "2022-08-29T00:00:00",
          "2022-08-30T00:00:00",
          "2022-08-31T00:00:00",
          "2022-09-01T00:00:00",
          "2022-09-02T00:00:00",
          "2022-09-03T00:00:00",
          "2022-09-04T00:00:00",
          "2022-09-05T00:00:00",
          "2022-09-06T00:00:00",
          "2022-09-07T00:00:00",
          "2022-09-08T00:00:00",
          "2022-09-09T00:00:00",
          "2022-09-10T00:00:00",
          "2022-09-11T00:00:00",
          "2022-09-12T00:00:00",
          "2022-09-13T00:00:00",
          "2022-09-14T00:00:00",
          "2022-09-15T00:00:00",
          "2022-09-16T00:00:00",
          "2022-09-17T00:00:00",
          "2022-09-18T00:00:00",
          "2022-09-19T00:00:00",
          "2022-09-20T00:00:00",
          "2022-09-21T00:00:00",
          "2022-09-22T00:00:00",
          "2022-09-23T00:00:00",
          "2022-09-24T00:00:00",
          "2022-09-25T00:00:00",
          "2022-09-26T00:00:00",
          "2022-09-27T00:00:00",
          "2022-09-28T00:00:00",
          "2022-09-29T00:00:00",
          "2022-09-30T00:00:00",
          "2022-10-01T00:00:00",
          "2022-10-02T00:00:00",
          "2022-10-03T00:00:00",
          "2022-10-04T00:00:00",
          "2022-10-05T00:00:00",
          "2022-10-06T00:00:00",
          "2022-10-07T00:00:00",
          "2022-10-08T00:00:00",
          "2022-10-09T00:00:00",
          "2022-10-10T00:00:00",
          "2022-10-11T00:00:00",
          "2022-10-12T00:00:00",
          "2022-10-13T00:00:00",
          "2022-10-14T00:00:00",
          "2022-10-15T00:00:00",
          "2022-10-16T00:00:00",
          "2022-10-17T00:00:00",
          "2022-10-18T00:00:00",
          "2022-10-19T00:00:00",
          "2022-10-20T00:00:00",
          "2022-10-21T00:00:00",
          "2022-10-22T00:00:00",
          "2022-10-23T00:00:00",
          "2022-10-24T00:00:00",
          "2022-10-25T00:00:00",
          "2022-10-26T00:00:00",
          "2022-10-27T00:00:00",
          "2022-10-28T00:00:00",
          "2022-10-29T00:00:00",
          "2022-10-30T00:00:00",
          "2022-10-31T00:00:00",
          "2022-11-01T00:00:00",
          "2022-11-02T00:00:00",
          "2022-11-03T00:00:00",
          "2022-11-04T00:00:00",
          "2022-11-05T00:00:00",
          "2022-11-06T00:00:00",
          "2022-11-07T00:00:00",
          "2022-11-08T00:00:00",
          "2022-11-09T00:00:00",
          "2022-11-10T00:00:00",
          "2022-11-11T00:00:00",
          "2022-11-12T00:00:00",
          "2022-11-13T00:00:00",
          "2022-11-14T00:00:00",
          "2022-11-15T00:00:00",
          "2022-11-16T00:00:00",
          "2022-11-17T00:00:00",
          "2022-11-18T00:00:00",
          "2022-11-19T00:00:00",
          "2022-11-20T00:00:00",
          "2022-11-21T00:00:00",
          "2022-11-22T00:00:00",
          "2022-11-23T00:00:00",
          "2022-11-24T00:00:00",
          "2022-11-25T00:00:00",
          "2022-11-26T00:00:00",
          "2022-11-27T00:00:00",
          "2022-11-28T00:00:00",
          "2022-11-29T00:00:00",
          "2022-11-30T00:00:00",
          "2022-12-01T00:00:00",
          "2022-12-02T00:00:00",
          "2022-12-03T00:00:00",
          "2022-12-04T00:00:00",
          "2022-12-05T00:00:00",
          "2022-12-06T00:00:00",
          "2022-12-07T00:00:00",
          "2022-12-08T00:00:00",
          "2022-12-09T00:00:00",
          "2022-12-10T00:00:00",
          "2022-12-11T00:00:00",
          "2022-12-12T00:00:00",
          "2022-12-13T00:00:00",
          "2022-12-14T00:00:00",
          "2022-12-15T00:00:00",
          "2022-12-16T00:00:00",
          "2022-12-17T00:00:00",
          "2022-12-18T00:00:00",
          "2022-12-19T00:00:00",
          "2022-12-20T00:00:00",
          "2022-12-21T00:00:00",
          "2022-12-22T00:00:00",
          "2022-12-23T00:00:00",
          "2022-12-24T00:00:00",
          "2022-12-25T00:00:00",
          "2022-12-26T00:00:00",
          "2022-12-27T00:00:00",
          "2022-12-28T00:00:00",
          "2022-12-29T00:00:00",
          "2022-12-30T00:00:00"
         ],
         "y": [
          1,
          1,
          1,
          1,
          1,
          1,
          1,
          1,
          1,
          0.9975,
          0.9490321099254727,
          0.8983093431973874,
          0.9401039070878942,
          0.9204186837925753,
          0.9114640903479051,
          0.9071925202327881,
          0.8977335235090416,
          0.9088209295025372,
          0.9225684828557038,
          0.9319478031063122,
          1.0481403578969088,
          1.1386207572921705,
          1.089643677871092,
          1.1371535326429463,
          1.1125680834155587,
          1.1211874732189082,
          1.119048525822612,
          1.089097103429124,
          1.052909062211193,
          1.0627222759098338,
          1.0576171538589132,
          1.0515531358914578,
          1.0357292474228166,
          1.0346434244329663,
          1.0776432654275445,
          1.1003688238146794,
          1.1268093084722217,
          1.1722493024656158,
          1.1447565208660861,
          1.1835473898421136,
          1.1376798680721811,
          1.0829778310156133,
          1.0930145179824557,
          1.075608634744616,
          1.078645333441459,
          1.0477096947519324,
          1.0527200636284255,
          1.1022779101822717,
          1.120858749252687,
          1.1352183690889572,
          1.1935308707460799,
          1.2614325501071797,
          1.1979527239471999,
          1.227234628413267,
          1.2388141304477884,
          1.1642394506552765,
          1.169304565638298,
          1.1794205131892612,
          1.062269981509521,
          1.0579561437736504,
          1.0362348603231892,
          1.0137846344440133,
          0.9888309348717146,
          0.9854228582158122,
          0.9640858087744504,
          0.9696854178844921,
          0.9675326535697591,
          0.9527860955094902,
          0.9855865798623189,
          0.996939467948567,
          0.9910024565180722,
          1.0243625934842522,
          0.9993851591145251,
          0.9975285004198804,
          0.9789405614744499,
          0.9718789548439285,
          0.9903708118184201,
          0.9845472652551063,
          0.9554352141353941,
          0.9657427164539688,
          0.9930607032982657,
          1.0154014650100123,
          1.0461965572198455,
          1.036965685409084,
          1.0594787940374122,
          1.1128223027863755,
          1.0887060035334035,
          1.1297404336150443,
          1.1610074919725368,
          1.1405353819364865,
          1.1983717887026468,
          1.203760904545507,
          1.2366767702310384,
          1.2130463017489719,
          1.1817090240998467,
          1.1437256038541344,
          1.1129650411372063,
          1.154957447881464,
          1.1249187841535082,
          1.1456433652503646,
          1.2435123202725824,
          1.1932418020937765,
          1.1539698000850176,
          1.1774570173291923,
          1.1624800812460936,
          1.1629077442755882,
          1.2065533383555669,
          1.1813085831949677,
          1.1474133620674358,
          1.140567288646645,
          1.1006612873249797,
          1.087687902326258,
          1.1069063794320764,
          1.11809840202194,
          1.1148162923209253,
          1.1873748593991658,
          1.1327806060372252,
          1.1343803620840052,
          1.1980911216016066,
          1.3089600381658801,
          1.2476899685090321,
          1.257351835578825,
          1.2696074174341738,
          1.1548426400557232,
          1.251500514614338,
          1.2585941630700117,
          1.3078784698051957,
          1.342690056057835,
          1.5826078457456767,
          1.5259971959206122,
          1.9316233587570228,
          2.0740065705764663,
          1.8583432118960201,
          1.7423582959940092,
          1.6173031004246647,
          1.7472480951413885,
          1.5984863756363357,
          1.7192702510269906,
          1.5995086957576605,
          1.649607652103512,
          1.6881581799519059,
          1.7022172077062747,
          1.6580200830031715,
          1.6585677371406684,
          1.663700224545206,
          1.589472574480222,
          1.629257310785962,
          1.6526438761897306,
          1.6334128428782932,
          1.6029646644045688,
          1.5802741257924713,
          1.5461111988496747,
          1.5368996495903753,
          1.606859324518688,
          1.5706030303666412,
          1.550809471344369,
          1.5984646307715416,
          1.6314780977906724,
          1.671355362129975,
          1.6639742107668438,
          1.7049110651732784,
          1.7517667977919928,
          1.8498876972645597,
          1.9884727368101762,
          1.980986397203455,
          1.842979912030381,
          1.9978376525526724,
          1.9523371325460788,
          2.0785051098639187,
          1.9308610625087248,
          1.8763805902250497,
          1.8527692257121156,
          1.8802540244593424,
          1.8310476947525964,
          1.8983871579636402,
          1.894918430877325,
          1.7998285952197948,
          1.8143571318251837,
          1.7494076135686263,
          1.728114970896496,
          1.696822671023329,
          1.7021960778622949,
          1.685663764481783,
          1.6903154669515787,
          1.6224978576565263,
          1.6336650829562898,
          1.5665371287224226,
          1.5232166151091564,
          1.5043282802908857,
          1.5271210047741237,
          1.4654343609335025,
          1.3851922752255112,
          1.3893533765477069,
          1.3848841242380947,
          1.3550542194628186,
          1.3146991313533682,
          1.3205396070777062,
          1.3069797153820824,
          1.29936782975355,
          1.3108564799723978,
          1.2374010700563833,
          1.2715030186918412,
          1.246048532202186,
          1.257183284368902,
          1.2533949632994825,
          1.1881560125624484,
          1.1759743768579778,
          1.1751647128029925,
          1.1756154677586017,
          1.2008334928682753,
          1.1872878525379498,
          1.1795046631798942,
          1.1917209884502609,
          1.173973992588009,
          1.1873138380210657,
          1.194517063358261,
          1.250272060510432,
          1.2388433683066558,
          1.2451780683316762,
          1.251809246904516,
          1.2203230236700213,
          1.2289147516664205,
          1.2319433320653883,
          1.2577301662644138,
          1.2398511980000824,
          1.2118471543233293,
          1.209551653548055,
          1.2080945941133283,
          1.2361675316257825,
          1.2796771207418198,
          1.3680920344798653,
          1.3442093110913371,
          1.3062226736762845,
          1.3297013141651797,
          1.2938491359815827,
          1.2809557653547112,
          1.2598334545859564,
          1.3375849450054904,
          1.3235527306326877,
          1.361387275901859,
          1.305037978353585,
          1.3099000420086242,
          1.3022860803267615,
          1.2974873766978254,
          1.2993440653753416,
          1.288837393416821,
          1.267701526906881,
          1.2649550464038977,
          1.240692154693351,
          1.2216648622968151,
          1.2178675772100571,
          1.2195955914732755,
          1.2178922487834485,
          1.2115163681833534,
          1.206581476595561,
          1.1375759300258397,
          1.1466641536037188,
          1.1612554249663944,
          1.160578660683056,
          1.1324343776529393,
          1.1780330603253186,
          1.149589629576971,
          1.1758933219826995,
          1.1995731016207198,
          1.135704578932242,
          1.1251972649175799,
          1.1264163825989344,
          1.1436658212861992,
          1.1273082502546987,
          1.1310633791403495,
          1.1345556628471611,
          1.1190104889294796,
          1.1126361486273235,
          1.1026586570722519,
          1.1057647741205485,
          1.080148481330591,
          1.0829552809976157,
          1.0795267696152968,
          1.0705516947358644,
          1.069689305595603,
          1.0681332298196107,
          1.0665269473270018,
          1.0917040358270647,
          1.1066135790680534,
          1.106197742146435,
          1.1207831947593414,
          1.1302845351863784,
          1.1097573990933638,
          1.0785395721231512,
          1.064596394464447,
          1.0735847029604455,
          1.1002336978942715,
          1.1044256461346587,
          1.0942767002823433,
          1.091444123560188,
          1.0855784277153173,
          1.076769401893918,
          1.073946486570613,
          1.0794472257244174,
          1.0725722274889906,
          1.0847316189663978,
          1.097119698565494,
          1.0949875725426974,
          1.0997645198190293,
          1.0884675137395572,
          1.0717041622764223,
          1.1217308262245487,
          1.1600510395042283,
          1.1621754484661009,
          1.1096280608605225,
          1.1065092598995672,
          1.038136831611251,
          1.1744739197381435,
          1.0021638463954587,
          1.0386540990776507,
          1.075791678557609,
          1.0966807502446136,
          1.0796603277029708,
          1.0522508739654812,
          1.070906926668383,
          1.073899736683319,
          1.0623710845927552,
          1.0558134525665548,
          1.0814462377209515,
          1.0983556752281436,
          1.0797007164832448,
          1.0751390124123057,
          1.0811197016370335,
          1.0673482644164811,
          1.062194404035347,
          1.057707556751085,
          1.043879816617109,
          1.0341853009488284,
          1.065561625665716,
          1.050475280349478,
          1.0631311591409076,
          1.0443447099754481,
          1.0508434268207292,
          1.0643206228257458,
          1.0597443446448342,
          1.0283831563666903,
          1.0283084122233652,
          1.0240764840816377,
          1.019879604932473,
          1.028348227838668,
          1.0229725414812727,
          1.0105999952746847,
          1.0097807016941867,
          1.0295716079225659,
          1.11731849077937,
          1.08235711453813,
          1.084400289539154,
          1.1338189764371793,
          1.0827403558684379,
          1.0977557571792003,
          1.0901265470416168,
          1.0934072994205581,
          1.0918028692903434,
          1.0980104281345384,
          1.0966542262355312,
          1.099642345618184,
          1.1140297439437186,
          1.1142000218710495,
          1.1245209761419324
         ]
        },
        {
         "mode": "lines",
         "name": "mom_strat_weekly",
         "type": "scatter",
         "x": [
          "2022-01-02T00:00:00",
          "2022-01-09T00:00:00",
          "2022-01-16T00:00:00",
          "2022-01-23T00:00:00",
          "2022-01-30T00:00:00",
          "2022-02-06T00:00:00",
          "2022-02-13T00:00:00",
          "2022-02-20T00:00:00",
          "2022-02-27T00:00:00",
          "2022-03-06T00:00:00",
          "2022-03-13T00:00:00",
          "2022-03-20T00:00:00",
          "2022-03-27T00:00:00",
          "2022-04-03T00:00:00",
          "2022-04-10T00:00:00",
          "2022-04-17T00:00:00",
          "2022-04-24T00:00:00",
          "2022-05-01T00:00:00",
          "2022-05-08T00:00:00",
          "2022-05-15T00:00:00",
          "2022-05-22T00:00:00",
          "2022-05-29T00:00:00",
          "2022-06-05T00:00:00",
          "2022-06-12T00:00:00",
          "2022-06-19T00:00:00",
          "2022-06-26T00:00:00",
          "2022-07-03T00:00:00",
          "2022-07-10T00:00:00",
          "2022-07-17T00:00:00",
          "2022-07-24T00:00:00",
          "2022-07-31T00:00:00",
          "2022-08-07T00:00:00",
          "2022-08-14T00:00:00",
          "2022-08-21T00:00:00",
          "2022-08-28T00:00:00",
          "2022-09-04T00:00:00",
          "2022-09-11T00:00:00",
          "2022-09-18T00:00:00",
          "2022-09-25T00:00:00",
          "2022-10-02T00:00:00",
          "2022-10-09T00:00:00",
          "2022-10-16T00:00:00",
          "2022-10-23T00:00:00",
          "2022-10-30T00:00:00",
          "2022-11-06T00:00:00",
          "2022-11-13T00:00:00",
          "2022-11-20T00:00:00",
          "2022-11-27T00:00:00",
          "2022-12-04T00:00:00",
          "2022-12-11T00:00:00",
          "2022-12-18T00:00:00",
          "2022-12-25T00:00:00",
          "2023-01-01T00:00:00"
         ],
         "y": [
          1,
          1,
          0.986,
          0.9958851325795401,
          0.9994405382587428,
          0.9576059477034995,
          0.9134535515279192,
          0.9147540035900518,
          0.9459521094370982,
          0.9723088353825747,
          0.9966900778811228,
          1.0103144289361983,
          1.05840721853127,
          1.087741673543958,
          1.02802802307328,
          1.0597601468299735,
          1.0731562670464694,
          1.0307696903812147,
          1.0588952828172904,
          0.9855105888369216,
          0.9427969528965905,
          0.9800717574454852,
          0.9600810546763148,
          0.8713575666915023,
          0.8167310947507249,
          0.8376961082377721,
          0.8195986954299934,
          0.8348906951680102,
          0.8100254901022064,
          0.810406489093444,
          0.7987815949202745,
          0.7988405157826874,
          0.7787781379665399,
          0.7754200335030025,
          0.7949640103807132,
          0.7720899917157414,
          0.7593281354339726,
          0.7000394288886039,
          0.7005795643438928,
          0.7042843178049867,
          0.6919532817441453,
          0.6767768608747738,
          0.6576350856658636,
          0.6472465253712784,
          0.6192785259789211,
          0.5950976505458241,
          0.6246724189858099,
          0.6123760080767778,
          0.6061909024492456,
          0.5896581334151222,
          0.5906833907120795,
          0.5869353944475563,
          0.5869353944475563
         ]
        },
        {
         "mode": "lines",
         "name": "mom_strat_monthly",
         "type": "scatter",
         "x": [
          "2022-01-31T00:00:00",
          "2022-02-28T00:00:00",
          "2022-03-31T00:00:00",
          "2022-04-30T00:00:00",
          "2022-05-31T00:00:00",
          "2022-06-30T00:00:00",
          "2022-07-31T00:00:00",
          "2022-08-31T00:00:00",
          "2022-09-30T00:00:00",
          "2022-10-31T00:00:00",
          "2022-11-30T00:00:00",
          "2022-12-31T00:00:00"
         ],
         "y": [
          1,
          1.0642425149269577,
          1.0707396671202722,
          0.9614712812884769,
          0.9538323155602414,
          0.9257377299254902,
          0.9147174067845082,
          0.9136586948465105,
          0.9096460970755137,
          0.9092916048662433,
          0.9370324089540621,
          0.9370324089540621
         ]
        },
        {
         "mode": "lines",
         "name": "mco_strat_monthly",
         "type": "scatter",
         "x": [
          "2022-01-31T00:00:00",
          "2022-02-28T00:00:00",
          "2022-03-31T00:00:00",
          "2022-04-30T00:00:00",
          "2022-05-31T00:00:00",
          "2022-06-30T00:00:00",
          "2022-07-31T00:00:00",
          "2022-08-31T00:00:00",
          "2022-09-30T00:00:00",
          "2022-10-31T00:00:00",
          "2022-11-30T00:00:00",
          "2022-12-31T00:00:00"
         ],
         "y": [
          1,
          0.9972386492397064,
          0.9977502565674803,
          0.9999787388377721,
          0.9999641434397684,
          1.0005152165047226,
          1.0007748350670456,
          1.0005091448790626,
          1.0005999326010797,
          1.00042165102446,
          0.9996020343927062,
          0.9996020343927062
         ]
        }
       ],
       "layout": {
        "height": 600,
        "showlegend": true,
        "template": {
         "data": {
          "bar": [
           {
            "error_x": {
             "color": "#2a3f5f"
            },
            "error_y": {
             "color": "#2a3f5f"
            },
            "marker": {
             "line": {
              "color": "#E5ECF6",
              "width": 0.5
             },
             "pattern": {
              "fillmode": "overlay",
              "size": 10,
              "solidity": 0.2
             }
            },
            "type": "bar"
           }
          ],
          "barpolar": [
           {
            "marker": {
             "line": {
              "color": "#E5ECF6",
              "width": 0.5
             },
             "pattern": {
              "fillmode": "overlay",
              "size": 10,
              "solidity": 0.2
             }
            },
            "type": "barpolar"
           }
          ],
          "carpet": [
           {
            "aaxis": {
             "endlinecolor": "#2a3f5f",
             "gridcolor": "white",
             "linecolor": "white",
             "minorgridcolor": "white",
             "startlinecolor": "#2a3f5f"
            },
            "baxis": {
             "endlinecolor": "#2a3f5f",
             "gridcolor": "white",
             "linecolor": "white",
             "minorgridcolor": "white",
             "startlinecolor": "#2a3f5f"
            },
            "type": "carpet"
           }
          ],
          "choropleth": [
           {
            "colorbar": {
             "outlinewidth": 0,
             "ticks": ""
            },
            "type": "choropleth"
           }
          ],
          "contour": [
           {
            "colorbar": {
             "outlinewidth": 0,
             "ticks": ""
            },
            "colorscale": [
             [
              0,
              "#0d0887"
             ],
             [
              0.1111111111111111,
              "#46039f"
             ],
             [
              0.2222222222222222,
              "#7201a8"
             ],
             [
              0.3333333333333333,
              "#9c179e"
             ],
             [
              0.4444444444444444,
              "#bd3786"
             ],
             [
              0.5555555555555556,
              "#d8576b"
             ],
             [
              0.6666666666666666,
              "#ed7953"
             ],
             [
              0.7777777777777778,
              "#fb9f3a"
             ],
             [
              0.8888888888888888,
              "#fdca26"
             ],
             [
              1,
              "#f0f921"
             ]
            ],
            "type": "contour"
           }
          ],
          "contourcarpet": [
           {
            "colorbar": {
             "outlinewidth": 0,
             "ticks": ""
            },
            "type": "contourcarpet"
           }
          ],
          "heatmap": [
           {
            "colorbar": {
             "outlinewidth": 0,
             "ticks": ""
            },
            "colorscale": [
             [
              0,
              "#0d0887"
             ],
             [
              0.1111111111111111,
              "#46039f"
             ],
             [
              0.2222222222222222,
              "#7201a8"
             ],
             [
              0.3333333333333333,
              "#9c179e"
             ],
             [
              0.4444444444444444,
              "#bd3786"
             ],
             [
              0.5555555555555556,
              "#d8576b"
             ],
             [
              0.6666666666666666,
              "#ed7953"
             ],
             [
              0.7777777777777778,
              "#fb9f3a"
             ],
             [
              0.8888888888888888,
              "#fdca26"
             ],
             [
              1,
              "#f0f921"
             ]
            ],
            "type": "heatmap"
           }
          ],
          "heatmapgl": [
           {
            "colorbar": {
             "outlinewidth": 0,
             "ticks": ""
            },
            "colorscale": [
             [
              0,
              "#0d0887"
             ],
             [
              0.1111111111111111,
              "#46039f"
             ],
             [
              0.2222222222222222,
              "#7201a8"
             ],
             [
              0.3333333333333333,
              "#9c179e"
             ],
             [
              0.4444444444444444,
              "#bd3786"
             ],
             [
              0.5555555555555556,
              "#d8576b"
             ],
             [
              0.6666666666666666,
              "#ed7953"
             ],
             [
              0.7777777777777778,
              "#fb9f3a"
             ],
             [
              0.8888888888888888,
              "#fdca26"
             ],
             [
              1,
              "#f0f921"
             ]
            ],
            "type": "heatmapgl"
           }
          ],
          "histogram": [
           {
            "marker": {
             "pattern": {
              "fillmode": "overlay",
              "size": 10,
              "solidity": 0.2
             }
            },
            "type": "histogram"
           }
          ],
          "histogram2d": [
           {
            "colorbar": {
             "outlinewidth": 0,
             "ticks": ""
            },
            "colorscale": [
             [
              0,
              "#0d0887"
             ],
             [
              0.1111111111111111,
              "#46039f"
             ],
             [
              0.2222222222222222,
              "#7201a8"
             ],
             [
              0.3333333333333333,
              "#9c179e"
             ],
             [
              0.4444444444444444,
              "#bd3786"
             ],
             [
              0.5555555555555556,
              "#d8576b"
             ],
             [
              0.6666666666666666,
              "#ed7953"
             ],
             [
              0.7777777777777778,
              "#fb9f3a"
             ],
             [
              0.8888888888888888,
              "#fdca26"
             ],
             [
              1,
              "#f0f921"
             ]
            ],
            "type": "histogram2d"
           }
          ],
          "histogram2dcontour": [
           {
            "colorbar": {
             "outlinewidth": 0,
             "ticks": ""
            },
            "colorscale": [
             [
              0,
              "#0d0887"
             ],
             [
              0.1111111111111111,
              "#46039f"
             ],
             [
              0.2222222222222222,
              "#7201a8"
             ],
             [
              0.3333333333333333,
              "#9c179e"
             ],
             [
              0.4444444444444444,
              "#bd3786"
             ],
             [
              0.5555555555555556,
              "#d8576b"
             ],
             [
              0.6666666666666666,
              "#ed7953"
             ],
             [
              0.7777777777777778,
              "#fb9f3a"
             ],
             [
              0.8888888888888888,
              "#fdca26"
             ],
             [
              1,
              "#f0f921"
             ]
            ],
            "type": "histogram2dcontour"
           }
          ],
          "mesh3d": [
           {
            "colorbar": {
             "outlinewidth": 0,
             "ticks": ""
            },
            "type": "mesh3d"
           }
          ],
          "parcoords": [
           {
            "line": {
             "colorbar": {
              "outlinewidth": 0,
              "ticks": ""
             }
            },
            "type": "parcoords"
           }
          ],
          "pie": [
           {
            "automargin": true,
            "type": "pie"
           }
          ],
          "scatter": [
           {
            "fillpattern": {
             "fillmode": "overlay",
             "size": 10,
             "solidity": 0.2
            },
            "type": "scatter"
           }
          ],
          "scatter3d": [
           {
            "line": {
             "colorbar": {
              "outlinewidth": 0,
              "ticks": ""
             }
            },
            "marker": {
             "colorbar": {
              "outlinewidth": 0,
              "ticks": ""
             }
            },
            "type": "scatter3d"
           }
          ],
          "scattercarpet": [
           {
            "marker": {
             "colorbar": {
              "outlinewidth": 0,
              "ticks": ""
             }
            },
            "type": "scattercarpet"
           }
          ],
          "scattergeo": [
           {
            "marker": {
             "colorbar": {
              "outlinewidth": 0,
              "ticks": ""
             }
            },
            "type": "scattergeo"
           }
          ],
          "scattergl": [
           {
            "marker": {
             "colorbar": {
              "outlinewidth": 0,
              "ticks": ""
             }
            },
            "type": "scattergl"
           }
          ],
          "scattermapbox": [
           {
            "marker": {
             "colorbar": {
              "outlinewidth": 0,
              "ticks": ""
             }
            },
            "type": "scattermapbox"
           }
          ],
          "scatterpolar": [
           {
            "marker": {
             "colorbar": {
              "outlinewidth": 0,
              "ticks": ""
             }
            },
            "type": "scatterpolar"
           }
          ],
          "scatterpolargl": [
           {
            "marker": {
             "colorbar": {
              "outlinewidth": 0,
              "ticks": ""
             }
            },
            "type": "scatterpolargl"
           }
          ],
          "scatterternary": [
           {
            "marker": {
             "colorbar": {
              "outlinewidth": 0,
              "ticks": ""
             }
            },
            "type": "scatterternary"
           }
          ],
          "surface": [
           {
            "colorbar": {
             "outlinewidth": 0,
             "ticks": ""
            },
            "colorscale": [
             [
              0,
              "#0d0887"
             ],
             [
              0.1111111111111111,
              "#46039f"
             ],
             [
              0.2222222222222222,
              "#7201a8"
             ],
             [
              0.3333333333333333,
              "#9c179e"
             ],
             [
              0.4444444444444444,
              "#bd3786"
             ],
             [
              0.5555555555555556,
              "#d8576b"
             ],
             [
              0.6666666666666666,
              "#ed7953"
             ],
             [
              0.7777777777777778,
              "#fb9f3a"
             ],
             [
              0.8888888888888888,
              "#fdca26"
             ],
             [
              1,
              "#f0f921"
             ]
            ],
            "type": "surface"
           }
          ],
          "table": [
           {
            "cells": {
             "fill": {
              "color": "#EBF0F8"
             },
             "line": {
              "color": "white"
             }
            },
            "header": {
             "fill": {
              "color": "#C8D4E3"
             },
             "line": {
              "color": "white"
             }
            },
            "type": "table"
           }
          ]
         },
         "layout": {
          "annotationdefaults": {
           "arrowcolor": "#2a3f5f",
           "arrowhead": 0,
           "arrowwidth": 1
          },
          "autotypenumbers": "strict",
          "coloraxis": {
           "colorbar": {
            "outlinewidth": 0,
            "ticks": ""
           }
          },
          "colorscale": {
           "diverging": [
            [
             0,
             "#8e0152"
            ],
            [
             0.1,
             "#c51b7d"
            ],
            [
             0.2,
             "#de77ae"
            ],
            [
             0.3,
             "#f1b6da"
            ],
            [
             0.4,
             "#fde0ef"
            ],
            [
             0.5,
             "#f7f7f7"
            ],
            [
             0.6,
             "#e6f5d0"
            ],
            [
             0.7,
             "#b8e186"
            ],
            [
             0.8,
             "#7fbc41"
            ],
            [
             0.9,
             "#4d9221"
            ],
            [
             1,
             "#276419"
            ]
           ],
           "sequential": [
            [
             0,
             "#0d0887"
            ],
            [
             0.1111111111111111,
             "#46039f"
            ],
            [
             0.2222222222222222,
             "#7201a8"
            ],
            [
             0.3333333333333333,
             "#9c179e"
            ],
            [
             0.4444444444444444,
             "#bd3786"
            ],
            [
             0.5555555555555556,
             "#d8576b"
            ],
            [
             0.6666666666666666,
             "#ed7953"
            ],
            [
             0.7777777777777778,
             "#fb9f3a"
            ],
            [
             0.8888888888888888,
             "#fdca26"
            ],
            [
             1,
             "#f0f921"
            ]
           ],
           "sequentialminus": [
            [
             0,
             "#0d0887"
            ],
            [
             0.1111111111111111,
             "#46039f"
            ],
            [
             0.2222222222222222,
             "#7201a8"
            ],
            [
             0.3333333333333333,
             "#9c179e"
            ],
            [
             0.4444444444444444,
             "#bd3786"
            ],
            [
             0.5555555555555556,
             "#d8576b"
            ],
            [
             0.6666666666666666,
             "#ed7953"
            ],
            [
             0.7777777777777778,
             "#fb9f3a"
            ],
            [
             0.8888888888888888,
             "#fdca26"
            ],
            [
             1,
             "#f0f921"
            ]
           ]
          },
          "colorway": [
           "#636efa",
           "#EF553B",
           "#00cc96",
           "#ab63fa",
           "#FFA15A",
           "#19d3f3",
           "#FF6692",
           "#B6E880",
           "#FF97FF",
           "#FECB52"
          ],
          "font": {
           "color": "#2a3f5f"
          },
          "geo": {
           "bgcolor": "white",
           "lakecolor": "white",
           "landcolor": "#E5ECF6",
           "showlakes": true,
           "showland": true,
           "subunitcolor": "white"
          },
          "hoverlabel": {
           "align": "left"
          },
          "hovermode": "closest",
          "mapbox": {
           "style": "light"
          },
          "paper_bgcolor": "white",
          "plot_bgcolor": "#E5ECF6",
          "polar": {
           "angularaxis": {
            "gridcolor": "white",
            "linecolor": "white",
            "ticks": ""
           },
           "bgcolor": "#E5ECF6",
           "radialaxis": {
            "gridcolor": "white",
            "linecolor": "white",
            "ticks": ""
           }
          },
          "scene": {
           "xaxis": {
            "backgroundcolor": "#E5ECF6",
            "gridcolor": "white",
            "gridwidth": 2,
            "linecolor": "white",
            "showbackground": true,
            "ticks": "",
            "zerolinecolor": "white"
           },
           "yaxis": {
            "backgroundcolor": "#E5ECF6",
            "gridcolor": "white",
            "gridwidth": 2,
            "linecolor": "white",
            "showbackground": true,
            "ticks": "",
            "zerolinecolor": "white"
           },
           "zaxis": {
            "backgroundcolor": "#E5ECF6",
            "gridcolor": "white",
            "gridwidth": 2,
            "linecolor": "white",
            "showbackground": true,
            "ticks": "",
            "zerolinecolor": "white"
           }
          },
          "shapedefaults": {
           "line": {
            "color": "#2a3f5f"
           }
          },
          "ternary": {
           "aaxis": {
            "gridcolor": "white",
            "linecolor": "white",
            "ticks": ""
           },
           "baxis": {
            "gridcolor": "white",
            "linecolor": "white",
            "ticks": ""
           },
           "bgcolor": "#E5ECF6",
           "caxis": {
            "gridcolor": "white",
            "linecolor": "white",
            "ticks": ""
           }
          },
          "title": {
           "x": 0.05
          },
          "xaxis": {
           "automargin": true,
           "gridcolor": "white",
           "linecolor": "white",
           "ticks": "",
           "title": {
            "standoff": 15
           },
           "zerolinecolor": "white",
           "zerolinewidth": 2
          },
          "yaxis": {
           "automargin": true,
           "gridcolor": "white",
           "linecolor": "white",
           "ticks": "",
           "title": {
            "standoff": 15
           },
           "zerolinecolor": "white",
           "zerolinewidth": 2
          }
         }
        },
        "title": {
         "text": "Rendements cumulatifs avec coûts inclus"
        }
       }
      }
     },
     "metadata": {},
     "output_type": "display_data"
    },
    {
     "data": {
      "application/vnd.plotly.v1+json": {
       "config": {
        "plotlyServerURL": "https://plot.ly"
       },
       "data": [
        {
         "mode": "lines",
         "name": "day_var_strat_daily",
         "type": "scatter",
         "x": [
          "2022-01-01T00:00:00",
          "2022-01-02T00:00:00",
          "2022-01-03T00:00:00",
          "2022-01-04T00:00:00",
          "2022-01-05T00:00:00",
          "2022-01-06T00:00:00",
          "2022-01-07T00:00:00",
          "2022-01-08T00:00:00",
          "2022-01-09T00:00:00",
          "2022-01-10T00:00:00",
          "2022-01-11T00:00:00",
          "2022-01-12T00:00:00",
          "2022-01-13T00:00:00",
          "2022-01-14T00:00:00",
          "2022-01-15T00:00:00",
          "2022-01-16T00:00:00",
          "2022-01-17T00:00:00",
          "2022-01-18T00:00:00",
          "2022-01-19T00:00:00",
          "2022-01-20T00:00:00",
          "2022-01-21T00:00:00",
          "2022-01-22T00:00:00",
          "2022-01-23T00:00:00",
          "2022-01-24T00:00:00",
          "2022-01-25T00:00:00",
          "2022-01-26T00:00:00",
          "2022-01-27T00:00:00",
          "2022-01-28T00:00:00",
          "2022-01-29T00:00:00",
          "2022-01-30T00:00:00",
          "2022-01-31T00:00:00",
          "2022-02-01T00:00:00",
          "2022-02-02T00:00:00",
          "2022-02-03T00:00:00",
          "2022-02-04T00:00:00",
          "2022-02-05T00:00:00",
          "2022-02-06T00:00:00",
          "2022-02-07T00:00:00",
          "2022-02-08T00:00:00",
          "2022-02-09T00:00:00",
          "2022-02-10T00:00:00",
          "2022-02-11T00:00:00",
          "2022-02-12T00:00:00",
          "2022-02-13T00:00:00",
          "2022-02-14T00:00:00",
          "2022-02-15T00:00:00",
          "2022-02-16T00:00:00",
          "2022-02-17T00:00:00",
          "2022-02-18T00:00:00",
          "2022-02-19T00:00:00",
          "2022-02-20T00:00:00",
          "2022-02-21T00:00:00",
          "2022-02-22T00:00:00",
          "2022-02-23T00:00:00",
          "2022-02-24T00:00:00",
          "2022-02-25T00:00:00",
          "2022-02-26T00:00:00",
          "2022-02-27T00:00:00",
          "2022-02-28T00:00:00",
          "2022-03-01T00:00:00",
          "2022-03-02T00:00:00",
          "2022-03-03T00:00:00",
          "2022-03-04T00:00:00",
          "2022-03-05T00:00:00",
          "2022-03-06T00:00:00",
          "2022-03-07T00:00:00",
          "2022-03-08T00:00:00",
          "2022-03-09T00:00:00",
          "2022-03-10T00:00:00",
          "2022-03-11T00:00:00",
          "2022-03-12T00:00:00",
          "2022-03-13T00:00:00",
          "2022-03-14T00:00:00",
          "2022-03-15T00:00:00",
          "2022-03-16T00:00:00",
          "2022-03-17T00:00:00",
          "2022-03-18T00:00:00",
          "2022-03-19T00:00:00",
          "2022-03-20T00:00:00",
          "2022-03-21T00:00:00",
          "2022-03-22T00:00:00",
          "2022-03-23T00:00:00",
          "2022-03-24T00:00:00",
          "2022-03-25T00:00:00",
          "2022-03-26T00:00:00",
          "2022-03-27T00:00:00",
          "2022-03-28T00:00:00",
          "2022-03-29T00:00:00",
          "2022-03-30T00:00:00",
          "2022-03-31T00:00:00",
          "2022-04-01T00:00:00",
          "2022-04-02T00:00:00",
          "2022-04-03T00:00:00",
          "2022-04-04T00:00:00",
          "2022-04-05T00:00:00",
          "2022-04-06T00:00:00",
          "2022-04-07T00:00:00",
          "2022-04-08T00:00:00",
          "2022-04-09T00:00:00",
          "2022-04-10T00:00:00",
          "2022-04-11T00:00:00",
          "2022-04-12T00:00:00",
          "2022-04-13T00:00:00",
          "2022-04-14T00:00:00",
          "2022-04-15T00:00:00",
          "2022-04-16T00:00:00",
          "2022-04-17T00:00:00",
          "2022-04-18T00:00:00",
          "2022-04-19T00:00:00",
          "2022-04-20T00:00:00",
          "2022-04-21T00:00:00",
          "2022-04-22T00:00:00",
          "2022-04-23T00:00:00",
          "2022-04-24T00:00:00",
          "2022-04-25T00:00:00",
          "2022-04-26T00:00:00",
          "2022-04-27T00:00:00",
          "2022-04-28T00:00:00",
          "2022-04-29T00:00:00",
          "2022-04-30T00:00:00",
          "2022-05-01T00:00:00",
          "2022-05-02T00:00:00",
          "2022-05-03T00:00:00",
          "2022-05-04T00:00:00",
          "2022-05-05T00:00:00",
          "2022-05-06T00:00:00",
          "2022-05-07T00:00:00",
          "2022-05-08T00:00:00",
          "2022-05-09T00:00:00",
          "2022-05-10T00:00:00",
          "2022-05-11T00:00:00",
          "2022-05-12T00:00:00",
          "2022-05-13T00:00:00",
          "2022-05-14T00:00:00",
          "2022-05-15T00:00:00",
          "2022-05-16T00:00:00",
          "2022-05-17T00:00:00",
          "2022-05-18T00:00:00",
          "2022-05-19T00:00:00",
          "2022-05-20T00:00:00",
          "2022-05-21T00:00:00",
          "2022-05-22T00:00:00",
          "2022-05-23T00:00:00",
          "2022-05-24T00:00:00",
          "2022-05-25T00:00:00",
          "2022-05-26T00:00:00",
          "2022-05-27T00:00:00",
          "2022-05-28T00:00:00",
          "2022-05-29T00:00:00",
          "2022-05-30T00:00:00",
          "2022-05-31T00:00:00",
          "2022-06-01T00:00:00",
          "2022-06-02T00:00:00",
          "2022-06-03T00:00:00",
          "2022-06-04T00:00:00",
          "2022-06-05T00:00:00",
          "2022-06-06T00:00:00",
          "2022-06-07T00:00:00",
          "2022-06-08T00:00:00",
          "2022-06-09T00:00:00",
          "2022-06-10T00:00:00",
          "2022-06-11T00:00:00",
          "2022-06-12T00:00:00",
          "2022-06-13T00:00:00",
          "2022-06-14T00:00:00",
          "2022-06-15T00:00:00",
          "2022-06-16T00:00:00",
          "2022-06-17T00:00:00",
          "2022-06-18T00:00:00",
          "2022-06-19T00:00:00",
          "2022-06-20T00:00:00",
          "2022-06-21T00:00:00",
          "2022-06-22T00:00:00",
          "2022-06-23T00:00:00",
          "2022-06-24T00:00:00",
          "2022-06-25T00:00:00",
          "2022-06-26T00:00:00",
          "2022-06-27T00:00:00",
          "2022-06-28T00:00:00",
          "2022-06-29T00:00:00",
          "2022-06-30T00:00:00",
          "2022-07-01T00:00:00",
          "2022-07-02T00:00:00",
          "2022-07-03T00:00:00",
          "2022-07-04T00:00:00",
          "2022-07-05T00:00:00",
          "2022-07-06T00:00:00",
          "2022-07-07T00:00:00",
          "2022-07-08T00:00:00",
          "2022-07-09T00:00:00",
          "2022-07-10T00:00:00",
          "2022-07-11T00:00:00",
          "2022-07-12T00:00:00",
          "2022-07-13T00:00:00",
          "2022-07-14T00:00:00",
          "2022-07-15T00:00:00",
          "2022-07-16T00:00:00",
          "2022-07-17T00:00:00",
          "2022-07-18T00:00:00",
          "2022-07-19T00:00:00",
          "2022-07-20T00:00:00",
          "2022-07-21T00:00:00",
          "2022-07-22T00:00:00",
          "2022-07-23T00:00:00",
          "2022-07-24T00:00:00",
          "2022-07-25T00:00:00",
          "2022-07-26T00:00:00",
          "2022-07-27T00:00:00",
          "2022-07-28T00:00:00",
          "2022-07-29T00:00:00",
          "2022-07-30T00:00:00",
          "2022-07-31T00:00:00",
          "2022-08-01T00:00:00",
          "2022-08-02T00:00:00",
          "2022-08-03T00:00:00",
          "2022-08-04T00:00:00",
          "2022-08-05T00:00:00",
          "2022-08-06T00:00:00",
          "2022-08-07T00:00:00",
          "2022-08-08T00:00:00",
          "2022-08-09T00:00:00",
          "2022-08-10T00:00:00",
          "2022-08-11T00:00:00",
          "2022-08-12T00:00:00",
          "2022-08-13T00:00:00",
          "2022-08-14T00:00:00",
          "2022-08-15T00:00:00",
          "2022-08-16T00:00:00",
          "2022-08-17T00:00:00",
          "2022-08-18T00:00:00",
          "2022-08-19T00:00:00",
          "2022-08-20T00:00:00",
          "2022-08-21T00:00:00",
          "2022-08-22T00:00:00",
          "2022-08-23T00:00:00",
          "2022-08-24T00:00:00",
          "2022-08-25T00:00:00",
          "2022-08-26T00:00:00",
          "2022-08-27T00:00:00",
          "2022-08-28T00:00:00",
          "2022-08-29T00:00:00",
          "2022-08-30T00:00:00",
          "2022-08-31T00:00:00",
          "2022-09-01T00:00:00",
          "2022-09-02T00:00:00",
          "2022-09-03T00:00:00",
          "2022-09-04T00:00:00",
          "2022-09-05T00:00:00",
          "2022-09-06T00:00:00",
          "2022-09-07T00:00:00",
          "2022-09-08T00:00:00",
          "2022-09-09T00:00:00",
          "2022-09-10T00:00:00",
          "2022-09-11T00:00:00",
          "2022-09-12T00:00:00",
          "2022-09-13T00:00:00",
          "2022-09-14T00:00:00",
          "2022-09-15T00:00:00",
          "2022-09-16T00:00:00",
          "2022-09-17T00:00:00",
          "2022-09-18T00:00:00",
          "2022-09-19T00:00:00",
          "2022-09-20T00:00:00",
          "2022-09-21T00:00:00",
          "2022-09-22T00:00:00",
          "2022-09-23T00:00:00",
          "2022-09-24T00:00:00",
          "2022-09-25T00:00:00",
          "2022-09-26T00:00:00",
          "2022-09-27T00:00:00",
          "2022-09-28T00:00:00",
          "2022-09-29T00:00:00",
          "2022-09-30T00:00:00",
          "2022-10-01T00:00:00",
          "2022-10-02T00:00:00",
          "2022-10-03T00:00:00",
          "2022-10-04T00:00:00",
          "2022-10-05T00:00:00",
          "2022-10-06T00:00:00",
          "2022-10-07T00:00:00",
          "2022-10-08T00:00:00",
          "2022-10-09T00:00:00",
          "2022-10-10T00:00:00",
          "2022-10-11T00:00:00",
          "2022-10-12T00:00:00",
          "2022-10-13T00:00:00",
          "2022-10-14T00:00:00",
          "2022-10-15T00:00:00",
          "2022-10-16T00:00:00",
          "2022-10-17T00:00:00",
          "2022-10-18T00:00:00",
          "2022-10-19T00:00:00",
          "2022-10-20T00:00:00",
          "2022-10-21T00:00:00",
          "2022-10-22T00:00:00",
          "2022-10-23T00:00:00",
          "2022-10-24T00:00:00",
          "2022-10-25T00:00:00",
          "2022-10-26T00:00:00",
          "2022-10-27T00:00:00",
          "2022-10-28T00:00:00",
          "2022-10-29T00:00:00",
          "2022-10-30T00:00:00",
          "2022-10-31T00:00:00",
          "2022-11-01T00:00:00",
          "2022-11-02T00:00:00",
          "2022-11-03T00:00:00",
          "2022-11-04T00:00:00",
          "2022-11-05T00:00:00",
          "2022-11-06T00:00:00",
          "2022-11-07T00:00:00",
          "2022-11-08T00:00:00",
          "2022-11-09T00:00:00",
          "2022-11-10T00:00:00",
          "2022-11-11T00:00:00",
          "2022-11-12T00:00:00",
          "2022-11-13T00:00:00",
          "2022-11-14T00:00:00",
          "2022-11-15T00:00:00",
          "2022-11-16T00:00:00",
          "2022-11-17T00:00:00",
          "2022-11-18T00:00:00",
          "2022-11-19T00:00:00",
          "2022-11-20T00:00:00",
          "2022-11-21T00:00:00",
          "2022-11-22T00:00:00",
          "2022-11-23T00:00:00",
          "2022-11-24T00:00:00",
          "2022-11-25T00:00:00",
          "2022-11-26T00:00:00",
          "2022-11-27T00:00:00",
          "2022-11-28T00:00:00",
          "2022-11-29T00:00:00",
          "2022-11-30T00:00:00",
          "2022-12-01T00:00:00",
          "2022-12-02T00:00:00",
          "2022-12-03T00:00:00",
          "2022-12-04T00:00:00",
          "2022-12-05T00:00:00",
          "2022-12-06T00:00:00",
          "2022-12-07T00:00:00",
          "2022-12-08T00:00:00",
          "2022-12-09T00:00:00",
          "2022-12-10T00:00:00",
          "2022-12-11T00:00:00",
          "2022-12-12T00:00:00",
          "2022-12-13T00:00:00",
          "2022-12-14T00:00:00",
          "2022-12-15T00:00:00",
          "2022-12-16T00:00:00",
          "2022-12-17T00:00:00",
          "2022-12-18T00:00:00",
          "2022-12-19T00:00:00",
          "2022-12-20T00:00:00",
          "2022-12-21T00:00:00",
          "2022-12-22T00:00:00",
          "2022-12-23T00:00:00",
          "2022-12-24T00:00:00",
          "2022-12-25T00:00:00",
          "2022-12-26T00:00:00",
          "2022-12-27T00:00:00",
          "2022-12-28T00:00:00",
          "2022-12-29T00:00:00",
          "2022-12-30T00:00:00"
         ],
         "y": [
          1,
          0.14022222222222214,
          -0.08231605137113149,
          0.042576494943696204,
          0.040448773876265484,
          0.03517179548516819,
          0.03127026125686548,
          0.030133811881499138,
          -0.018585993961910515,
          0.010836306808182199,
          -0.008304478906650767,
          -0.008715355155624025,
          0.006688887678972441,
          -0.004346514957665932,
          0.0017441967985420447,
          -0.0010032557579968803,
          0.0004473022432348055,
          0.0004049859771918807,
          0.00038945432029925615,
          0.0004041332326805859,
          0.000453048059803224,
          0.0004612241817957166,
          -0.00027357831555703446,
          -0.0002114558729576553,
          -0.00013531332011366094,
          0.00007594283060660479,
          0.00005873487527570749,
          -0.00003717368707715268,
          -0.00003483496972455019,
          -0.000022517844326965838,
          -0.00001281945839767148,
          0.000004206450735657423,
          0.0000025789950652181965,
          0.0000018089564048451026,
          -5.61643906100432e-7,
          -4.289191855695346e-7,
          -3.183068120965741e-7,
          -3.062843605288068e-7,
          2.049815375359692e-7,
          -1.1811227904991835e-7,
          7.724243807859462e-8,
          7.931751894841212e-8,
          -3.840348720250042e-8,
          1.8020634917495562e-8,
          -1.2969245540093761e-8,
          -1.3271165090384679e-8,
          8.325860671825922e-9,
          -2.9229683470393984e-9,
          7.914272755572674e-10,
          7.129184589350129e-10,
          6.517245288407454e-10,
          6.471446077985633e-10,
          3.8230422150455183e-10,
          2.3824718322628695e-10,
          1.8181388683761622e-10,
          -1.2123426071290652e-10,
          7.807021935287429e-11,
          -2.9371891572902995e-11,
          -1.6790219288367642e-11,
          5.663655899539664e-12,
          3.4274925549764694e-12,
          3.2039112335635126e-12,
          -1.0476884296585468e-12,
          -5.769386655192724e-13,
          3.9676572013797553e-13,
          -1.5721648576516732e-13,
          -1.2789213784493037e-13,
          -1.0615196760463473e-13,
          8.14670870929948e-14,
          7.56212577900746e-14,
          -5.287188436404692e-14,
          -3.450745407181551e-14,
          2.5887887346711334e-14,
          2.0987463785545954e-14,
          -1.0490933220417313e-14,
          5.963288478869679e-15,
          -3.1492028380412006e-15,
          -2.64041838247825e-15,
          -1.8191825752151e-15,
          1.1609414559391646e-15,
          1.0207278829632005e-15,
          -4.2803690815999674e-16,
          -3.9898543224694243e-16,
          2.5009862225222837e-16,
          -1.6252130982515533e-16,
          -1.676588784325906e-16,
          1.2218950190827623e-16,
          7.627508364550512e-17,
          -2.9917894218400255e-17,
          1.8127255029728984e-17,
          -1.0229994807879126e-17,
          -6.773108962705723e-18,
          -4.268888018228537e-18,
          2.9088974268862524e-18,
          -1.3759377907514997e-18,
          3.479017536663358e-19,
          -2.6244857221991775e-19,
          1.995408242107497e-19,
          -1.5000832588360986e-19,
          -8.074928780687104e-20,
          -8.705780829339416e-20,
          -4.5085438825483614e-20,
          1.1214689231584902e-20,
          7.044235539945052e-21,
          -3.852012386366873e-21,
          -2.519274044126437e-21,
          -2.0883636314403563e-21,
          1.3954916268136092e-21,
          -4.749833898043549e-22,
          -4.558242304599047e-22,
          2.24628343288945e-22,
          1.7176988350366393e-22,
          -6.035725685351744e-23,
          1.6151198674245382e-23,
          1.3461551599747853e-23,
          1.1402178903387506e-23,
          -8.721592232958731e-24,
          4.4720361353688356e-24,
          3.4788998871134694e-24,
          3.756377600076884e-24,
          -2.798721622433105e-24,
          -1.9694604286617798e-24,
          8.601347147951763e-25,
          -6.913720784548782e-25,
          5.676113987530617e-25,
          -2.5145729197487054e-25,
          1.133337542189177e-25,
          -2.9851999294329953e-26,
          3.470159181217312e-27,
          1.8113621062082523e-27,
          7.057522162405653e-28,
          -1.5554738370639938e-28,
          -9.054363656973066e-29,
          3.466066485975918e-29,
          -1.0430574938162179e-29,
          8.166267678066329e-30,
          -6.549122432699191e-30,
          5.12327124757163e-30,
          -3.9165690320255564e-30,
          2.8913446605364037e-30,
          -2.1794982143596447e-30,
          -1.893951310675633e-30,
          -1.44071165925827e-30,
          -8.488349577484034e-31,
          5.6118075693722266e-31,
          5.266126616693502e-31,
          5.3425705890589965e-31,
          -4.111158487276646e-31,
          -4.046203760532384e-31,
          -3.962162340804719e-31,
          -3.320413840861078e-31,
          1.8832817499465907e-31,
          -1.4058543837575777e-31,
          1.0584380929491739e-31,
          -7.212160076725902e-32,
          3.514380729234429e-32,
          -2.2166723144590357e-32,
          -1.7343850272435137e-32,
          -1.441251044426712e-32,
          6.988984550623393e-33,
          6.36210603221696e-33,
          6.867076798929916e-33,
          7.426332491533432e-33,
          8.117146908400989e-33,
          -3.864193865743825e-33,
          -2.985324421270806e-33,
          2.4198060307767603e-33,
          -1.6308891678041614e-33,
          1.1264847867459747e-33,
          -8.905868442453144e-34,
          -7.64921648484594e-34,
          3.077890210381729e-34,
          -1.584561209170354e-34,
          -9.13577780170782e-35,
          -8.864025081647304e-35,
          -7.587452824717355e-35,
          5.013990922844745e-35,
          4.4541919003003e-35,
          3.2365490162965785e-35,
          2.935206341763067e-35,
          2.419497315273741e-35,
          -8.117691751936638e-36,
          -5.9671266044415666e-36,
          3.0923910338170435e-36,
          -1.4754295409450216e-36,
          -8.092482180222538e-37,
          6.079078336261371e-37,
          -2.4483043946740376e-37,
          -1.8304407570042415e-37,
          1.2314346437816102e-37,
          6.426791001244866e-38,
          6.769421433634288e-38,
          6.473400982155958e-38,
          -4.682472638167929e-38,
          -4.465619057945939e-38,
          1.9269749710569644e-38,
          -9.89814112234554e-39,
          5.607578780535868e-39,
          -3.436733441750927e-39,
          -3.3237909278092604e-39,
          2.0224135331430877e-39,
          -1.32041627710919e-39,
          -8.163174275987013e-40,
          5.3952302482092184e-40,
          -3.1114667954575947e-40,
          1.648287256189194e-40,
          1.3423714337396825e-40,
          -8.24865148454633e-41,
          -8.762036605154154e-41,
          -8.482260499164133e-41,
          4.883706897792522e-41,
          -2.723864680361624e-41,
          1.3704473871811082e-41,
          -6.368726026264223e-42,
          2.4924635417569587e-42,
          2.165402411994211e-42,
          -1.029316882746314e-42,
          6.445082639332118e-43,
          -4.6269337763567096e-43,
          1.6862077297943698e-43,
          1.1931283813610857e-43,
          -9.08082426472384e-44,
          -5.834589168332181e-44,
          -3.666478409746869e-44,
          -2.1626124841690123e-44,
          7.786051152648498e-45,
          6.086898070012981e-45,
          4.323001047517601e-45,
          3.522561647120567e-45,
          3.5828746024564475e-45,
          3.90381985803768e-45,
          -2.2821589959254565e-45,
          -1.959597614964087e-45,
          1.3073464375123496e-45,
          -7.60196271665e-46,
          -6.137459080843969e-46,
          -4.004547767927598e-46,
          2.7227129340175868e-46,
          2.141225401717738e-46,
          1.6922809267363926e-46,
          -1.3233696916742486e-46,
          9.303792968321056e-47,
          -5.929685914831446e-47,
          -4.617813872553577e-47,
          -2.870869227760032e-47,
          1.5213542459653852e-47,
          -7.940996354001224e-48,
          -5.70164288148882e-48,
          2.2539189547044315e-48,
          -1.735787069824952e-48,
          4.844359952220952e-49,
          -1.6630478486635894e-49,
          7.250004266747376e-50,
          -4.469912086255938e-50,
          2.0855284797944418e-50,
          2.025466434462885e-50,
          1.2736422319561575e-50,
          -8.231478053101336e-51,
          4.6866422828373435e-51,
          -1.9858285982862946e-51,
          -9.607462226577078e-52,
          -5.2005122107930784e-52,
          3.489167749724242e-52,
          3.555275390323214e-52,
          -2.4729123264526598e-52,
          1.2414406330321959e-52,
          9.756922685795416e-53,
          -4.1996732273797245e-53,
          -2.560792820308192e-53,
          1.2806002806660742e-53,
          -5.812159159141981e-54,
          2.2680780409008946e-54,
          -1.2993983402659391e-54,
          6.006048980551319e-55,
          5.545527645941564e-55,
          -4.1349139051170154e-55,
          -3.927738615717746e-55,
          2.5673204482342362e-55,
          2.1598550714508462e-55,
          1.780484436971393e-55,
          1.783571907633599e-55,
          1.2898078819269155e-55,
          7.999298364821105e-56,
          7.49445058783091e-56,
          -3.034942832050485e-56,
          1.4747314998149439e-56,
          1.282658586276986e-56,
          -7.710390501386834e-57,
          -6.08580029110842e-57,
          3.079855179110889e-57,
          -1.556202169237286e-57,
          4.1697615368222154e-58,
          -2.3795188899138746e-58,
          1.1292598605004305e-58,
          -6.219412159865604e-59,
          3.8523508810066934e-59,
          -2.1194540730293924e-59,
          -1.6370078327646677e-59,
          7.859355845867599e-60,
          5.699131510407123e-60,
          -3.6845560189769965e-60,
          1.0077592695574813e-60,
          6.468265410676087e-61,
          -3.0482064497905107e-61,
          1.3169869023254407e-61,
          1.1418400485259839e-61,
          -7.812302525235734e-62,
          -8.12984023244562e-62,
          -6.836712816585185e-62,
          4.228124846681725e-62,
          3.1552911149842742e-62,
          2.709022646525497e-62,
          3.2600362678337628e-62,
          -2.9409641227042983e-62,
          2.2336202107457268e-62,
          -5.440557684342636e-63,
          1.9897180928511787e-63,
          1.453873220526475e-63,
          -6.093663751527113e-64,
          3.9460811312839243e-64,
          3.731819739936098e-64,
          -2.3002116079480226e-64,
          1.1968289021434967e-64,
          6.868292400334158e-65,
          5.816663313982142e-65,
          -3.7554905848264636e-65,
          -3.877239732296341e-65,
          -2.523533722773032e-65,
          1.541645759878712e-65,
          -9.686746614895784e-66,
          4.011914679731742e-66,
          3.3057750713591043e-66,
          -2.1669584918322256e-66,
          -1.8676328741005495e-66,
          -1.2084346803218568e-66,
          7.609149494650185e-67,
          -5.321638077537538e-67,
          3.6870215619183816e-67,
          -1.9557195204277505e-67,
          1.2302694758481929e-67,
          1.0215398523049652e-67,
          -7.58320523015994e-68,
          -5.5158185756453815e-68,
          2.3481819306946274e-68,
          1.6517341392764566e-68,
          1.3099260615569904e-68,
          9.236091205945966e-69,
          8.644516142903406e-69,
          6.599831002885416e-69,
          6.529154706364899e-69,
          -4.921694326448843e-69,
          3.307792979111112e-69,
          3.2016391486078617e-69,
          -2.4441704443960287e-69,
          1.291875934106974e-69,
          7.301095861931843e-70,
          7.17336733081616e-70,
          -4.042992416885807e-70,
          -3.02135935841334e-70,
          2.1696446030890232e-70,
          1.5227995257934026e-70,
          1.3323141764101842e-70,
          1.038657581274175e-70,
          6.748077809086656e-71
         ]
        },
        {
         "mode": "lines",
         "name": "ols_strat",
         "type": "scatter",
         "x": [
          "2022-01-01T00:00:00",
          "2022-01-02T00:00:00",
          "2022-01-03T00:00:00",
          "2022-01-04T00:00:00",
          "2022-01-05T00:00:00",
          "2022-01-06T00:00:00",
          "2022-01-07T00:00:00",
          "2022-01-08T00:00:00",
          "2022-01-09T00:00:00",
          "2022-01-10T00:00:00",
          "2022-01-11T00:00:00",
          "2022-01-12T00:00:00",
          "2022-01-13T00:00:00",
          "2022-01-14T00:00:00",
          "2022-01-15T00:00:00",
          "2022-01-16T00:00:00",
          "2022-01-17T00:00:00",
          "2022-01-18T00:00:00",
          "2022-01-19T00:00:00",
          "2022-01-20T00:00:00",
          "2022-01-21T00:00:00",
          "2022-01-22T00:00:00",
          "2022-01-23T00:00:00",
          "2022-01-24T00:00:00",
          "2022-01-25T00:00:00",
          "2022-01-26T00:00:00",
          "2022-01-27T00:00:00",
          "2022-01-28T00:00:00",
          "2022-01-29T00:00:00",
          "2022-01-30T00:00:00",
          "2022-01-31T00:00:00",
          "2022-02-01T00:00:00",
          "2022-02-02T00:00:00",
          "2022-02-03T00:00:00",
          "2022-02-04T00:00:00",
          "2022-02-05T00:00:00",
          "2022-02-06T00:00:00",
          "2022-02-07T00:00:00",
          "2022-02-08T00:00:00",
          "2022-02-09T00:00:00",
          "2022-02-10T00:00:00",
          "2022-02-11T00:00:00",
          "2022-02-12T00:00:00",
          "2022-02-13T00:00:00",
          "2022-02-14T00:00:00",
          "2022-02-15T00:00:00",
          "2022-02-16T00:00:00",
          "2022-02-17T00:00:00",
          "2022-02-18T00:00:00",
          "2022-02-19T00:00:00",
          "2022-02-20T00:00:00",
          "2022-02-21T00:00:00",
          "2022-02-22T00:00:00",
          "2022-02-23T00:00:00",
          "2022-02-24T00:00:00",
          "2022-02-25T00:00:00",
          "2022-02-26T00:00:00",
          "2022-02-27T00:00:00",
          "2022-02-28T00:00:00",
          "2022-03-01T00:00:00",
          "2022-03-02T00:00:00",
          "2022-03-03T00:00:00",
          "2022-03-04T00:00:00",
          "2022-03-05T00:00:00",
          "2022-03-06T00:00:00",
          "2022-03-07T00:00:00",
          "2022-03-08T00:00:00",
          "2022-03-09T00:00:00",
          "2022-03-10T00:00:00",
          "2022-03-11T00:00:00",
          "2022-03-12T00:00:00",
          "2022-03-13T00:00:00",
          "2022-03-14T00:00:00",
          "2022-03-15T00:00:00",
          "2022-03-16T00:00:00",
          "2022-03-17T00:00:00",
          "2022-03-18T00:00:00",
          "2022-03-19T00:00:00",
          "2022-03-20T00:00:00",
          "2022-03-21T00:00:00",
          "2022-03-22T00:00:00",
          "2022-03-23T00:00:00",
          "2022-03-24T00:00:00",
          "2022-03-25T00:00:00",
          "2022-03-26T00:00:00",
          "2022-03-27T00:00:00",
          "2022-03-28T00:00:00",
          "2022-03-29T00:00:00",
          "2022-03-30T00:00:00",
          "2022-03-31T00:00:00",
          "2022-04-01T00:00:00",
          "2022-04-02T00:00:00",
          "2022-04-03T00:00:00",
          "2022-04-04T00:00:00",
          "2022-04-05T00:00:00",
          "2022-04-06T00:00:00",
          "2022-04-07T00:00:00",
          "2022-04-08T00:00:00",
          "2022-04-09T00:00:00",
          "2022-04-10T00:00:00",
          "2022-04-11T00:00:00",
          "2022-04-12T00:00:00",
          "2022-04-13T00:00:00",
          "2022-04-14T00:00:00",
          "2022-04-15T00:00:00",
          "2022-04-16T00:00:00",
          "2022-04-17T00:00:00",
          "2022-04-18T00:00:00",
          "2022-04-19T00:00:00",
          "2022-04-20T00:00:00",
          "2022-04-21T00:00:00",
          "2022-04-22T00:00:00",
          "2022-04-23T00:00:00",
          "2022-04-24T00:00:00",
          "2022-04-25T00:00:00",
          "2022-04-26T00:00:00",
          "2022-04-27T00:00:00",
          "2022-04-28T00:00:00",
          "2022-04-29T00:00:00",
          "2022-04-30T00:00:00",
          "2022-05-01T00:00:00",
          "2022-05-02T00:00:00",
          "2022-05-03T00:00:00",
          "2022-05-04T00:00:00",
          "2022-05-05T00:00:00",
          "2022-05-06T00:00:00",
          "2022-05-07T00:00:00",
          "2022-05-08T00:00:00",
          "2022-05-09T00:00:00",
          "2022-05-10T00:00:00",
          "2022-05-11T00:00:00",
          "2022-05-12T00:00:00",
          "2022-05-13T00:00:00",
          "2022-05-14T00:00:00",
          "2022-05-15T00:00:00",
          "2022-05-16T00:00:00",
          "2022-05-17T00:00:00",
          "2022-05-18T00:00:00",
          "2022-05-19T00:00:00",
          "2022-05-20T00:00:00",
          "2022-05-21T00:00:00",
          "2022-05-22T00:00:00",
          "2022-05-23T00:00:00",
          "2022-05-24T00:00:00",
          "2022-05-25T00:00:00",
          "2022-05-26T00:00:00",
          "2022-05-27T00:00:00",
          "2022-05-28T00:00:00",
          "2022-05-29T00:00:00",
          "2022-05-30T00:00:00",
          "2022-05-31T00:00:00",
          "2022-06-01T00:00:00",
          "2022-06-02T00:00:00",
          "2022-06-03T00:00:00",
          "2022-06-04T00:00:00",
          "2022-06-05T00:00:00",
          "2022-06-06T00:00:00",
          "2022-06-07T00:00:00",
          "2022-06-08T00:00:00",
          "2022-06-09T00:00:00",
          "2022-06-10T00:00:00",
          "2022-06-11T00:00:00",
          "2022-06-12T00:00:00",
          "2022-06-13T00:00:00",
          "2022-06-14T00:00:00",
          "2022-06-15T00:00:00",
          "2022-06-16T00:00:00",
          "2022-06-17T00:00:00",
          "2022-06-18T00:00:00",
          "2022-06-19T00:00:00",
          "2022-06-20T00:00:00",
          "2022-06-21T00:00:00",
          "2022-06-22T00:00:00",
          "2022-06-23T00:00:00",
          "2022-06-24T00:00:00",
          "2022-06-25T00:00:00",
          "2022-06-26T00:00:00",
          "2022-06-27T00:00:00",
          "2022-06-28T00:00:00",
          "2022-06-29T00:00:00",
          "2022-06-30T00:00:00",
          "2022-07-01T00:00:00",
          "2022-07-02T00:00:00",
          "2022-07-03T00:00:00",
          "2022-07-04T00:00:00",
          "2022-07-05T00:00:00",
          "2022-07-06T00:00:00",
          "2022-07-07T00:00:00",
          "2022-07-08T00:00:00",
          "2022-07-09T00:00:00",
          "2022-07-10T00:00:00",
          "2022-07-11T00:00:00",
          "2022-07-12T00:00:00",
          "2022-07-13T00:00:00",
          "2022-07-14T00:00:00",
          "2022-07-15T00:00:00",
          "2022-07-16T00:00:00",
          "2022-07-17T00:00:00",
          "2022-07-18T00:00:00",
          "2022-07-19T00:00:00",
          "2022-07-20T00:00:00",
          "2022-07-21T00:00:00",
          "2022-07-22T00:00:00",
          "2022-07-23T00:00:00",
          "2022-07-24T00:00:00",
          "2022-07-25T00:00:00",
          "2022-07-26T00:00:00",
          "2022-07-27T00:00:00",
          "2022-07-28T00:00:00",
          "2022-07-29T00:00:00",
          "2022-07-30T00:00:00",
          "2022-07-31T00:00:00",
          "2022-08-01T00:00:00",
          "2022-08-02T00:00:00",
          "2022-08-03T00:00:00",
          "2022-08-04T00:00:00",
          "2022-08-05T00:00:00",
          "2022-08-06T00:00:00",
          "2022-08-07T00:00:00",
          "2022-08-08T00:00:00",
          "2022-08-09T00:00:00",
          "2022-08-10T00:00:00",
          "2022-08-11T00:00:00",
          "2022-08-12T00:00:00",
          "2022-08-13T00:00:00",
          "2022-08-14T00:00:00",
          "2022-08-15T00:00:00",
          "2022-08-16T00:00:00",
          "2022-08-17T00:00:00",
          "2022-08-18T00:00:00",
          "2022-08-19T00:00:00",
          "2022-08-20T00:00:00",
          "2022-08-21T00:00:00",
          "2022-08-22T00:00:00",
          "2022-08-23T00:00:00",
          "2022-08-24T00:00:00",
          "2022-08-25T00:00:00",
          "2022-08-26T00:00:00",
          "2022-08-27T00:00:00",
          "2022-08-28T00:00:00",
          "2022-08-29T00:00:00",
          "2022-08-30T00:00:00",
          "2022-08-31T00:00:00",
          "2022-09-01T00:00:00",
          "2022-09-02T00:00:00",
          "2022-09-03T00:00:00",
          "2022-09-04T00:00:00",
          "2022-09-05T00:00:00",
          "2022-09-06T00:00:00",
          "2022-09-07T00:00:00",
          "2022-09-08T00:00:00",
          "2022-09-09T00:00:00",
          "2022-09-10T00:00:00",
          "2022-09-11T00:00:00",
          "2022-09-12T00:00:00",
          "2022-09-13T00:00:00",
          "2022-09-14T00:00:00",
          "2022-09-15T00:00:00",
          "2022-09-16T00:00:00",
          "2022-09-17T00:00:00",
          "2022-09-18T00:00:00",
          "2022-09-19T00:00:00",
          "2022-09-20T00:00:00",
          "2022-09-21T00:00:00",
          "2022-09-22T00:00:00",
          "2022-09-23T00:00:00",
          "2022-09-24T00:00:00",
          "2022-09-25T00:00:00",
          "2022-09-26T00:00:00",
          "2022-09-27T00:00:00",
          "2022-09-28T00:00:00",
          "2022-09-29T00:00:00",
          "2022-09-30T00:00:00",
          "2022-10-01T00:00:00",
          "2022-10-02T00:00:00",
          "2022-10-03T00:00:00",
          "2022-10-04T00:00:00",
          "2022-10-05T00:00:00",
          "2022-10-06T00:00:00",
          "2022-10-07T00:00:00",
          "2022-10-08T00:00:00",
          "2022-10-09T00:00:00",
          "2022-10-10T00:00:00",
          "2022-10-11T00:00:00",
          "2022-10-12T00:00:00",
          "2022-10-13T00:00:00",
          "2022-10-14T00:00:00",
          "2022-10-15T00:00:00",
          "2022-10-16T00:00:00",
          "2022-10-17T00:00:00",
          "2022-10-18T00:00:00",
          "2022-10-19T00:00:00",
          "2022-10-20T00:00:00",
          "2022-10-21T00:00:00",
          "2022-10-22T00:00:00",
          "2022-10-23T00:00:00",
          "2022-10-24T00:00:00",
          "2022-10-25T00:00:00",
          "2022-10-26T00:00:00",
          "2022-10-27T00:00:00",
          "2022-10-28T00:00:00",
          "2022-10-29T00:00:00",
          "2022-10-30T00:00:00",
          "2022-10-31T00:00:00",
          "2022-11-01T00:00:00",
          "2022-11-02T00:00:00",
          "2022-11-03T00:00:00",
          "2022-11-04T00:00:00",
          "2022-11-05T00:00:00",
          "2022-11-06T00:00:00",
          "2022-11-07T00:00:00",
          "2022-11-08T00:00:00",
          "2022-11-09T00:00:00",
          "2022-11-10T00:00:00",
          "2022-11-11T00:00:00",
          "2022-11-12T00:00:00",
          "2022-11-13T00:00:00",
          "2022-11-14T00:00:00",
          "2022-11-15T00:00:00",
          "2022-11-16T00:00:00",
          "2022-11-17T00:00:00",
          "2022-11-18T00:00:00",
          "2022-11-19T00:00:00",
          "2022-11-20T00:00:00",
          "2022-11-21T00:00:00",
          "2022-11-22T00:00:00",
          "2022-11-23T00:00:00",
          "2022-11-24T00:00:00",
          "2022-11-25T00:00:00",
          "2022-11-26T00:00:00",
          "2022-11-27T00:00:00",
          "2022-11-28T00:00:00",
          "2022-11-29T00:00:00",
          "2022-11-30T00:00:00",
          "2022-12-01T00:00:00",
          "2022-12-02T00:00:00",
          "2022-12-03T00:00:00",
          "2022-12-04T00:00:00",
          "2022-12-05T00:00:00",
          "2022-12-06T00:00:00",
          "2022-12-07T00:00:00",
          "2022-12-08T00:00:00",
          "2022-12-09T00:00:00",
          "2022-12-10T00:00:00",
          "2022-12-11T00:00:00",
          "2022-12-12T00:00:00",
          "2022-12-13T00:00:00",
          "2022-12-14T00:00:00",
          "2022-12-15T00:00:00",
          "2022-12-16T00:00:00",
          "2022-12-17T00:00:00",
          "2022-12-18T00:00:00",
          "2022-12-19T00:00:00",
          "2022-12-20T00:00:00",
          "2022-12-21T00:00:00",
          "2022-12-22T00:00:00",
          "2022-12-23T00:00:00",
          "2022-12-24T00:00:00",
          "2022-12-25T00:00:00",
          "2022-12-26T00:00:00",
          "2022-12-27T00:00:00",
          "2022-12-28T00:00:00",
          "2022-12-29T00:00:00",
          "2022-12-30T00:00:00"
         ],
         "y": [
          1,
          1,
          1,
          1,
          1,
          1,
          1,
          1,
          1,
          1,
          1,
          1,
          1,
          1,
          1,
          1,
          1,
          1,
          1,
          0.8746805555555556,
          0.13778509127122782,
          0.12115255874477181,
          0.12236941380290776,
          0.11701865503748388,
          -0.03413170480031005,
          -0.029994833901377277,
          -0.028220046899866017,
          -0.022822635920184183,
          -0.021182406576688004,
          -0.021269658685380034,
          -0.0209443841627581,
          -0.020394868796549774,
          -0.021281649170183357,
          -0.020845839051454915,
          -0.01904894878960655,
          -0.01865718543993147,
          -0.018208099258644635,
          -0.01745297803542988,
          -0.01585720139692995,
          -0.01378042273457958,
          0.008575202748989008,
          0.008297323781726724,
          0.008364971537091788,
          0.008182268715643882,
          0.008327358464529061,
          0.003224862769577368,
          0.0009757763753040919,
          -0.00040115546764151583,
          -0.00013686847303878697,
          -0.000049861029343272694,
          -0.000047271672818521595,
          -0.00004396062228228294,
          -0.00003958838363176081,
          -0.00003509571651480148,
          -0.00003038450397829355,
          -0.00002793621900168671,
          -0.000010038825889504858,
          -0.0000035325962656085218,
          -0.00000314993657571291,
          -0.000003103735340422466,
          -0.0000031647185101204714,
          -0.0000031303925469393066,
          -0.000002377111626771458,
          -0.0000019415819085204626,
          -2.8775156664871864e-7,
          -7.117160799892561e-8,
          -6.953821515662294e-8,
          -6.061486546081023e-8,
          2.5481823117389657e-8,
          2.53920784136897e-8,
          2.3932352961859773e-8,
          6.633131754788207e-9,
          3.4482124382171006e-11,
          3.3013128016714884e-11,
          3.0376217966897005e-11,
          3.0494828729741074e-11,
          -9.42461549275935e-12,
          -8.870698387203645e-12,
          -9.108106265874036e-12,
          -9.023534686226979e-12,
          -8.622974114905051e-12,
          -2.709514424838938e-12,
          -2.4894035267073875e-12,
          -4.898612085417539e-13,
          -4.685346975516184e-13,
          -1.5222287862287216e-13,
          -4.142916917298406e-14,
          -3.848408431090239e-14,
          -3.519259571856188e-14,
          -2.975474223732229e-14,
          -5.633751314625723e-15,
          -5.2140835165955705e-15,
          -1.4172585400168254e-15,
          5.864347611821696e-16,
          -2.4179742623846944e-16,
          9.638040101872456e-17,
          3.818810841955606e-17,
          1.176094501360788e-17,
          -2.9103837924097464e-18,
          -2.8162327778465907e-18,
          -2.5647406980191705e-18,
          -2.6683166375896377e-18,
          -6.629454768116333e-19,
          -2.185889055029165e-19,
          -3.181162273253002e-20,
          -3.176274654665713e-20,
          -1.079473050594561e-20,
          -1.0142188263538187e-20,
          -3.442468539831492e-21,
          -1.2400081238495014e-21,
          2.991698489769293e-22,
          3.006222411938597e-22,
          2.6837592958923304e-22,
          2.4088052373981673e-22,
          2.1010735207328963e-22,
          1.7879034121338637e-22,
          1.6830474329578021e-22,
          1.5674914644865518e-22,
          1.3877619483124948e-22,
          1.2788750309511975e-22,
          1.2441998203829274e-22,
          1.132756456534428e-22,
          3.768865149837875e-23,
          3.372414068348358e-24,
          3.199646757423003e-24,
          2.850026685414665e-24,
          2.8050064092555437e-24,
          2.756736038810089e-24,
          2.0876390354461034e-24,
          -6.689256838138513e-25,
          -4.669338087932723e-25,
          1.641223134266728e-25,
          1.748562835471795e-25,
          1.2734520741298075e-25,
          1.0913994213384634e-25,
          1.1770658087060806e-25,
          1.082540167059705e-25,
          1.1644737398778632e-25,
          1.0761357557480572e-25,
          1.1103456984655526e-25,
          1.0660188703971468e-25,
          1.0455187736840737e-25,
          1.073881965989336e-25,
          1.0226998324397495e-25,
          1.0438632401885382e-25,
          1.0836242610743492e-25,
          1.0154851596020333e-26,
          9.523397760924582e-27,
          7.796940536494988e-27,
          1.8390497274607344e-27,
          1.7004396799253156e-27,
          -1.0209210249742916e-27,
          -8.768127102638622e-28,
          -7.697112736725543e-28,
          -5.897493336862039e-28,
          -4.850575210232886e-28,
          -1.352947863833156e-28,
          -3.4640003018281777e-29,
          -3.2908576776392846e-29,
          -3.139863661184213e-29,
          1.4468287143108896e-29,
          1.357340374193482e-29,
          1.2571445549769025e-29,
          1.1349602691819218e-29,
          1.1461532812528683e-29,
          1.1302536236834718e-29,
          9.719866742493847e-30,
          7.723842348589769e-30,
          7.673081849885423e-30,
          -3.6907774696952715e-30,
          -3.592615748537904e-30,
          -3.5525675678920046e-30,
          -3.645071993006277e-30,
          -3.416419914993654e-30,
          -3.227251716857628e-30,
          -3.1959558806686116e-30,
          -3.3594910893843085e-30,
          -3.34986388609858e-30,
          -3.4576537757758246e-30,
          -2.6985336302346194e-30,
          -2.35458132713091e-30,
          -6.630544639995764e-31,
          -2.2223193969803656e-31,
          -2.165217028558849e-31,
          8.805664575380454e-32,
          7.687925049324307e-32,
          7.261866832877304e-32,
          5.743167314215215e-32,
          5.558772897134844e-32,
          5.207453771018528e-32,
          -1.967645685505162e-32,
          -1.6239605388160957e-32,
          -1.5220081968984845e-32,
          -1.2402555970938763e-32,
          -3.1044772554418845e-33,
          -1.1180376081751309e-33,
          -3.5591013399023765e-34,
          -1.1469362710089951e-34,
          -3.006679514667275e-35,
          -8.41735915560539e-36,
          2.765127252306777e-36,
          7.779803586505568e-37,
          5.734418049783544e-37,
          1.2611767559927934e-37,
          -3.940524452133622e-38,
          1.6404487777183856e-38,
          1.523250822043445e-38,
          2.4906312677383705e-39,
          4.787164326716034e-40,
          4.361134954112305e-40,
          1.4667771918920676e-40,
          1.3375442481159607e-40,
          1.2294878298921152e-40,
          1.8479800342667876e-41,
          1.8147691298693936e-41,
          -5.64443368004331e-42,
          -5.3611498363257683e-42,
          -5.3819075937070145e-42,
          -4.824726613887543e-42,
          -4.101830095519338e-42,
          -3.6518755246970446e-42,
          -3.302351242499623e-42,
          -2.8520833505063248e-42,
          -2.4470001289922248e-42,
          -2.1130595246679124e-42,
          -1.9189629515359295e-42,
          -1.7125972135816632e-42,
          -1.700910496367665e-42,
          -1.6006798138210306e-42,
          -1.528100897520686e-42,
          -1.390962625432002e-42,
          -1.404404200685148e-42,
          3.5030611973572217e-43,
          1.0579502601574984e-43,
          1.835888702479114e-44,
          1.697050246945073e-44,
          1.5216678512218815e-44,
          1.248554020390264e-44,
          9.58090176189941e-45,
          8.751924935894806e-45,
          7.475154032546659e-45,
          7.626160912505369e-45,
          7.633059148858045e-45,
          7.526992922280313e-45,
          7.472250636759394e-45,
          7.428532514023213e-45,
          7.318437307989813e-45,
          7.321853780846236e-45,
          -4.265643246943669e-45,
          -4.242162830208138e-46,
          -1.3816128980880225e-46,
          -4.0551584199314396e-47,
          -1.4617967511060782e-47,
          -1.4574310079281663e-47,
          -1.2521423693293042e-47,
          -9.4933650938008e-48,
          -9.722124678429761e-48,
          -9.46373324830085e-48,
          -9.562489127169268e-48,
          -9.39890038733415e-48,
          -2.6667865735671035e-48,
          -1.0033569753018327e-48,
          3.070648875357722e-49,
          2.9019900424919278e-49,
          -1.6112368119140096e-49,
          -4.369409237546725e-50,
          -4.2511427252474033e-50,
          -4.0423693136000046e-50,
          -9.984001559617915e-51,
          -1.0041448936039156e-50,
          -9.965257313285531e-51,
          -3.3490178697436243e-51,
          -1.2244196233160568e-51,
          4.035536421597859e-52,
          3.681470636701706e-52,
          3.146766565185259e-52,
          9.879526915775052e-53,
          9.92391580793377e-53,
          2.896286621910317e-53,
          2.4289870495719594e-53,
          2.312923616705041e-53,
          2.202090863248491e-53,
          1.7981857208837875e-53,
          1.7719271355879796e-53,
          1.7649150490725286e-53,
          1.7329932151502167e-53,
          1.6749785701030598e-53,
          -7.103812926805099e-54,
          -5.267102410559714e-54,
          -4.6773833808326073e-54,
          -4.1156003343322214e-54,
          -1.134875577126867e-54,
          -3.1003373169666594e-55,
          -8.041483920627159e-56,
          -2.5339302742217437e-56,
          -2.3855019039838406e-56,
          -2.4032653387685932e-56,
          -2.2118231317206866e-56,
          -7.711166964481941e-57,
          -2.2942407055239918e-57,
          -6.91622061979981e-58,
          -2.1666453172546247e-58,
          -2.1596466293759225e-58,
          -2.050842595712563e-58,
          -1.6089287671853478e-58,
          -1.595810506396669e-58,
          -3.1064582207800286e-59,
          -6.608928014328542e-60,
          -6.196168491946922e-60,
          -1.1397591305996887e-61,
          -1.1393481612646827e-61,
          -2.5073403645258268e-62,
          -1.997348801376021e-62,
          -2.3620060546537722e-62,
          -2.266903464042066e-62,
          -2.1830767885257072e-62,
          -2.1406871247620947e-62,
          -1.9175631833554644e-62,
          1.0242554446610474e-62,
          9.84446650013835e-63,
          9.852248500616835e-63,
          9.735564465401627e-63,
          9.725742689731722e-63,
          1.0173433430685198e-62,
          1.0195273949207928e-62,
          9.801983053055642e-63,
          9.399379085165791e-63,
          9.37307371302046e-63,
          9.219442690817281e-63,
          9.221852222049629e-63,
          9.16385406655145e-63,
          7.984899279523761e-63,
          7.119677147778576e-63,
          6.634335146045961e-63,
          6.147164417853279e-63,
          5.362445878852911e-63,
          4.238459770034745e-63,
          3.946297228140749e-63,
          3.204314320635461e-63,
          8.297368954618698e-64,
          1.922157604145319e-64,
          1.7600674089905176e-64,
          1.7248497293742522e-64,
          1.4633805243297615e-64,
          1.3903522554700606e-64,
          1.3225203347923346e-64,
          1.2673659370099923e-64,
          1.1800832926202258e-64,
          1.1609437021576769e-64,
          9.795370961872918e-65,
          1.0097638842355671e-64,
          9.992062253354277e-65,
          3.2292775831332582e-65,
          6.712176964059053e-66,
          6.190118935960964e-66,
          5.387029064139829e-66,
          5.152372213839834e-66,
          5.131513321823531e-66,
          5.163551710070414e-66,
          5.092323617309466e-66,
          5.156076928076178e-66,
          2.0112382879396615e-66,
          2.006024941205521e-66,
          4.280644784300504e-67
         ]
        }
       ],
       "layout": {
        "height": 600,
        "showlegend": true,
        "template": {
         "data": {
          "bar": [
           {
            "error_x": {
             "color": "#2a3f5f"
            },
            "error_y": {
             "color": "#2a3f5f"
            },
            "marker": {
             "line": {
              "color": "#E5ECF6",
              "width": 0.5
             },
             "pattern": {
              "fillmode": "overlay",
              "size": 10,
              "solidity": 0.2
             }
            },
            "type": "bar"
           }
          ],
          "barpolar": [
           {
            "marker": {
             "line": {
              "color": "#E5ECF6",
              "width": 0.5
             },
             "pattern": {
              "fillmode": "overlay",
              "size": 10,
              "solidity": 0.2
             }
            },
            "type": "barpolar"
           }
          ],
          "carpet": [
           {
            "aaxis": {
             "endlinecolor": "#2a3f5f",
             "gridcolor": "white",
             "linecolor": "white",
             "minorgridcolor": "white",
             "startlinecolor": "#2a3f5f"
            },
            "baxis": {
             "endlinecolor": "#2a3f5f",
             "gridcolor": "white",
             "linecolor": "white",
             "minorgridcolor": "white",
             "startlinecolor": "#2a3f5f"
            },
            "type": "carpet"
           }
          ],
          "choropleth": [
           {
            "colorbar": {
             "outlinewidth": 0,
             "ticks": ""
            },
            "type": "choropleth"
           }
          ],
          "contour": [
           {
            "colorbar": {
             "outlinewidth": 0,
             "ticks": ""
            },
            "colorscale": [
             [
              0,
              "#0d0887"
             ],
             [
              0.1111111111111111,
              "#46039f"
             ],
             [
              0.2222222222222222,
              "#7201a8"
             ],
             [
              0.3333333333333333,
              "#9c179e"
             ],
             [
              0.4444444444444444,
              "#bd3786"
             ],
             [
              0.5555555555555556,
              "#d8576b"
             ],
             [
              0.6666666666666666,
              "#ed7953"
             ],
             [
              0.7777777777777778,
              "#fb9f3a"
             ],
             [
              0.8888888888888888,
              "#fdca26"
             ],
             [
              1,
              "#f0f921"
             ]
            ],
            "type": "contour"
           }
          ],
          "contourcarpet": [
           {
            "colorbar": {
             "outlinewidth": 0,
             "ticks": ""
            },
            "type": "contourcarpet"
           }
          ],
          "heatmap": [
           {
            "colorbar": {
             "outlinewidth": 0,
             "ticks": ""
            },
            "colorscale": [
             [
              0,
              "#0d0887"
             ],
             [
              0.1111111111111111,
              "#46039f"
             ],
             [
              0.2222222222222222,
              "#7201a8"
             ],
             [
              0.3333333333333333,
              "#9c179e"
             ],
             [
              0.4444444444444444,
              "#bd3786"
             ],
             [
              0.5555555555555556,
              "#d8576b"
             ],
             [
              0.6666666666666666,
              "#ed7953"
             ],
             [
              0.7777777777777778,
              "#fb9f3a"
             ],
             [
              0.8888888888888888,
              "#fdca26"
             ],
             [
              1,
              "#f0f921"
             ]
            ],
            "type": "heatmap"
           }
          ],
          "heatmapgl": [
           {
            "colorbar": {
             "outlinewidth": 0,
             "ticks": ""
            },
            "colorscale": [
             [
              0,
              "#0d0887"
             ],
             [
              0.1111111111111111,
              "#46039f"
             ],
             [
              0.2222222222222222,
              "#7201a8"
             ],
             [
              0.3333333333333333,
              "#9c179e"
             ],
             [
              0.4444444444444444,
              "#bd3786"
             ],
             [
              0.5555555555555556,
              "#d8576b"
             ],
             [
              0.6666666666666666,
              "#ed7953"
             ],
             [
              0.7777777777777778,
              "#fb9f3a"
             ],
             [
              0.8888888888888888,
              "#fdca26"
             ],
             [
              1,
              "#f0f921"
             ]
            ],
            "type": "heatmapgl"
           }
          ],
          "histogram": [
           {
            "marker": {
             "pattern": {
              "fillmode": "overlay",
              "size": 10,
              "solidity": 0.2
             }
            },
            "type": "histogram"
           }
          ],
          "histogram2d": [
           {
            "colorbar": {
             "outlinewidth": 0,
             "ticks": ""
            },
            "colorscale": [
             [
              0,
              "#0d0887"
             ],
             [
              0.1111111111111111,
              "#46039f"
             ],
             [
              0.2222222222222222,
              "#7201a8"
             ],
             [
              0.3333333333333333,
              "#9c179e"
             ],
             [
              0.4444444444444444,
              "#bd3786"
             ],
             [
              0.5555555555555556,
              "#d8576b"
             ],
             [
              0.6666666666666666,
              "#ed7953"
             ],
             [
              0.7777777777777778,
              "#fb9f3a"
             ],
             [
              0.8888888888888888,
              "#fdca26"
             ],
             [
              1,
              "#f0f921"
             ]
            ],
            "type": "histogram2d"
           }
          ],
          "histogram2dcontour": [
           {
            "colorbar": {
             "outlinewidth": 0,
             "ticks": ""
            },
            "colorscale": [
             [
              0,
              "#0d0887"
             ],
             [
              0.1111111111111111,
              "#46039f"
             ],
             [
              0.2222222222222222,
              "#7201a8"
             ],
             [
              0.3333333333333333,
              "#9c179e"
             ],
             [
              0.4444444444444444,
              "#bd3786"
             ],
             [
              0.5555555555555556,
              "#d8576b"
             ],
             [
              0.6666666666666666,
              "#ed7953"
             ],
             [
              0.7777777777777778,
              "#fb9f3a"
             ],
             [
              0.8888888888888888,
              "#fdca26"
             ],
             [
              1,
              "#f0f921"
             ]
            ],
            "type": "histogram2dcontour"
           }
          ],
          "mesh3d": [
           {
            "colorbar": {
             "outlinewidth": 0,
             "ticks": ""
            },
            "type": "mesh3d"
           }
          ],
          "parcoords": [
           {
            "line": {
             "colorbar": {
              "outlinewidth": 0,
              "ticks": ""
             }
            },
            "type": "parcoords"
           }
          ],
          "pie": [
           {
            "automargin": true,
            "type": "pie"
           }
          ],
          "scatter": [
           {
            "fillpattern": {
             "fillmode": "overlay",
             "size": 10,
             "solidity": 0.2
            },
            "type": "scatter"
           }
          ],
          "scatter3d": [
           {
            "line": {
             "colorbar": {
              "outlinewidth": 0,
              "ticks": ""
             }
            },
            "marker": {
             "colorbar": {
              "outlinewidth": 0,
              "ticks": ""
             }
            },
            "type": "scatter3d"
           }
          ],
          "scattercarpet": [
           {
            "marker": {
             "colorbar": {
              "outlinewidth": 0,
              "ticks": ""
             }
            },
            "type": "scattercarpet"
           }
          ],
          "scattergeo": [
           {
            "marker": {
             "colorbar": {
              "outlinewidth": 0,
              "ticks": ""
             }
            },
            "type": "scattergeo"
           }
          ],
          "scattergl": [
           {
            "marker": {
             "colorbar": {
              "outlinewidth": 0,
              "ticks": ""
             }
            },
            "type": "scattergl"
           }
          ],
          "scattermapbox": [
           {
            "marker": {
             "colorbar": {
              "outlinewidth": 0,
              "ticks": ""
             }
            },
            "type": "scattermapbox"
           }
          ],
          "scatterpolar": [
           {
            "marker": {
             "colorbar": {
              "outlinewidth": 0,
              "ticks": ""
             }
            },
            "type": "scatterpolar"
           }
          ],
          "scatterpolargl": [
           {
            "marker": {
             "colorbar": {
              "outlinewidth": 0,
              "ticks": ""
             }
            },
            "type": "scatterpolargl"
           }
          ],
          "scatterternary": [
           {
            "marker": {
             "colorbar": {
              "outlinewidth": 0,
              "ticks": ""
             }
            },
            "type": "scatterternary"
           }
          ],
          "surface": [
           {
            "colorbar": {
             "outlinewidth": 0,
             "ticks": ""
            },
            "colorscale": [
             [
              0,
              "#0d0887"
             ],
             [
              0.1111111111111111,
              "#46039f"
             ],
             [
              0.2222222222222222,
              "#7201a8"
             ],
             [
              0.3333333333333333,
              "#9c179e"
             ],
             [
              0.4444444444444444,
              "#bd3786"
             ],
             [
              0.5555555555555556,
              "#d8576b"
             ],
             [
              0.6666666666666666,
              "#ed7953"
             ],
             [
              0.7777777777777778,
              "#fb9f3a"
             ],
             [
              0.8888888888888888,
              "#fdca26"
             ],
             [
              1,
              "#f0f921"
             ]
            ],
            "type": "surface"
           }
          ],
          "table": [
           {
            "cells": {
             "fill": {
              "color": "#EBF0F8"
             },
             "line": {
              "color": "white"
             }
            },
            "header": {
             "fill": {
              "color": "#C8D4E3"
             },
             "line": {
              "color": "white"
             }
            },
            "type": "table"
           }
          ]
         },
         "layout": {
          "annotationdefaults": {
           "arrowcolor": "#2a3f5f",
           "arrowhead": 0,
           "arrowwidth": 1
          },
          "autotypenumbers": "strict",
          "coloraxis": {
           "colorbar": {
            "outlinewidth": 0,
            "ticks": ""
           }
          },
          "colorscale": {
           "diverging": [
            [
             0,
             "#8e0152"
            ],
            [
             0.1,
             "#c51b7d"
            ],
            [
             0.2,
             "#de77ae"
            ],
            [
             0.3,
             "#f1b6da"
            ],
            [
             0.4,
             "#fde0ef"
            ],
            [
             0.5,
             "#f7f7f7"
            ],
            [
             0.6,
             "#e6f5d0"
            ],
            [
             0.7,
             "#b8e186"
            ],
            [
             0.8,
             "#7fbc41"
            ],
            [
             0.9,
             "#4d9221"
            ],
            [
             1,
             "#276419"
            ]
           ],
           "sequential": [
            [
             0,
             "#0d0887"
            ],
            [
             0.1111111111111111,
             "#46039f"
            ],
            [
             0.2222222222222222,
             "#7201a8"
            ],
            [
             0.3333333333333333,
             "#9c179e"
            ],
            [
             0.4444444444444444,
             "#bd3786"
            ],
            [
             0.5555555555555556,
             "#d8576b"
            ],
            [
             0.6666666666666666,
             "#ed7953"
            ],
            [
             0.7777777777777778,
             "#fb9f3a"
            ],
            [
             0.8888888888888888,
             "#fdca26"
            ],
            [
             1,
             "#f0f921"
            ]
           ],
           "sequentialminus": [
            [
             0,
             "#0d0887"
            ],
            [
             0.1111111111111111,
             "#46039f"
            ],
            [
             0.2222222222222222,
             "#7201a8"
            ],
            [
             0.3333333333333333,
             "#9c179e"
            ],
            [
             0.4444444444444444,
             "#bd3786"
            ],
            [
             0.5555555555555556,
             "#d8576b"
            ],
            [
             0.6666666666666666,
             "#ed7953"
            ],
            [
             0.7777777777777778,
             "#fb9f3a"
            ],
            [
             0.8888888888888888,
             "#fdca26"
            ],
            [
             1,
             "#f0f921"
            ]
           ]
          },
          "colorway": [
           "#636efa",
           "#EF553B",
           "#00cc96",
           "#ab63fa",
           "#FFA15A",
           "#19d3f3",
           "#FF6692",
           "#B6E880",
           "#FF97FF",
           "#FECB52"
          ],
          "font": {
           "color": "#2a3f5f"
          },
          "geo": {
           "bgcolor": "white",
           "lakecolor": "white",
           "landcolor": "#E5ECF6",
           "showlakes": true,
           "showland": true,
           "subunitcolor": "white"
          },
          "hoverlabel": {
           "align": "left"
          },
          "hovermode": "closest",
          "mapbox": {
           "style": "light"
          },
          "paper_bgcolor": "white",
          "plot_bgcolor": "#E5ECF6",
          "polar": {
           "angularaxis": {
            "gridcolor": "white",
            "linecolor": "white",
            "ticks": ""
           },
           "bgcolor": "#E5ECF6",
           "radialaxis": {
            "gridcolor": "white",
            "linecolor": "white",
            "ticks": ""
           }
          },
          "scene": {
           "xaxis": {
            "backgroundcolor": "#E5ECF6",
            "gridcolor": "white",
            "gridwidth": 2,
            "linecolor": "white",
            "showbackground": true,
            "ticks": "",
            "zerolinecolor": "white"
           },
           "yaxis": {
            "backgroundcolor": "#E5ECF6",
            "gridcolor": "white",
            "gridwidth": 2,
            "linecolor": "white",
            "showbackground": true,
            "ticks": "",
            "zerolinecolor": "white"
           },
           "zaxis": {
            "backgroundcolor": "#E5ECF6",
            "gridcolor": "white",
            "gridwidth": 2,
            "linecolor": "white",
            "showbackground": true,
            "ticks": "",
            "zerolinecolor": "white"
           }
          },
          "shapedefaults": {
           "line": {
            "color": "#2a3f5f"
           }
          },
          "ternary": {
           "aaxis": {
            "gridcolor": "white",
            "linecolor": "white",
            "ticks": ""
           },
           "baxis": {
            "gridcolor": "white",
            "linecolor": "white",
            "ticks": ""
           },
           "bgcolor": "#E5ECF6",
           "caxis": {
            "gridcolor": "white",
            "linecolor": "white",
            "ticks": ""
           }
          },
          "title": {
           "x": 0.05
          },
          "xaxis": {
           "automargin": true,
           "gridcolor": "white",
           "linecolor": "white",
           "ticks": "",
           "title": {
            "standoff": 15
           },
           "zerolinecolor": "white",
           "zerolinewidth": 2
          },
          "yaxis": {
           "automargin": true,
           "gridcolor": "white",
           "linecolor": "white",
           "ticks": "",
           "title": {
            "standoff": 15
           },
           "zerolinecolor": "white",
           "zerolinewidth": 2
          }
         }
        },
        "title": {
         "text": "Rendements cumulatifs avec coûts inclus"
        }
       }
      }
     },
     "metadata": {},
     "output_type": "display_data"
    }
   ],
   "source": [
    "# Graphique des différentes stratégies avec possibilité d'inclusion de coûts \n",
    "manager.plot_all_strategies(backend=backend,include_costs=True)\n",
    "manager2.plot_all_strategies(backend=backend,include_costs=True)"
   ]
  },
  {
   "cell_type": "code",
   "execution_count": 74,
   "metadata": {},
   "outputs": [
    {
     "data": {
      "application/vnd.plotly.v1+json": {
       "config": {
        "plotlyServerURL": "https://plot.ly"
       },
       "data": [
        {
         "mode": "lines",
         "name": "ma_strat_default",
         "type": "scatter",
         "x": [
          "2022-01-01T00:00:00",
          "2022-01-02T00:00:00",
          "2022-01-03T00:00:00",
          "2022-01-04T00:00:00",
          "2022-01-05T00:00:00",
          "2022-01-06T00:00:00",
          "2022-01-07T00:00:00",
          "2022-01-08T00:00:00",
          "2022-01-09T00:00:00",
          "2022-01-10T00:00:00",
          "2022-01-11T00:00:00",
          "2022-01-12T00:00:00",
          "2022-01-13T00:00:00",
          "2022-01-14T00:00:00",
          "2022-01-15T00:00:00",
          "2022-01-16T00:00:00",
          "2022-01-17T00:00:00",
          "2022-01-18T00:00:00",
          "2022-01-19T00:00:00",
          "2022-01-20T00:00:00",
          "2022-01-21T00:00:00",
          "2022-01-22T00:00:00",
          "2022-01-23T00:00:00",
          "2022-01-24T00:00:00",
          "2022-01-25T00:00:00",
          "2022-01-26T00:00:00",
          "2022-01-27T00:00:00",
          "2022-01-28T00:00:00",
          "2022-01-29T00:00:00",
          "2022-01-30T00:00:00",
          "2022-01-31T00:00:00",
          "2022-02-01T00:00:00",
          "2022-02-02T00:00:00",
          "2022-02-03T00:00:00",
          "2022-02-04T00:00:00",
          "2022-02-05T00:00:00",
          "2022-02-06T00:00:00",
          "2022-02-07T00:00:00",
          "2022-02-08T00:00:00",
          "2022-02-09T00:00:00",
          "2022-02-10T00:00:00",
          "2022-02-11T00:00:00",
          "2022-02-12T00:00:00",
          "2022-02-13T00:00:00",
          "2022-02-14T00:00:00",
          "2022-02-15T00:00:00",
          "2022-02-16T00:00:00",
          "2022-02-17T00:00:00",
          "2022-02-18T00:00:00",
          "2022-02-19T00:00:00",
          "2022-02-20T00:00:00",
          "2022-02-21T00:00:00",
          "2022-02-22T00:00:00",
          "2022-02-23T00:00:00",
          "2022-02-24T00:00:00",
          "2022-02-25T00:00:00",
          "2022-02-26T00:00:00",
          "2022-02-27T00:00:00",
          "2022-02-28T00:00:00",
          "2022-03-01T00:00:00",
          "2022-03-02T00:00:00",
          "2022-03-03T00:00:00",
          "2022-03-04T00:00:00",
          "2022-03-05T00:00:00",
          "2022-03-06T00:00:00",
          "2022-03-07T00:00:00",
          "2022-03-08T00:00:00",
          "2022-03-09T00:00:00",
          "2022-03-10T00:00:00",
          "2022-03-11T00:00:00",
          "2022-03-12T00:00:00",
          "2022-03-13T00:00:00",
          "2022-03-14T00:00:00",
          "2022-03-15T00:00:00",
          "2022-03-16T00:00:00",
          "2022-03-17T00:00:00",
          "2022-03-18T00:00:00",
          "2022-03-19T00:00:00",
          "2022-03-20T00:00:00",
          "2022-03-21T00:00:00",
          "2022-03-22T00:00:00",
          "2022-03-23T00:00:00",
          "2022-03-24T00:00:00",
          "2022-03-25T00:00:00",
          "2022-03-26T00:00:00",
          "2022-03-27T00:00:00",
          "2022-03-28T00:00:00",
          "2022-03-29T00:00:00",
          "2022-03-30T00:00:00",
          "2022-03-31T00:00:00",
          "2022-04-01T00:00:00",
          "2022-04-02T00:00:00",
          "2022-04-03T00:00:00",
          "2022-04-04T00:00:00",
          "2022-04-05T00:00:00",
          "2022-04-06T00:00:00",
          "2022-04-07T00:00:00",
          "2022-04-08T00:00:00",
          "2022-04-09T00:00:00",
          "2022-04-10T00:00:00",
          "2022-04-11T00:00:00",
          "2022-04-12T00:00:00",
          "2022-04-13T00:00:00",
          "2022-04-14T00:00:00",
          "2022-04-15T00:00:00",
          "2022-04-16T00:00:00",
          "2022-04-17T00:00:00",
          "2022-04-18T00:00:00",
          "2022-04-19T00:00:00",
          "2022-04-20T00:00:00",
          "2022-04-21T00:00:00",
          "2022-04-22T00:00:00",
          "2022-04-23T00:00:00",
          "2022-04-24T00:00:00",
          "2022-04-25T00:00:00",
          "2022-04-26T00:00:00",
          "2022-04-27T00:00:00",
          "2022-04-28T00:00:00",
          "2022-04-29T00:00:00",
          "2022-04-30T00:00:00",
          "2022-05-01T00:00:00",
          "2022-05-02T00:00:00",
          "2022-05-03T00:00:00",
          "2022-05-04T00:00:00",
          "2022-05-05T00:00:00",
          "2022-05-06T00:00:00",
          "2022-05-07T00:00:00",
          "2022-05-08T00:00:00",
          "2022-05-09T00:00:00",
          "2022-05-10T00:00:00",
          "2022-05-11T00:00:00",
          "2022-05-12T00:00:00",
          "2022-05-13T00:00:00",
          "2022-05-14T00:00:00",
          "2022-05-15T00:00:00",
          "2022-05-16T00:00:00",
          "2022-05-17T00:00:00",
          "2022-05-18T00:00:00",
          "2022-05-19T00:00:00",
          "2022-05-20T00:00:00",
          "2022-05-21T00:00:00",
          "2022-05-22T00:00:00",
          "2022-05-23T00:00:00",
          "2022-05-24T00:00:00",
          "2022-05-25T00:00:00",
          "2022-05-26T00:00:00",
          "2022-05-27T00:00:00",
          "2022-05-28T00:00:00",
          "2022-05-29T00:00:00",
          "2022-05-30T00:00:00",
          "2022-05-31T00:00:00",
          "2022-06-01T00:00:00",
          "2022-06-02T00:00:00",
          "2022-06-03T00:00:00",
          "2022-06-04T00:00:00",
          "2022-06-05T00:00:00",
          "2022-06-06T00:00:00",
          "2022-06-07T00:00:00",
          "2022-06-08T00:00:00",
          "2022-06-09T00:00:00",
          "2022-06-10T00:00:00",
          "2022-06-11T00:00:00",
          "2022-06-12T00:00:00",
          "2022-06-13T00:00:00",
          "2022-06-14T00:00:00",
          "2022-06-15T00:00:00",
          "2022-06-16T00:00:00",
          "2022-06-17T00:00:00",
          "2022-06-18T00:00:00",
          "2022-06-19T00:00:00",
          "2022-06-20T00:00:00",
          "2022-06-21T00:00:00",
          "2022-06-22T00:00:00",
          "2022-06-23T00:00:00",
          "2022-06-24T00:00:00",
          "2022-06-25T00:00:00",
          "2022-06-26T00:00:00",
          "2022-06-27T00:00:00",
          "2022-06-28T00:00:00",
          "2022-06-29T00:00:00",
          "2022-06-30T00:00:00",
          "2022-07-01T00:00:00",
          "2022-07-02T00:00:00",
          "2022-07-03T00:00:00",
          "2022-07-04T00:00:00",
          "2022-07-05T00:00:00",
          "2022-07-06T00:00:00",
          "2022-07-07T00:00:00",
          "2022-07-08T00:00:00",
          "2022-07-09T00:00:00",
          "2022-07-10T00:00:00",
          "2022-07-11T00:00:00",
          "2022-07-12T00:00:00",
          "2022-07-13T00:00:00",
          "2022-07-14T00:00:00",
          "2022-07-15T00:00:00",
          "2022-07-16T00:00:00",
          "2022-07-17T00:00:00",
          "2022-07-18T00:00:00",
          "2022-07-19T00:00:00",
          "2022-07-20T00:00:00",
          "2022-07-21T00:00:00",
          "2022-07-22T00:00:00",
          "2022-07-23T00:00:00",
          "2022-07-24T00:00:00",
          "2022-07-25T00:00:00",
          "2022-07-26T00:00:00",
          "2022-07-27T00:00:00",
          "2022-07-28T00:00:00",
          "2022-07-29T00:00:00",
          "2022-07-30T00:00:00",
          "2022-07-31T00:00:00",
          "2022-08-01T00:00:00",
          "2022-08-02T00:00:00",
          "2022-08-03T00:00:00",
          "2022-08-04T00:00:00",
          "2022-08-05T00:00:00",
          "2022-08-06T00:00:00",
          "2022-08-07T00:00:00",
          "2022-08-08T00:00:00",
          "2022-08-09T00:00:00",
          "2022-08-10T00:00:00",
          "2022-08-11T00:00:00",
          "2022-08-12T00:00:00",
          "2022-08-13T00:00:00",
          "2022-08-14T00:00:00",
          "2022-08-15T00:00:00",
          "2022-08-16T00:00:00",
          "2022-08-17T00:00:00",
          "2022-08-18T00:00:00",
          "2022-08-19T00:00:00",
          "2022-08-20T00:00:00",
          "2022-08-21T00:00:00",
          "2022-08-22T00:00:00",
          "2022-08-23T00:00:00",
          "2022-08-24T00:00:00",
          "2022-08-25T00:00:00",
          "2022-08-26T00:00:00",
          "2022-08-27T00:00:00",
          "2022-08-28T00:00:00",
          "2022-08-29T00:00:00",
          "2022-08-30T00:00:00",
          "2022-08-31T00:00:00",
          "2022-09-01T00:00:00",
          "2022-09-02T00:00:00",
          "2022-09-03T00:00:00",
          "2022-09-04T00:00:00",
          "2022-09-05T00:00:00",
          "2022-09-06T00:00:00",
          "2022-09-07T00:00:00",
          "2022-09-08T00:00:00",
          "2022-09-09T00:00:00",
          "2022-09-10T00:00:00",
          "2022-09-11T00:00:00",
          "2022-09-12T00:00:00",
          "2022-09-13T00:00:00",
          "2022-09-14T00:00:00",
          "2022-09-15T00:00:00",
          "2022-09-16T00:00:00",
          "2022-09-17T00:00:00",
          "2022-09-18T00:00:00",
          "2022-09-19T00:00:00",
          "2022-09-20T00:00:00",
          "2022-09-21T00:00:00",
          "2022-09-22T00:00:00",
          "2022-09-23T00:00:00",
          "2022-09-24T00:00:00",
          "2022-09-25T00:00:00",
          "2022-09-26T00:00:00",
          "2022-09-27T00:00:00",
          "2022-09-28T00:00:00",
          "2022-09-29T00:00:00",
          "2022-09-30T00:00:00",
          "2022-10-01T00:00:00",
          "2022-10-02T00:00:00",
          "2022-10-03T00:00:00",
          "2022-10-04T00:00:00",
          "2022-10-05T00:00:00",
          "2022-10-06T00:00:00",
          "2022-10-07T00:00:00",
          "2022-10-08T00:00:00",
          "2022-10-09T00:00:00",
          "2022-10-10T00:00:00",
          "2022-10-11T00:00:00",
          "2022-10-12T00:00:00",
          "2022-10-13T00:00:00",
          "2022-10-14T00:00:00",
          "2022-10-15T00:00:00",
          "2022-10-16T00:00:00",
          "2022-10-17T00:00:00",
          "2022-10-18T00:00:00",
          "2022-10-19T00:00:00",
          "2022-10-20T00:00:00",
          "2022-10-21T00:00:00",
          "2022-10-22T00:00:00",
          "2022-10-23T00:00:00",
          "2022-10-24T00:00:00",
          "2022-10-25T00:00:00",
          "2022-10-26T00:00:00",
          "2022-10-27T00:00:00",
          "2022-10-28T00:00:00",
          "2022-10-29T00:00:00",
          "2022-10-30T00:00:00",
          "2022-10-31T00:00:00",
          "2022-11-01T00:00:00",
          "2022-11-02T00:00:00",
          "2022-11-03T00:00:00",
          "2022-11-04T00:00:00",
          "2022-11-05T00:00:00",
          "2022-11-06T00:00:00",
          "2022-11-07T00:00:00",
          "2022-11-08T00:00:00",
          "2022-11-09T00:00:00",
          "2022-11-10T00:00:00",
          "2022-11-11T00:00:00",
          "2022-11-12T00:00:00",
          "2022-11-13T00:00:00",
          "2022-11-14T00:00:00",
          "2022-11-15T00:00:00",
          "2022-11-16T00:00:00",
          "2022-11-17T00:00:00",
          "2022-11-18T00:00:00",
          "2022-11-19T00:00:00",
          "2022-11-20T00:00:00",
          "2022-11-21T00:00:00",
          "2022-11-22T00:00:00",
          "2022-11-23T00:00:00",
          "2022-11-24T00:00:00",
          "2022-11-25T00:00:00",
          "2022-11-26T00:00:00",
          "2022-11-27T00:00:00",
          "2022-11-28T00:00:00",
          "2022-11-29T00:00:00",
          "2022-11-30T00:00:00",
          "2022-12-01T00:00:00",
          "2022-12-02T00:00:00",
          "2022-12-03T00:00:00",
          "2022-12-04T00:00:00",
          "2022-12-05T00:00:00",
          "2022-12-06T00:00:00",
          "2022-12-07T00:00:00",
          "2022-12-08T00:00:00",
          "2022-12-09T00:00:00",
          "2022-12-10T00:00:00",
          "2022-12-11T00:00:00",
          "2022-12-12T00:00:00",
          "2022-12-13T00:00:00",
          "2022-12-14T00:00:00",
          "2022-12-15T00:00:00",
          "2022-12-16T00:00:00",
          "2022-12-17T00:00:00",
          "2022-12-18T00:00:00",
          "2022-12-19T00:00:00",
          "2022-12-20T00:00:00",
          "2022-12-21T00:00:00",
          "2022-12-22T00:00:00",
          "2022-12-23T00:00:00",
          "2022-12-24T00:00:00",
          "2022-12-25T00:00:00",
          "2022-12-26T00:00:00",
          "2022-12-27T00:00:00",
          "2022-12-28T00:00:00",
          "2022-12-29T00:00:00",
          "2022-12-30T00:00:00"
         ],
         "y": [
          1,
          1,
          1,
          1,
          1,
          1,
          1,
          1,
          1,
          1,
          1,
          1,
          1,
          1,
          1,
          1,
          1,
          1,
          1,
          1,
          1,
          1,
          1,
          1,
          1,
          1,
          1,
          1,
          1,
          1,
          1,
          1,
          1,
          1,
          1,
          1,
          1,
          1,
          1,
          1,
          1,
          1,
          1,
          1,
          1,
          1,
          1,
          1,
          1,
          1,
          1.0016830493332238,
          1.0030372959550349,
          1.0020662093261126,
          1.0025267605482877,
          1.0026381513935236,
          1.0015748760335517,
          1.0017197532105884,
          1.0024161245485534,
          0.9998893387770738,
          0.999449776664839,
          0.9997731561647325,
          1.0001260489330905,
          1.0015711898154263,
          1.0012354671891175,
          1.002133115481288,
          1.0023246359867672,
          1.0018231218390758,
          1.000811285872101,
          1.0017986986514702,
          1.0022403877257282,
          1.002317677883909,
          1.002752065862138,
          1.0019677648268697,
          1.0019014905849204,
          1.0007054045158186,
          1.0008545504401591,
          0.9999970539617562,
          0.9983889857977021,
          0.9993921111453361,
          0.9990088272108598,
          0.9987985839196425,
          0.9979257372926503,
          0.9971884545716416,
          0.9975459106388649,
          0.9970068722414879,
          0.9959443163583968,
          0.996411818605188,
          0.9958351809873998,
          0.9957691639112761,
          0.9961385205727729,
          0.9957321976257119,
          0.9958542713148728,
          0.9963460559436312,
          0.9958645301395569,
          0.9950438229204832,
          0.9924994424143383,
          0.9934002550475016,
          0.9919346935623307,
          0.9926309508804161,
          0.9917458880532759,
          0.989246036685961,
          0.9904147356947732,
          0.9912709848736376,
          0.990714496200597,
          0.9910319123657251,
          0.9909868226609485,
          0.990164088132056,
          0.9906940268555832,
          0.9912911869749358,
          0.9913673605076256,
          0.9903988999045537,
          0.9904512712087576,
          0.9904435177096267,
          0.9904134188790659,
          0.9905141606873594,
          0.9912842401183636,
          0.9912522144734651,
          0.9913196110578301,
          0.9923196883152846,
          0.99429462536765,
          0.9934080357720217,
          0.9936467864535833,
          0.9939368252655435,
          0.9916233709463597,
          0.9941021225563564,
          0.9943269180637417,
          0.9952578792153475,
          0.9960337321667588,
          1.0013033849182602,
          1.0002838226712611,
          1.0076695448625916,
          1.009732795409509,
          1.0068162402270429,
          1.0050707263825367,
          1.0030669078201737,
          1.0053056059618688,
          1.0029280419547433,
          1.0050408542448312,
          1.002849390325626,
          1.003734951361285,
          1.0026218749294051,
          1.0020862932751495,
          1.0031971093038274,
          1.0019138968788854,
          1.0024343608514696,
          1.0047111455555844,
          1.0056636722299084,
          1.0042212366038548,
          1.0025861271968206,
          1.0000988340103694,
          1.0001635922503602,
          1.002328392214153,
          1.0016234693435726,
          1.0019553908023502,
          1.0014185185952595,
          1.0016056969485168,
          1.0006552761391512,
          1.0002818589094677,
          0.9991424693233,
          0.999147282586627,
          1.0007197582178855,
          1.0027584802075724,
          1.0048602777310942,
          1.006994988386651,
          1.0066281659319862,
          1.0045284193797224,
          1.0070967653637548,
          1.0066501792894178,
          1.0081192562916526,
          1.0063285824367962,
          1.005488702511783,
          1.0051773540557172,
          1.0059340754160198,
          1.0040180894334878,
          1.0025684307104255,
          1.0023262185256305,
          1.0034124038895547,
          1.0033039300955424,
          1.004206687443701,
          1.0043490764331924,
          1.0046833138340048,
          1.0049911550799726,
          1.0047616727638704,
          1.0046298027961322,
          1.0035744151432893,
          1.0038875419246422,
          1.0029170706305415,
          1.0023382315222598,
          1.0027055272647807,
          1.002102720956725,
          1.0029701524661292,
          1.00410613164375,
          1.0047545476759092,
          1.0028451063004198,
          1.00191713603459,
          1.0017750705571986,
          1.001009847034704,
          1.001245425134903,
          0.9995812399250011,
          0.9990435482882152,
          1.0000658287688335,
          0.9999324785992353,
          0.99991423994307,
          0.9997711125807908,
          0.9995989585491718,
          1.0001066950414312,
          1.000035380902085,
          1.000101831558378,
          1.000008092534528,
          1.0006928558343204,
          1.0003106160870836,
          1.0003367675812591,
          1.0009555388759506,
          1.00050540744109,
          1.0008723183111483,
          1.0009842030861105,
          1.0022290764744946,
          1.0020087315743134,
          1.0024077814144912,
          1.0027082152901405,
          1.0017734931708453,
          1.0029868376838718,
          1.0030073750604032,
          1.0035394061186085,
          1.0031470680254766,
          1.002479691392999,
          1.002166536291584,
          1.0020509934424733,
          1.0008700517824187,
          1.0000220429683873,
          0.9978499250184866,
          0.998112955825695,
          0.9988964720972924,
          0.9988373818991242,
          0.9992722440802168,
          0.998931094565393,
          0.9992378348574882,
          0.9972914405321094,
          0.9973893161466731,
          0.9967128380040029,
          0.9972450177528882,
          0.997400226563836,
          0.9974864230841505,
          0.9973839480187782,
          0.997482874101024,
          0.9973277475348049,
          0.9969297289912236,
          0.9968703545563191,
          0.9980473749687513,
          0.9971344669639243,
          0.9970125238341869,
          0.9958300257188692,
          0.9958418775613233,
          0.9957468381728667,
          0.9959133322113197,
          0.9974683850180832,
          0.9965900826049197,
          0.9975800233862787,
          0.9976181917664738,
          0.9969877794879429,
          0.99867109942937,
          0.9983243304021413,
          0.9986347330451132,
          0.9990630948621122,
          0.9977431665932853,
          0.9973492103548046,
          0.9979258644461363,
          0.9981868891730544,
          0.9978672990431234,
          0.9979880691939178,
          0.9977856654522677,
          0.9970871093669158,
          0.9971895055539516,
          0.9974250260380996,
          0.997834526900098,
          0.997309464827758,
          0.9969478517663896,
          0.9971389981968752,
          0.9973382540999715,
          0.997489498511751,
          0.9976392896695012,
          0.9975054200626488,
          0.9985400190066248,
          0.9989423580566288,
          0.9990070425163476,
          0.9993442511008872,
          0.999533791897715,
          0.9991022416895365,
          0.9988865345614486,
          0.9985377352626704,
          0.9986184989813389,
          0.999358025184386,
          0.9995355779806468,
          0.9992284132985195,
          0.9991070171921516,
          0.9986813253189365,
          0.9989756629305846,
          0.9982650980095562,
          0.9979019739956623,
          0.9983085889962016,
          0.9977302689855192,
          0.9973139961215696,
          0.9973309707338591,
          0.997296089238356,
          0.9974299831738085,
          0.9978581032970191,
          0.9967622198873013,
          0.996254622799439,
          0.9960338494475731,
          0.9961287235473855,
          0.9961399643559599,
          0.9963465712038145,
          0.9960281754142251,
          0.9961208619289205,
          0.9962547791896744,
          0.9962132666713137,
          0.9962681224054154,
          0.9961350922790033,
          0.9956868625638883,
          0.9958744269116231,
          0.9959685386221462,
          0.9960301620447838,
          0.9959402987883037,
          0.9966540193886494,
          0.996608267873833,
          0.9959644510929861,
          0.9954360174376817,
          0.9953652685320292,
          0.9949538800699416,
          0.9950822589366377,
          0.9953152693078903,
          0.995458996771558,
          0.9950482297029212,
          0.9941054884730517,
          0.9946609708499757,
          0.9941987989696913,
          0.9948866700136866,
          0.9945291066862024,
          0.9942076529029945,
          0.9942450238422145,
          0.9952545448807959,
          0.9947698519358843,
          0.9947958813608626,
          0.9947328594353851,
          0.9951380088201921,
          0.9951227123531704,
          0.994934031780158,
          0.9950250761435655,
          0.9955639966610894,
          0.9973128642238717,
          0.9968014286223297,
          0.9968717682461964,
          0.9977739983177633,
          0.9970277479208619,
          0.9974923950715161,
          0.9973280688484372,
          0.997467795381199,
          0.9974612568775678,
          0.9976179030746261,
          0.9972056849177879,
          0.9974345007279741,
          0.9982412331269184,
          0.9981971843640981,
          0.9984125347936841
         ]
        },
        {
         "mode": "lines",
         "name": "ma_strat_weekly",
         "type": "scatter",
         "x": [
          "2022-01-02T00:00:00",
          "2022-01-09T00:00:00",
          "2022-01-16T00:00:00",
          "2022-01-23T00:00:00",
          "2022-01-30T00:00:00",
          "2022-02-06T00:00:00",
          "2022-02-13T00:00:00",
          "2022-02-20T00:00:00",
          "2022-02-27T00:00:00",
          "2022-03-06T00:00:00",
          "2022-03-13T00:00:00",
          "2022-03-20T00:00:00",
          "2022-03-27T00:00:00",
          "2022-04-03T00:00:00",
          "2022-04-10T00:00:00",
          "2022-04-17T00:00:00",
          "2022-04-24T00:00:00",
          "2022-05-01T00:00:00",
          "2022-05-08T00:00:00",
          "2022-05-15T00:00:00",
          "2022-05-22T00:00:00",
          "2022-05-29T00:00:00",
          "2022-06-05T00:00:00",
          "2022-06-12T00:00:00",
          "2022-06-19T00:00:00",
          "2022-06-26T00:00:00",
          "2022-07-03T00:00:00",
          "2022-07-10T00:00:00",
          "2022-07-17T00:00:00",
          "2022-07-24T00:00:00",
          "2022-07-31T00:00:00",
          "2022-08-07T00:00:00",
          "2022-08-14T00:00:00",
          "2022-08-21T00:00:00",
          "2022-08-28T00:00:00",
          "2022-09-04T00:00:00",
          "2022-09-11T00:00:00",
          "2022-09-18T00:00:00",
          "2022-09-25T00:00:00",
          "2022-10-02T00:00:00",
          "2022-10-09T00:00:00",
          "2022-10-16T00:00:00",
          "2022-10-23T00:00:00",
          "2022-10-30T00:00:00",
          "2022-11-06T00:00:00",
          "2022-11-13T00:00:00",
          "2022-11-20T00:00:00",
          "2022-11-27T00:00:00",
          "2022-12-04T00:00:00",
          "2022-12-11T00:00:00",
          "2022-12-18T00:00:00",
          "2022-12-25T00:00:00",
          "2023-01-01T00:00:00"
         ],
         "y": [
          1,
          1,
          1,
          1,
          1,
          1,
          1,
          1,
          1.0008223147213047,
          1.0017577178719839,
          1.0020919260462486,
          1.0030526989394595,
          1.0017612834531653,
          1.0012821187147678,
          1.0005580662013074,
          0.999638151352104,
          0.9990561214275137,
          0.9985993804831877,
          0.9993309289830191,
          0.9973385539064443,
          0.9968057945024151,
          0.9951827591869212,
          0.9953687719943495,
          0.997625129396044,
          0.9958530957551744,
          0.9970796108837487,
          0.9970077083150334,
          0.9979564637909238,
          0.9984045307368614,
          0.998290033553166,
          0.9986258365682764,
          0.9989696549313322,
          0.9983692916204376,
          0.9991530091150178,
          0.9981134226955396,
          0.9982460684482337,
          0.9981805255541539,
          0.9996751839525944,
          0.9999286815363567,
          1.000339210294245,
          1.000201220066512,
          1.0000078604157647,
          0.9995800842135966,
          0.9996887612021884,
          1.0004247328421363,
          1.000464959718062,
          1.000490480898636,
          1.0006610578294441,
          1.0003014191808368,
          1.000748454301261,
          1.000869372897777,
          1.00100112708815,
          1.00100112708815
         ]
        },
        {
         "mode": "lines",
         "name": "ma_strat_monthly",
         "type": "scatter",
         "x": [
          "2022-01-31T00:00:00",
          "2022-02-28T00:00:00",
          "2022-03-31T00:00:00",
          "2022-04-30T00:00:00",
          "2022-05-31T00:00:00",
          "2022-06-30T00:00:00",
          "2022-07-31T00:00:00",
          "2022-08-31T00:00:00",
          "2022-09-30T00:00:00",
          "2022-10-31T00:00:00",
          "2022-11-30T00:00:00",
          "2022-12-31T00:00:00"
         ],
         "y": [
          1,
          1,
          1.0005497092442568,
          1.0000968533073018,
          1.0002584052737729,
          1.0007961262695217,
          1.00072676432509,
          1.0009078167970535,
          1.000942523510367,
          1.000827264825094,
          1.0002503904583162,
          1.0002503904583162
         ]
        },
        {
         "mode": "lines",
         "name": "mom_strat_daily",
         "type": "scatter",
         "x": [
          "2022-01-01T00:00:00",
          "2022-01-02T00:00:00",
          "2022-01-03T00:00:00",
          "2022-01-04T00:00:00",
          "2022-01-05T00:00:00",
          "2022-01-06T00:00:00",
          "2022-01-07T00:00:00",
          "2022-01-08T00:00:00",
          "2022-01-09T00:00:00",
          "2022-01-10T00:00:00",
          "2022-01-11T00:00:00",
          "2022-01-12T00:00:00",
          "2022-01-13T00:00:00",
          "2022-01-14T00:00:00",
          "2022-01-15T00:00:00",
          "2022-01-16T00:00:00",
          "2022-01-17T00:00:00",
          "2022-01-18T00:00:00",
          "2022-01-19T00:00:00",
          "2022-01-20T00:00:00",
          "2022-01-21T00:00:00",
          "2022-01-22T00:00:00",
          "2022-01-23T00:00:00",
          "2022-01-24T00:00:00",
          "2022-01-25T00:00:00",
          "2022-01-26T00:00:00",
          "2022-01-27T00:00:00",
          "2022-01-28T00:00:00",
          "2022-01-29T00:00:00",
          "2022-01-30T00:00:00",
          "2022-01-31T00:00:00",
          "2022-02-01T00:00:00",
          "2022-02-02T00:00:00",
          "2022-02-03T00:00:00",
          "2022-02-04T00:00:00",
          "2022-02-05T00:00:00",
          "2022-02-06T00:00:00",
          "2022-02-07T00:00:00",
          "2022-02-08T00:00:00",
          "2022-02-09T00:00:00",
          "2022-02-10T00:00:00",
          "2022-02-11T00:00:00",
          "2022-02-12T00:00:00",
          "2022-02-13T00:00:00",
          "2022-02-14T00:00:00",
          "2022-02-15T00:00:00",
          "2022-02-16T00:00:00",
          "2022-02-17T00:00:00",
          "2022-02-18T00:00:00",
          "2022-02-19T00:00:00",
          "2022-02-20T00:00:00",
          "2022-02-21T00:00:00",
          "2022-02-22T00:00:00",
          "2022-02-23T00:00:00",
          "2022-02-24T00:00:00",
          "2022-02-25T00:00:00",
          "2022-02-26T00:00:00",
          "2022-02-27T00:00:00",
          "2022-02-28T00:00:00",
          "2022-03-01T00:00:00",
          "2022-03-02T00:00:00",
          "2022-03-03T00:00:00",
          "2022-03-04T00:00:00",
          "2022-03-05T00:00:00",
          "2022-03-06T00:00:00",
          "2022-03-07T00:00:00",
          "2022-03-08T00:00:00",
          "2022-03-09T00:00:00",
          "2022-03-10T00:00:00",
          "2022-03-11T00:00:00",
          "2022-03-12T00:00:00",
          "2022-03-13T00:00:00",
          "2022-03-14T00:00:00",
          "2022-03-15T00:00:00",
          "2022-03-16T00:00:00",
          "2022-03-17T00:00:00",
          "2022-03-18T00:00:00",
          "2022-03-19T00:00:00",
          "2022-03-20T00:00:00",
          "2022-03-21T00:00:00",
          "2022-03-22T00:00:00",
          "2022-03-23T00:00:00",
          "2022-03-24T00:00:00",
          "2022-03-25T00:00:00",
          "2022-03-26T00:00:00",
          "2022-03-27T00:00:00",
          "2022-03-28T00:00:00",
          "2022-03-29T00:00:00",
          "2022-03-30T00:00:00",
          "2022-03-31T00:00:00",
          "2022-04-01T00:00:00",
          "2022-04-02T00:00:00",
          "2022-04-03T00:00:00",
          "2022-04-04T00:00:00",
          "2022-04-05T00:00:00",
          "2022-04-06T00:00:00",
          "2022-04-07T00:00:00",
          "2022-04-08T00:00:00",
          "2022-04-09T00:00:00",
          "2022-04-10T00:00:00",
          "2022-04-11T00:00:00",
          "2022-04-12T00:00:00",
          "2022-04-13T00:00:00",
          "2022-04-14T00:00:00",
          "2022-04-15T00:00:00",
          "2022-04-16T00:00:00",
          "2022-04-17T00:00:00",
          "2022-04-18T00:00:00",
          "2022-04-19T00:00:00",
          "2022-04-20T00:00:00",
          "2022-04-21T00:00:00",
          "2022-04-22T00:00:00",
          "2022-04-23T00:00:00",
          "2022-04-24T00:00:00",
          "2022-04-25T00:00:00",
          "2022-04-26T00:00:00",
          "2022-04-27T00:00:00",
          "2022-04-28T00:00:00",
          "2022-04-29T00:00:00",
          "2022-04-30T00:00:00",
          "2022-05-01T00:00:00",
          "2022-05-02T00:00:00",
          "2022-05-03T00:00:00",
          "2022-05-04T00:00:00",
          "2022-05-05T00:00:00",
          "2022-05-06T00:00:00",
          "2022-05-07T00:00:00",
          "2022-05-08T00:00:00",
          "2022-05-09T00:00:00",
          "2022-05-10T00:00:00",
          "2022-05-11T00:00:00",
          "2022-05-12T00:00:00",
          "2022-05-13T00:00:00",
          "2022-05-14T00:00:00",
          "2022-05-15T00:00:00",
          "2022-05-16T00:00:00",
          "2022-05-17T00:00:00",
          "2022-05-18T00:00:00",
          "2022-05-19T00:00:00",
          "2022-05-20T00:00:00",
          "2022-05-21T00:00:00",
          "2022-05-22T00:00:00",
          "2022-05-23T00:00:00",
          "2022-05-24T00:00:00",
          "2022-05-25T00:00:00",
          "2022-05-26T00:00:00",
          "2022-05-27T00:00:00",
          "2022-05-28T00:00:00",
          "2022-05-29T00:00:00",
          "2022-05-30T00:00:00",
          "2022-05-31T00:00:00",
          "2022-06-01T00:00:00",
          "2022-06-02T00:00:00",
          "2022-06-03T00:00:00",
          "2022-06-04T00:00:00",
          "2022-06-05T00:00:00",
          "2022-06-06T00:00:00",
          "2022-06-07T00:00:00",
          "2022-06-08T00:00:00",
          "2022-06-09T00:00:00",
          "2022-06-10T00:00:00",
          "2022-06-11T00:00:00",
          "2022-06-12T00:00:00",
          "2022-06-13T00:00:00",
          "2022-06-14T00:00:00",
          "2022-06-15T00:00:00",
          "2022-06-16T00:00:00",
          "2022-06-17T00:00:00",
          "2022-06-18T00:00:00",
          "2022-06-19T00:00:00",
          "2022-06-20T00:00:00",
          "2022-06-21T00:00:00",
          "2022-06-22T00:00:00",
          "2022-06-23T00:00:00",
          "2022-06-24T00:00:00",
          "2022-06-25T00:00:00",
          "2022-06-26T00:00:00",
          "2022-06-27T00:00:00",
          "2022-06-28T00:00:00",
          "2022-06-29T00:00:00",
          "2022-06-30T00:00:00",
          "2022-07-01T00:00:00",
          "2022-07-02T00:00:00",
          "2022-07-03T00:00:00",
          "2022-07-04T00:00:00",
          "2022-07-05T00:00:00",
          "2022-07-06T00:00:00",
          "2022-07-07T00:00:00",
          "2022-07-08T00:00:00",
          "2022-07-09T00:00:00",
          "2022-07-10T00:00:00",
          "2022-07-11T00:00:00",
          "2022-07-12T00:00:00",
          "2022-07-13T00:00:00",
          "2022-07-14T00:00:00",
          "2022-07-15T00:00:00",
          "2022-07-16T00:00:00",
          "2022-07-17T00:00:00",
          "2022-07-18T00:00:00",
          "2022-07-19T00:00:00",
          "2022-07-20T00:00:00",
          "2022-07-21T00:00:00",
          "2022-07-22T00:00:00",
          "2022-07-23T00:00:00",
          "2022-07-24T00:00:00",
          "2022-07-25T00:00:00",
          "2022-07-26T00:00:00",
          "2022-07-27T00:00:00",
          "2022-07-28T00:00:00",
          "2022-07-29T00:00:00",
          "2022-07-30T00:00:00",
          "2022-07-31T00:00:00",
          "2022-08-01T00:00:00",
          "2022-08-02T00:00:00",
          "2022-08-03T00:00:00",
          "2022-08-04T00:00:00",
          "2022-08-05T00:00:00",
          "2022-08-06T00:00:00",
          "2022-08-07T00:00:00",
          "2022-08-08T00:00:00",
          "2022-08-09T00:00:00",
          "2022-08-10T00:00:00",
          "2022-08-11T00:00:00",
          "2022-08-12T00:00:00",
          "2022-08-13T00:00:00",
          "2022-08-14T00:00:00",
          "2022-08-15T00:00:00",
          "2022-08-16T00:00:00",
          "2022-08-17T00:00:00",
          "2022-08-18T00:00:00",
          "2022-08-19T00:00:00",
          "2022-08-20T00:00:00",
          "2022-08-21T00:00:00",
          "2022-08-22T00:00:00",
          "2022-08-23T00:00:00",
          "2022-08-24T00:00:00",
          "2022-08-25T00:00:00",
          "2022-08-26T00:00:00",
          "2022-08-27T00:00:00",
          "2022-08-28T00:00:00",
          "2022-08-29T00:00:00",
          "2022-08-30T00:00:00",
          "2022-08-31T00:00:00",
          "2022-09-01T00:00:00",
          "2022-09-02T00:00:00",
          "2022-09-03T00:00:00",
          "2022-09-04T00:00:00",
          "2022-09-05T00:00:00",
          "2022-09-06T00:00:00",
          "2022-09-07T00:00:00",
          "2022-09-08T00:00:00",
          "2022-09-09T00:00:00",
          "2022-09-10T00:00:00",
          "2022-09-11T00:00:00",
          "2022-09-12T00:00:00",
          "2022-09-13T00:00:00",
          "2022-09-14T00:00:00",
          "2022-09-15T00:00:00",
          "2022-09-16T00:00:00",
          "2022-09-17T00:00:00",
          "2022-09-18T00:00:00",
          "2022-09-19T00:00:00",
          "2022-09-20T00:00:00",
          "2022-09-21T00:00:00",
          "2022-09-22T00:00:00",
          "2022-09-23T00:00:00",
          "2022-09-24T00:00:00",
          "2022-09-25T00:00:00",
          "2022-09-26T00:00:00",
          "2022-09-27T00:00:00",
          "2022-09-28T00:00:00",
          "2022-09-29T00:00:00",
          "2022-09-30T00:00:00",
          "2022-10-01T00:00:00",
          "2022-10-02T00:00:00",
          "2022-10-03T00:00:00",
          "2022-10-04T00:00:00",
          "2022-10-05T00:00:00",
          "2022-10-06T00:00:00",
          "2022-10-07T00:00:00",
          "2022-10-08T00:00:00",
          "2022-10-09T00:00:00",
          "2022-10-10T00:00:00",
          "2022-10-11T00:00:00",
          "2022-10-12T00:00:00",
          "2022-10-13T00:00:00",
          "2022-10-14T00:00:00",
          "2022-10-15T00:00:00",
          "2022-10-16T00:00:00",
          "2022-10-17T00:00:00",
          "2022-10-18T00:00:00",
          "2022-10-19T00:00:00",
          "2022-10-20T00:00:00",
          "2022-10-21T00:00:00",
          "2022-10-22T00:00:00",
          "2022-10-23T00:00:00",
          "2022-10-24T00:00:00",
          "2022-10-25T00:00:00",
          "2022-10-26T00:00:00",
          "2022-10-27T00:00:00",
          "2022-10-28T00:00:00",
          "2022-10-29T00:00:00",
          "2022-10-30T00:00:00",
          "2022-10-31T00:00:00",
          "2022-11-01T00:00:00",
          "2022-11-02T00:00:00",
          "2022-11-03T00:00:00",
          "2022-11-04T00:00:00",
          "2022-11-05T00:00:00",
          "2022-11-06T00:00:00",
          "2022-11-07T00:00:00",
          "2022-11-08T00:00:00",
          "2022-11-09T00:00:00",
          "2022-11-10T00:00:00",
          "2022-11-11T00:00:00",
          "2022-11-12T00:00:00",
          "2022-11-13T00:00:00",
          "2022-11-14T00:00:00",
          "2022-11-15T00:00:00",
          "2022-11-16T00:00:00",
          "2022-11-17T00:00:00",
          "2022-11-18T00:00:00",
          "2022-11-19T00:00:00",
          "2022-11-20T00:00:00",
          "2022-11-21T00:00:00",
          "2022-11-22T00:00:00",
          "2022-11-23T00:00:00",
          "2022-11-24T00:00:00",
          "2022-11-25T00:00:00",
          "2022-11-26T00:00:00",
          "2022-11-27T00:00:00",
          "2022-11-28T00:00:00",
          "2022-11-29T00:00:00",
          "2022-11-30T00:00:00",
          "2022-12-01T00:00:00",
          "2022-12-02T00:00:00",
          "2022-12-03T00:00:00",
          "2022-12-04T00:00:00",
          "2022-12-05T00:00:00",
          "2022-12-06T00:00:00",
          "2022-12-07T00:00:00",
          "2022-12-08T00:00:00",
          "2022-12-09T00:00:00",
          "2022-12-10T00:00:00",
          "2022-12-11T00:00:00",
          "2022-12-12T00:00:00",
          "2022-12-13T00:00:00",
          "2022-12-14T00:00:00",
          "2022-12-15T00:00:00",
          "2022-12-16T00:00:00",
          "2022-12-17T00:00:00",
          "2022-12-18T00:00:00",
          "2022-12-19T00:00:00",
          "2022-12-20T00:00:00",
          "2022-12-21T00:00:00",
          "2022-12-22T00:00:00",
          "2022-12-23T00:00:00",
          "2022-12-24T00:00:00",
          "2022-12-25T00:00:00",
          "2022-12-26T00:00:00",
          "2022-12-27T00:00:00",
          "2022-12-28T00:00:00",
          "2022-12-29T00:00:00",
          "2022-12-30T00:00:00"
         ],
         "y": [
          1,
          1,
          1,
          1,
          1,
          1,
          1,
          1,
          1,
          1,
          0.9514106365167646,
          0.9006928854262204,
          0.9427234417679392,
          0.9240308374468299,
          0.9155544524521456,
          0.9130439576521552,
          0.9040311965665585,
          0.9162008607144444,
          0.9305690492966865,
          0.9414514102610405,
          1.059221118706706,
          1.1508051754718662,
          1.1013039907127595,
          1.149322250003405,
          1.1244737110750755,
          1.133185337252253,
          1.1310235009095064,
          1.100751567359708,
          1.0641762767222671,
          1.075424722289414,
          1.0730965063764715,
          1.0675398997787593,
          1.052365057293368,
          1.0521387647725793,
          1.0968886258188697,
          1.1201723798874355,
          1.14708871919405,
          1.1935058236538476,
          1.1656802772213715,
          1.2051801621990288,
          1.1588090502737614,
          1.1034129691708912,
          1.1144053013705928,
          1.0986708978893416,
          1.1020778931942243,
          1.071388604968715,
          1.0780002511203555,
          1.1291973544759506,
          1.1485456342092606,
          1.163259958099625,
          1.2231744295125349,
          1.2929324586937354,
          1.227867443756948,
          1.2580510995053071,
          1.2699213685875028,
          1.1936504595117043,
          1.1996724533242036,
          1.211384090493165,
          1.093582368980407,
          1.0909640101191522,
          1.0693226440218864,
          1.0471951842356335,
          1.0222917667108469,
          1.0201882145768975,
          1.0005780260038304,
          1.0070149507001482,
          1.0057583547225115,
          0.9918260698323957,
          1.02652155350719,
          1.038631112953335,
          1.0333113437972739,
          1.068669787601782,
          1.042611993562328,
          1.0419782930056793,
          1.0251670226754934,
          1.0185550742729572,
          1.0399862904892188,
          1.0364709623117858,
          1.0059675351163089,
          1.01709962967358,
          1.0460116145626868,
          1.0695436062637473,
          1.1019807211511135,
          1.0927168093879946,
          1.116895604964883,
          1.1731299824818522,
          1.1480326072135132,
          1.191622014920406,
          1.224767230814695,
          1.2033409482976716,
          1.2645293481769124,
          1.2705672348098154,
          1.3053098654165363,
          1.2807305391195039,
          1.2494235305723334,
          1.2118665431264029,
          1.1806198444993372,
          1.2261487311751333,
          1.1947693871607652,
          1.2172786590586653,
          1.3214362737614096,
          1.2680155837213662,
          1.2262826252684662,
          1.2514119719210792,
          1.2365371920471122,
          1.237507323664512,
          1.2841246228767216,
          1.2574351918222055,
          1.2229274681595497,
          1.2191977095274804,
          1.1797579258401785,
          1.1678184998488172,
          1.1889394043318913,
          1.2017865220326625,
          1.1989264101358044,
          1.2771258582759801,
          1.2187597050994168,
          1.2204808841145,
          1.2890273493942739,
          1.4083113195968195,
          1.342586393597242,
          1.3531695903537593,
          1.3663591210877044,
          1.2432281232122897,
          1.3476290160087132,
          1.35564187322893,
          1.4087263955187077,
          1.4462222344335218,
          1.7046396110404702,
          1.6439005813163983,
          2.080866708558617,
          2.2342508991098136,
          2.001924705030833,
          1.8769784265023053,
          1.7422610697190521,
          1.8822460270473038,
          1.7219905050674944,
          1.8525848566178664,
          1.724180082477504,
          1.7833325226565342,
          1.8264942460719022,
          1.8424663796589613,
          1.7971867441572837,
          1.8005260678612907,
          1.8080984340804303,
          1.7324508090755604,
          1.7772580209886555,
          1.803756372863598,
          1.7852721322514318,
          1.7547206689882053,
          1.7318316594417822,
          1.696557097518089,
          1.6878630068138096,
          1.765163384880947,
          1.7298706938244313,
          1.7096316494127872,
          1.7632358096575367,
          1.8012441448016214,
          1.8487733204447085,
          1.842149288458593,
          1.888492996792534,
          1.9422301100806982,
          2.0518286050883447,
          2.205827100648736,
          2.197828815184161,
          2.045326394082023,
          2.217754592574797,
          2.167861532797931,
          2.3079575746846985,
          2.144014654441969,
          2.0845621474108578,
          2.060357795754254,
          2.0933544220723412,
          2.0429324007253453,
          2.1189154564459627,
          2.117986718875329,
          2.012291313166567,
          2.0290938564369942,
          1.9592754780465411,
          1.9389660420282437,
          1.9056061559529953,
          1.913890401045092,
          1.8979602207476296,
          1.904252191904094,
          1.828644607150569,
          1.8423735890962645,
          1.7685888576964546,
          1.7243479800802022,
          1.7033247962387332,
          1.7309068991461602,
          1.6612289158813165,
          1.5744188740238751,
          1.5806790948423288,
          1.5764725437182985,
          1.5449243931760088,
          1.5008459063125237,
          1.5091809350044185,
          1.495151248969204,
          1.4885200461365549,
          1.5033350389897457,
          1.4190938629210852,
          1.4582031438109289,
          1.4294161246586188,
          1.4429835788957264,
          1.440238693396629,
          1.3692752278715805,
          1.35770895981776,
          1.3575284533775236,
          1.3593689764613797,
          1.3898502908251287,
          1.3749446425184513,
          1.367077068313129,
          1.382944958404353,
          1.363310651772586,
          1.3801273671813432,
          1.3885003584676292,
          1.4533096742211475,
          1.4414379624107543,
          1.4502100073817115,
          1.4591415890483321,
          1.4244670095213003,
          1.4366722896109165,
          1.4416096396624398,
          1.4723858450395602,
          1.4522734814424756,
          1.422497106840782,
          1.420592865637561,
          1.4206573211935116,
          1.4544589108832413,
          1.5062577616278956,
          1.6109550971678024,
          1.5830564675767702,
          1.5383201370475832,
          1.5659706029156402,
          1.5239654910275489,
          1.5089906436306733,
          1.4841081533964502,
          1.5763192899081275,
          1.560220449472637,
          1.6054703746836134,
          1.5410250506189012,
          1.5489066228417185,
          1.5403336566518624,
          1.53529959371418,
          1.538776005114011,
          1.5271881296457919,
          1.5060675333946494,
          1.5042688642953408,
          1.4776094595960325,
          1.4553592433204567,
          1.451644101925431,
          1.4565264595455876,
          1.4546945037675971,
          1.4472809625248575,
          1.4417877492300186,
          1.3641364905410267,
          1.3759820492301118,
          1.3962624597768927,
          1.3982606539595468,
          1.3655177485009315,
          1.4220190245971478,
          1.387882092144913,
          1.4200236631136067,
          1.4488168903129062,
          1.3728853002900265,
          1.3611370297477534,
          1.3637460619863233,
          1.3848192708334008,
          1.3655895493385746,
          1.3736472134735809,
          1.379223992036919,
          1.3629125271599787,
          1.3560952883685762,
          1.3468539647761408,
          1.3522379999056475,
          1.3229777949832204,
          1.3278855695567513,
          1.3247882084683116,
          1.314142051857319,
          1.314361075194985,
          1.3136356516539018,
          1.312846098236918,
          1.3451143256657843,
          1.3638583688846968,
          1.3642929898545184,
          1.3824709683648309,
          1.394190743752568,
          1.3694517107915436,
          1.3315943063104096,
          1.315211926175236,
          1.3272295046559373,
          1.3607275954776454,
          1.3666679989401254,
          1.3545837557125264,
          1.352018047472971,
          1.3470992152316812,
          1.3385067688844277,
          1.3368567062862804,
          1.3445396034158856,
          1.3372834233892836,
          1.3543010949676901,
          1.3703320605720848,
          1.3682399494207607,
          1.3753491761179528,
          1.361889880600555,
          1.3422396452145,
          1.406479371205303,
          1.4558944846102995,
          1.4587628811514717,
          1.3937171153535748,
          1.3910580499692802,
          1.3089670880596147,
          1.4815991467389764,
          1.2646415009636571,
          1.3108645939340573,
          1.3580993203195326,
          1.3844700709264381,
          1.3629831745820187,
          1.328570276247038,
          1.352125378653146,
          1.3562796861906121,
          1.3471823895363828,
          1.3437315457489913,
          1.377474113434252,
          1.4003514384573792,
          1.3785121826081095,
          1.3740282289759576,
          1.383198251014293,
          1.3673078974754052,
          1.3610854421803518,
          1.3557141195743978,
          1.3393085022747973,
          1.3289165050915246,
          1.370065303032944,
          1.351143476387807,
          1.368547687694939,
          1.3456947961914056,
          1.355750863783224,
          1.3737034313067784,
          1.3685600629726036,
          1.3300558572287757,
          1.3319912169271266,
          1.3291919867017403,
          1.3248523405363453,
          1.3371413711701265,
          1.331637182492813,
          1.3162712284241982,
          1.3160267966430472,
          1.3422768388146438,
          1.4570473785394915,
          1.411658106942055,
          1.4147150335613599,
          1.479186944873012,
          1.41296035953605,
          1.432751483559619,
          1.4227941118295915,
          1.4272736425841506,
          1.4257740052463728,
          1.4371477905045618,
          1.4365703280059345,
          1.4415820172398106,
          1.4620450118594281,
          1.4647052251323576,
          1.4786798092459388
         ]
        },
        {
         "mode": "lines",
         "name": "mom_strat_weekly",
         "type": "scatter",
         "x": [
          "2022-01-02T00:00:00",
          "2022-01-09T00:00:00",
          "2022-01-16T00:00:00",
          "2022-01-23T00:00:00",
          "2022-01-30T00:00:00",
          "2022-02-06T00:00:00",
          "2022-02-13T00:00:00",
          "2022-02-20T00:00:00",
          "2022-02-27T00:00:00",
          "2022-03-06T00:00:00",
          "2022-03-13T00:00:00",
          "2022-03-20T00:00:00",
          "2022-03-27T00:00:00",
          "2022-04-03T00:00:00",
          "2022-04-10T00:00:00",
          "2022-04-17T00:00:00",
          "2022-04-24T00:00:00",
          "2022-05-01T00:00:00",
          "2022-05-08T00:00:00",
          "2022-05-15T00:00:00",
          "2022-05-22T00:00:00",
          "2022-05-29T00:00:00",
          "2022-06-05T00:00:00",
          "2022-06-12T00:00:00",
          "2022-06-19T00:00:00",
          "2022-06-26T00:00:00",
          "2022-07-03T00:00:00",
          "2022-07-10T00:00:00",
          "2022-07-17T00:00:00",
          "2022-07-24T00:00:00",
          "2022-07-31T00:00:00",
          "2022-08-07T00:00:00",
          "2022-08-14T00:00:00",
          "2022-08-21T00:00:00",
          "2022-08-28T00:00:00",
          "2022-09-04T00:00:00",
          "2022-09-11T00:00:00",
          "2022-09-18T00:00:00",
          "2022-09-25T00:00:00",
          "2022-10-02T00:00:00",
          "2022-10-09T00:00:00",
          "2022-10-16T00:00:00",
          "2022-10-23T00:00:00",
          "2022-10-30T00:00:00",
          "2022-11-06T00:00:00",
          "2022-11-13T00:00:00",
          "2022-11-20T00:00:00",
          "2022-11-27T00:00:00",
          "2022-12-04T00:00:00",
          "2022-12-11T00:00:00",
          "2022-12-18T00:00:00",
          "2022-12-25T00:00:00",
          "2023-01-01T00:00:00"
         ],
         "y": [
          1,
          1,
          1,
          1.0263588227649159,
          1.037207534207527,
          1.0155734506328367,
          0.986125933398921,
          0.9967336886494885,
          1.0338286985989056,
          1.070272743962682,
          1.102521315081883,
          1.1433178337830907,
          1.1986310726135132,
          1.23278419295517,
          1.196749618140792,
          1.2374128895785876,
          1.2569043955080292,
          1.2092154824675498,
          1.2431506495634999,
          1.157963387940668,
          1.1356951503867327,
          1.1920795965375424,
          1.183526472456688,
          1.1008489324795074,
          1.0352602293858417,
          1.0884064382299892,
          1.0919819584102377,
          1.1395342785324738,
          1.1197768703528594,
          1.1359804384298804,
          1.1311713658254665,
          1.1409326043573855,
          1.1247022869572911,
          1.1338488468565262,
          1.169481857249958,
          1.1581167184799015,
          1.1502337041229764,
          1.0863670627097732,
          1.0939648975860552,
          1.108258538379702,
          1.1052320755850191,
          1.0900173866353269,
          1.0774151401999594,
          1.0696132640404505,
          1.0288019758584572,
          1.013836148299479,
          1.0673752618498822,
          1.0654585912123118,
          1.0687850018900251,
          1.0595864623031042,
          1.0647252901048365,
          1.0741177431560702,
          1.0741177431560702
         ]
        },
        {
         "mode": "lines",
         "name": "mom_strat_monthly",
         "type": "scatter",
         "x": [
          "2022-01-31T00:00:00",
          "2022-02-28T00:00:00",
          "2022-03-31T00:00:00",
          "2022-04-30T00:00:00",
          "2022-05-31T00:00:00",
          "2022-06-30T00:00:00",
          "2022-07-31T00:00:00",
          "2022-08-31T00:00:00",
          "2022-09-30T00:00:00",
          "2022-10-31T00:00:00",
          "2022-11-30T00:00:00",
          "2022-12-31T00:00:00"
         ],
         "y": [
          1,
          1.0717980704825134,
          1.0883447976569989,
          0.9932422084387095,
          0.9941796398003173,
          0.9743965855733222,
          0.9738401707834263,
          0.9856975646046561,
          0.9945112213891997,
          0.9976596968476887,
          1.0300917672775223,
          1.0300917672775223
         ]
        },
        {
         "mode": "lines",
         "name": "mco_strat_monthly",
         "type": "scatter",
         "x": [
          "2022-01-31T00:00:00",
          "2022-02-28T00:00:00",
          "2022-03-31T00:00:00",
          "2022-04-30T00:00:00",
          "2022-05-31T00:00:00",
          "2022-06-30T00:00:00",
          "2022-07-31T00:00:00",
          "2022-08-31T00:00:00",
          "2022-09-30T00:00:00",
          "2022-10-31T00:00:00",
          "2022-11-30T00:00:00",
          "2022-12-31T00:00:00"
         ],
         "y": [
          1,
          0.9972386492397064,
          0.9977502565674803,
          0.9999787388377721,
          0.9999857479186938,
          1.0005800421504338,
          1.0009045299441703,
          1.0006388053242103,
          1.0007728422910558,
          1.0006161515417882,
          0.9998179938115529,
          0.9998179938115529
         ]
        }
       ],
       "layout": {
        "height": 600,
        "showlegend": true,
        "template": {
         "data": {
          "bar": [
           {
            "error_x": {
             "color": "#2a3f5f"
            },
            "error_y": {
             "color": "#2a3f5f"
            },
            "marker": {
             "line": {
              "color": "#E5ECF6",
              "width": 0.5
             },
             "pattern": {
              "fillmode": "overlay",
              "size": 10,
              "solidity": 0.2
             }
            },
            "type": "bar"
           }
          ],
          "barpolar": [
           {
            "marker": {
             "line": {
              "color": "#E5ECF6",
              "width": 0.5
             },
             "pattern": {
              "fillmode": "overlay",
              "size": 10,
              "solidity": 0.2
             }
            },
            "type": "barpolar"
           }
          ],
          "carpet": [
           {
            "aaxis": {
             "endlinecolor": "#2a3f5f",
             "gridcolor": "white",
             "linecolor": "white",
             "minorgridcolor": "white",
             "startlinecolor": "#2a3f5f"
            },
            "baxis": {
             "endlinecolor": "#2a3f5f",
             "gridcolor": "white",
             "linecolor": "white",
             "minorgridcolor": "white",
             "startlinecolor": "#2a3f5f"
            },
            "type": "carpet"
           }
          ],
          "choropleth": [
           {
            "colorbar": {
             "outlinewidth": 0,
             "ticks": ""
            },
            "type": "choropleth"
           }
          ],
          "contour": [
           {
            "colorbar": {
             "outlinewidth": 0,
             "ticks": ""
            },
            "colorscale": [
             [
              0,
              "#0d0887"
             ],
             [
              0.1111111111111111,
              "#46039f"
             ],
             [
              0.2222222222222222,
              "#7201a8"
             ],
             [
              0.3333333333333333,
              "#9c179e"
             ],
             [
              0.4444444444444444,
              "#bd3786"
             ],
             [
              0.5555555555555556,
              "#d8576b"
             ],
             [
              0.6666666666666666,
              "#ed7953"
             ],
             [
              0.7777777777777778,
              "#fb9f3a"
             ],
             [
              0.8888888888888888,
              "#fdca26"
             ],
             [
              1,
              "#f0f921"
             ]
            ],
            "type": "contour"
           }
          ],
          "contourcarpet": [
           {
            "colorbar": {
             "outlinewidth": 0,
             "ticks": ""
            },
            "type": "contourcarpet"
           }
          ],
          "heatmap": [
           {
            "colorbar": {
             "outlinewidth": 0,
             "ticks": ""
            },
            "colorscale": [
             [
              0,
              "#0d0887"
             ],
             [
              0.1111111111111111,
              "#46039f"
             ],
             [
              0.2222222222222222,
              "#7201a8"
             ],
             [
              0.3333333333333333,
              "#9c179e"
             ],
             [
              0.4444444444444444,
              "#bd3786"
             ],
             [
              0.5555555555555556,
              "#d8576b"
             ],
             [
              0.6666666666666666,
              "#ed7953"
             ],
             [
              0.7777777777777778,
              "#fb9f3a"
             ],
             [
              0.8888888888888888,
              "#fdca26"
             ],
             [
              1,
              "#f0f921"
             ]
            ],
            "type": "heatmap"
           }
          ],
          "heatmapgl": [
           {
            "colorbar": {
             "outlinewidth": 0,
             "ticks": ""
            },
            "colorscale": [
             [
              0,
              "#0d0887"
             ],
             [
              0.1111111111111111,
              "#46039f"
             ],
             [
              0.2222222222222222,
              "#7201a8"
             ],
             [
              0.3333333333333333,
              "#9c179e"
             ],
             [
              0.4444444444444444,
              "#bd3786"
             ],
             [
              0.5555555555555556,
              "#d8576b"
             ],
             [
              0.6666666666666666,
              "#ed7953"
             ],
             [
              0.7777777777777778,
              "#fb9f3a"
             ],
             [
              0.8888888888888888,
              "#fdca26"
             ],
             [
              1,
              "#f0f921"
             ]
            ],
            "type": "heatmapgl"
           }
          ],
          "histogram": [
           {
            "marker": {
             "pattern": {
              "fillmode": "overlay",
              "size": 10,
              "solidity": 0.2
             }
            },
            "type": "histogram"
           }
          ],
          "histogram2d": [
           {
            "colorbar": {
             "outlinewidth": 0,
             "ticks": ""
            },
            "colorscale": [
             [
              0,
              "#0d0887"
             ],
             [
              0.1111111111111111,
              "#46039f"
             ],
             [
              0.2222222222222222,
              "#7201a8"
             ],
             [
              0.3333333333333333,
              "#9c179e"
             ],
             [
              0.4444444444444444,
              "#bd3786"
             ],
             [
              0.5555555555555556,
              "#d8576b"
             ],
             [
              0.6666666666666666,
              "#ed7953"
             ],
             [
              0.7777777777777778,
              "#fb9f3a"
             ],
             [
              0.8888888888888888,
              "#fdca26"
             ],
             [
              1,
              "#f0f921"
             ]
            ],
            "type": "histogram2d"
           }
          ],
          "histogram2dcontour": [
           {
            "colorbar": {
             "outlinewidth": 0,
             "ticks": ""
            },
            "colorscale": [
             [
              0,
              "#0d0887"
             ],
             [
              0.1111111111111111,
              "#46039f"
             ],
             [
              0.2222222222222222,
              "#7201a8"
             ],
             [
              0.3333333333333333,
              "#9c179e"
             ],
             [
              0.4444444444444444,
              "#bd3786"
             ],
             [
              0.5555555555555556,
              "#d8576b"
             ],
             [
              0.6666666666666666,
              "#ed7953"
             ],
             [
              0.7777777777777778,
              "#fb9f3a"
             ],
             [
              0.8888888888888888,
              "#fdca26"
             ],
             [
              1,
              "#f0f921"
             ]
            ],
            "type": "histogram2dcontour"
           }
          ],
          "mesh3d": [
           {
            "colorbar": {
             "outlinewidth": 0,
             "ticks": ""
            },
            "type": "mesh3d"
           }
          ],
          "parcoords": [
           {
            "line": {
             "colorbar": {
              "outlinewidth": 0,
              "ticks": ""
             }
            },
            "type": "parcoords"
           }
          ],
          "pie": [
           {
            "automargin": true,
            "type": "pie"
           }
          ],
          "scatter": [
           {
            "fillpattern": {
             "fillmode": "overlay",
             "size": 10,
             "solidity": 0.2
            },
            "type": "scatter"
           }
          ],
          "scatter3d": [
           {
            "line": {
             "colorbar": {
              "outlinewidth": 0,
              "ticks": ""
             }
            },
            "marker": {
             "colorbar": {
              "outlinewidth": 0,
              "ticks": ""
             }
            },
            "type": "scatter3d"
           }
          ],
          "scattercarpet": [
           {
            "marker": {
             "colorbar": {
              "outlinewidth": 0,
              "ticks": ""
             }
            },
            "type": "scattercarpet"
           }
          ],
          "scattergeo": [
           {
            "marker": {
             "colorbar": {
              "outlinewidth": 0,
              "ticks": ""
             }
            },
            "type": "scattergeo"
           }
          ],
          "scattergl": [
           {
            "marker": {
             "colorbar": {
              "outlinewidth": 0,
              "ticks": ""
             }
            },
            "type": "scattergl"
           }
          ],
          "scattermapbox": [
           {
            "marker": {
             "colorbar": {
              "outlinewidth": 0,
              "ticks": ""
             }
            },
            "type": "scattermapbox"
           }
          ],
          "scatterpolar": [
           {
            "marker": {
             "colorbar": {
              "outlinewidth": 0,
              "ticks": ""
             }
            },
            "type": "scatterpolar"
           }
          ],
          "scatterpolargl": [
           {
            "marker": {
             "colorbar": {
              "outlinewidth": 0,
              "ticks": ""
             }
            },
            "type": "scatterpolargl"
           }
          ],
          "scatterternary": [
           {
            "marker": {
             "colorbar": {
              "outlinewidth": 0,
              "ticks": ""
             }
            },
            "type": "scatterternary"
           }
          ],
          "surface": [
           {
            "colorbar": {
             "outlinewidth": 0,
             "ticks": ""
            },
            "colorscale": [
             [
              0,
              "#0d0887"
             ],
             [
              0.1111111111111111,
              "#46039f"
             ],
             [
              0.2222222222222222,
              "#7201a8"
             ],
             [
              0.3333333333333333,
              "#9c179e"
             ],
             [
              0.4444444444444444,
              "#bd3786"
             ],
             [
              0.5555555555555556,
              "#d8576b"
             ],
             [
              0.6666666666666666,
              "#ed7953"
             ],
             [
              0.7777777777777778,
              "#fb9f3a"
             ],
             [
              0.8888888888888888,
              "#fdca26"
             ],
             [
              1,
              "#f0f921"
             ]
            ],
            "type": "surface"
           }
          ],
          "table": [
           {
            "cells": {
             "fill": {
              "color": "#EBF0F8"
             },
             "line": {
              "color": "white"
             }
            },
            "header": {
             "fill": {
              "color": "#C8D4E3"
             },
             "line": {
              "color": "white"
             }
            },
            "type": "table"
           }
          ]
         },
         "layout": {
          "annotationdefaults": {
           "arrowcolor": "#2a3f5f",
           "arrowhead": 0,
           "arrowwidth": 1
          },
          "autotypenumbers": "strict",
          "coloraxis": {
           "colorbar": {
            "outlinewidth": 0,
            "ticks": ""
           }
          },
          "colorscale": {
           "diverging": [
            [
             0,
             "#8e0152"
            ],
            [
             0.1,
             "#c51b7d"
            ],
            [
             0.2,
             "#de77ae"
            ],
            [
             0.3,
             "#f1b6da"
            ],
            [
             0.4,
             "#fde0ef"
            ],
            [
             0.5,
             "#f7f7f7"
            ],
            [
             0.6,
             "#e6f5d0"
            ],
            [
             0.7,
             "#b8e186"
            ],
            [
             0.8,
             "#7fbc41"
            ],
            [
             0.9,
             "#4d9221"
            ],
            [
             1,
             "#276419"
            ]
           ],
           "sequential": [
            [
             0,
             "#0d0887"
            ],
            [
             0.1111111111111111,
             "#46039f"
            ],
            [
             0.2222222222222222,
             "#7201a8"
            ],
            [
             0.3333333333333333,
             "#9c179e"
            ],
            [
             0.4444444444444444,
             "#bd3786"
            ],
            [
             0.5555555555555556,
             "#d8576b"
            ],
            [
             0.6666666666666666,
             "#ed7953"
            ],
            [
             0.7777777777777778,
             "#fb9f3a"
            ],
            [
             0.8888888888888888,
             "#fdca26"
            ],
            [
             1,
             "#f0f921"
            ]
           ],
           "sequentialminus": [
            [
             0,
             "#0d0887"
            ],
            [
             0.1111111111111111,
             "#46039f"
            ],
            [
             0.2222222222222222,
             "#7201a8"
            ],
            [
             0.3333333333333333,
             "#9c179e"
            ],
            [
             0.4444444444444444,
             "#bd3786"
            ],
            [
             0.5555555555555556,
             "#d8576b"
            ],
            [
             0.6666666666666666,
             "#ed7953"
            ],
            [
             0.7777777777777778,
             "#fb9f3a"
            ],
            [
             0.8888888888888888,
             "#fdca26"
            ],
            [
             1,
             "#f0f921"
            ]
           ]
          },
          "colorway": [
           "#636efa",
           "#EF553B",
           "#00cc96",
           "#ab63fa",
           "#FFA15A",
           "#19d3f3",
           "#FF6692",
           "#B6E880",
           "#FF97FF",
           "#FECB52"
          ],
          "font": {
           "color": "#2a3f5f"
          },
          "geo": {
           "bgcolor": "white",
           "lakecolor": "white",
           "landcolor": "#E5ECF6",
           "showlakes": true,
           "showland": true,
           "subunitcolor": "white"
          },
          "hoverlabel": {
           "align": "left"
          },
          "hovermode": "closest",
          "mapbox": {
           "style": "light"
          },
          "paper_bgcolor": "white",
          "plot_bgcolor": "#E5ECF6",
          "polar": {
           "angularaxis": {
            "gridcolor": "white",
            "linecolor": "white",
            "ticks": ""
           },
           "bgcolor": "#E5ECF6",
           "radialaxis": {
            "gridcolor": "white",
            "linecolor": "white",
            "ticks": ""
           }
          },
          "scene": {
           "xaxis": {
            "backgroundcolor": "#E5ECF6",
            "gridcolor": "white",
            "gridwidth": 2,
            "linecolor": "white",
            "showbackground": true,
            "ticks": "",
            "zerolinecolor": "white"
           },
           "yaxis": {
            "backgroundcolor": "#E5ECF6",
            "gridcolor": "white",
            "gridwidth": 2,
            "linecolor": "white",
            "showbackground": true,
            "ticks": "",
            "zerolinecolor": "white"
           },
           "zaxis": {
            "backgroundcolor": "#E5ECF6",
            "gridcolor": "white",
            "gridwidth": 2,
            "linecolor": "white",
            "showbackground": true,
            "ticks": "",
            "zerolinecolor": "white"
           }
          },
          "shapedefaults": {
           "line": {
            "color": "#2a3f5f"
           }
          },
          "ternary": {
           "aaxis": {
            "gridcolor": "white",
            "linecolor": "white",
            "ticks": ""
           },
           "baxis": {
            "gridcolor": "white",
            "linecolor": "white",
            "ticks": ""
           },
           "bgcolor": "#E5ECF6",
           "caxis": {
            "gridcolor": "white",
            "linecolor": "white",
            "ticks": ""
           }
          },
          "title": {
           "x": 0.05
          },
          "xaxis": {
           "automargin": true,
           "gridcolor": "white",
           "linecolor": "white",
           "ticks": "",
           "title": {
            "standoff": 15
           },
           "zerolinecolor": "white",
           "zerolinewidth": 2
          },
          "yaxis": {
           "automargin": true,
           "gridcolor": "white",
           "linecolor": "white",
           "ticks": "",
           "title": {
            "standoff": 15
           },
           "zerolinecolor": "white",
           "zerolinewidth": 2
          }
         }
        },
        "title": {
         "text": "Rendements cumulatifs sans coûts inclus"
        }
       }
      }
     },
     "metadata": {},
     "output_type": "display_data"
    },
    {
     "data": {
      "application/vnd.plotly.v1+json": {
       "config": {
        "plotlyServerURL": "https://plot.ly"
       },
       "data": [
        {
         "mode": "lines",
         "name": "day_var_strat_daily",
         "type": "scatter",
         "x": [
          "2022-01-01T00:00:00",
          "2022-01-02T00:00:00",
          "2022-01-03T00:00:00",
          "2022-01-04T00:00:00",
          "2022-01-05T00:00:00",
          "2022-01-06T00:00:00",
          "2022-01-07T00:00:00",
          "2022-01-08T00:00:00",
          "2022-01-09T00:00:00",
          "2022-01-10T00:00:00",
          "2022-01-11T00:00:00",
          "2022-01-12T00:00:00",
          "2022-01-13T00:00:00",
          "2022-01-14T00:00:00",
          "2022-01-15T00:00:00",
          "2022-01-16T00:00:00",
          "2022-01-17T00:00:00",
          "2022-01-18T00:00:00",
          "2022-01-19T00:00:00",
          "2022-01-20T00:00:00",
          "2022-01-21T00:00:00",
          "2022-01-22T00:00:00",
          "2022-01-23T00:00:00",
          "2022-01-24T00:00:00",
          "2022-01-25T00:00:00",
          "2022-01-26T00:00:00",
          "2022-01-27T00:00:00",
          "2022-01-28T00:00:00",
          "2022-01-29T00:00:00",
          "2022-01-30T00:00:00",
          "2022-01-31T00:00:00",
          "2022-02-01T00:00:00",
          "2022-02-02T00:00:00",
          "2022-02-03T00:00:00",
          "2022-02-04T00:00:00",
          "2022-02-05T00:00:00",
          "2022-02-06T00:00:00",
          "2022-02-07T00:00:00",
          "2022-02-08T00:00:00",
          "2022-02-09T00:00:00",
          "2022-02-10T00:00:00",
          "2022-02-11T00:00:00",
          "2022-02-12T00:00:00",
          "2022-02-13T00:00:00",
          "2022-02-14T00:00:00",
          "2022-02-15T00:00:00",
          "2022-02-16T00:00:00",
          "2022-02-17T00:00:00",
          "2022-02-18T00:00:00",
          "2022-02-19T00:00:00",
          "2022-02-20T00:00:00",
          "2022-02-21T00:00:00",
          "2022-02-22T00:00:00",
          "2022-02-23T00:00:00",
          "2022-02-24T00:00:00",
          "2022-02-25T00:00:00",
          "2022-02-26T00:00:00",
          "2022-02-27T00:00:00",
          "2022-02-28T00:00:00",
          "2022-03-01T00:00:00",
          "2022-03-02T00:00:00",
          "2022-03-03T00:00:00",
          "2022-03-04T00:00:00",
          "2022-03-05T00:00:00",
          "2022-03-06T00:00:00",
          "2022-03-07T00:00:00",
          "2022-03-08T00:00:00",
          "2022-03-09T00:00:00",
          "2022-03-10T00:00:00",
          "2022-03-11T00:00:00",
          "2022-03-12T00:00:00",
          "2022-03-13T00:00:00",
          "2022-03-14T00:00:00",
          "2022-03-15T00:00:00",
          "2022-03-16T00:00:00",
          "2022-03-17T00:00:00",
          "2022-03-18T00:00:00",
          "2022-03-19T00:00:00",
          "2022-03-20T00:00:00",
          "2022-03-21T00:00:00",
          "2022-03-22T00:00:00",
          "2022-03-23T00:00:00",
          "2022-03-24T00:00:00",
          "2022-03-25T00:00:00",
          "2022-03-26T00:00:00",
          "2022-03-27T00:00:00",
          "2022-03-28T00:00:00",
          "2022-03-29T00:00:00",
          "2022-03-30T00:00:00",
          "2022-03-31T00:00:00",
          "2022-04-01T00:00:00",
          "2022-04-02T00:00:00",
          "2022-04-03T00:00:00",
          "2022-04-04T00:00:00",
          "2022-04-05T00:00:00",
          "2022-04-06T00:00:00",
          "2022-04-07T00:00:00",
          "2022-04-08T00:00:00",
          "2022-04-09T00:00:00",
          "2022-04-10T00:00:00",
          "2022-04-11T00:00:00",
          "2022-04-12T00:00:00",
          "2022-04-13T00:00:00",
          "2022-04-14T00:00:00",
          "2022-04-15T00:00:00",
          "2022-04-16T00:00:00",
          "2022-04-17T00:00:00",
          "2022-04-18T00:00:00",
          "2022-04-19T00:00:00",
          "2022-04-20T00:00:00",
          "2022-04-21T00:00:00",
          "2022-04-22T00:00:00",
          "2022-04-23T00:00:00",
          "2022-04-24T00:00:00",
          "2022-04-25T00:00:00",
          "2022-04-26T00:00:00",
          "2022-04-27T00:00:00",
          "2022-04-28T00:00:00",
          "2022-04-29T00:00:00",
          "2022-04-30T00:00:00",
          "2022-05-01T00:00:00",
          "2022-05-02T00:00:00",
          "2022-05-03T00:00:00",
          "2022-05-04T00:00:00",
          "2022-05-05T00:00:00",
          "2022-05-06T00:00:00",
          "2022-05-07T00:00:00",
          "2022-05-08T00:00:00",
          "2022-05-09T00:00:00",
          "2022-05-10T00:00:00",
          "2022-05-11T00:00:00",
          "2022-05-12T00:00:00",
          "2022-05-13T00:00:00",
          "2022-05-14T00:00:00",
          "2022-05-15T00:00:00",
          "2022-05-16T00:00:00",
          "2022-05-17T00:00:00",
          "2022-05-18T00:00:00",
          "2022-05-19T00:00:00",
          "2022-05-20T00:00:00",
          "2022-05-21T00:00:00",
          "2022-05-22T00:00:00",
          "2022-05-23T00:00:00",
          "2022-05-24T00:00:00",
          "2022-05-25T00:00:00",
          "2022-05-26T00:00:00",
          "2022-05-27T00:00:00",
          "2022-05-28T00:00:00",
          "2022-05-29T00:00:00",
          "2022-05-30T00:00:00",
          "2022-05-31T00:00:00",
          "2022-06-01T00:00:00",
          "2022-06-02T00:00:00",
          "2022-06-03T00:00:00",
          "2022-06-04T00:00:00",
          "2022-06-05T00:00:00",
          "2022-06-06T00:00:00",
          "2022-06-07T00:00:00",
          "2022-06-08T00:00:00",
          "2022-06-09T00:00:00",
          "2022-06-10T00:00:00",
          "2022-06-11T00:00:00",
          "2022-06-12T00:00:00",
          "2022-06-13T00:00:00",
          "2022-06-14T00:00:00",
          "2022-06-15T00:00:00",
          "2022-06-16T00:00:00",
          "2022-06-17T00:00:00",
          "2022-06-18T00:00:00",
          "2022-06-19T00:00:00",
          "2022-06-20T00:00:00",
          "2022-06-21T00:00:00",
          "2022-06-22T00:00:00",
          "2022-06-23T00:00:00",
          "2022-06-24T00:00:00",
          "2022-06-25T00:00:00",
          "2022-06-26T00:00:00",
          "2022-06-27T00:00:00",
          "2022-06-28T00:00:00",
          "2022-06-29T00:00:00",
          "2022-06-30T00:00:00",
          "2022-07-01T00:00:00",
          "2022-07-02T00:00:00",
          "2022-07-03T00:00:00",
          "2022-07-04T00:00:00",
          "2022-07-05T00:00:00",
          "2022-07-06T00:00:00",
          "2022-07-07T00:00:00",
          "2022-07-08T00:00:00",
          "2022-07-09T00:00:00",
          "2022-07-10T00:00:00",
          "2022-07-11T00:00:00",
          "2022-07-12T00:00:00",
          "2022-07-13T00:00:00",
          "2022-07-14T00:00:00",
          "2022-07-15T00:00:00",
          "2022-07-16T00:00:00",
          "2022-07-17T00:00:00",
          "2022-07-18T00:00:00",
          "2022-07-19T00:00:00",
          "2022-07-20T00:00:00",
          "2022-07-21T00:00:00",
          "2022-07-22T00:00:00",
          "2022-07-23T00:00:00",
          "2022-07-24T00:00:00",
          "2022-07-25T00:00:00",
          "2022-07-26T00:00:00",
          "2022-07-27T00:00:00",
          "2022-07-28T00:00:00",
          "2022-07-29T00:00:00",
          "2022-07-30T00:00:00",
          "2022-07-31T00:00:00",
          "2022-08-01T00:00:00",
          "2022-08-02T00:00:00",
          "2022-08-03T00:00:00",
          "2022-08-04T00:00:00",
          "2022-08-05T00:00:00",
          "2022-08-06T00:00:00",
          "2022-08-07T00:00:00",
          "2022-08-08T00:00:00",
          "2022-08-09T00:00:00",
          "2022-08-10T00:00:00",
          "2022-08-11T00:00:00",
          "2022-08-12T00:00:00",
          "2022-08-13T00:00:00",
          "2022-08-14T00:00:00",
          "2022-08-15T00:00:00",
          "2022-08-16T00:00:00",
          "2022-08-17T00:00:00",
          "2022-08-18T00:00:00",
          "2022-08-19T00:00:00",
          "2022-08-20T00:00:00",
          "2022-08-21T00:00:00",
          "2022-08-22T00:00:00",
          "2022-08-23T00:00:00",
          "2022-08-24T00:00:00",
          "2022-08-25T00:00:00",
          "2022-08-26T00:00:00",
          "2022-08-27T00:00:00",
          "2022-08-28T00:00:00",
          "2022-08-29T00:00:00",
          "2022-08-30T00:00:00",
          "2022-08-31T00:00:00",
          "2022-09-01T00:00:00",
          "2022-09-02T00:00:00",
          "2022-09-03T00:00:00",
          "2022-09-04T00:00:00",
          "2022-09-05T00:00:00",
          "2022-09-06T00:00:00",
          "2022-09-07T00:00:00",
          "2022-09-08T00:00:00",
          "2022-09-09T00:00:00",
          "2022-09-10T00:00:00",
          "2022-09-11T00:00:00",
          "2022-09-12T00:00:00",
          "2022-09-13T00:00:00",
          "2022-09-14T00:00:00",
          "2022-09-15T00:00:00",
          "2022-09-16T00:00:00",
          "2022-09-17T00:00:00",
          "2022-09-18T00:00:00",
          "2022-09-19T00:00:00",
          "2022-09-20T00:00:00",
          "2022-09-21T00:00:00",
          "2022-09-22T00:00:00",
          "2022-09-23T00:00:00",
          "2022-09-24T00:00:00",
          "2022-09-25T00:00:00",
          "2022-09-26T00:00:00",
          "2022-09-27T00:00:00",
          "2022-09-28T00:00:00",
          "2022-09-29T00:00:00",
          "2022-09-30T00:00:00",
          "2022-10-01T00:00:00",
          "2022-10-02T00:00:00",
          "2022-10-03T00:00:00",
          "2022-10-04T00:00:00",
          "2022-10-05T00:00:00",
          "2022-10-06T00:00:00",
          "2022-10-07T00:00:00",
          "2022-10-08T00:00:00",
          "2022-10-09T00:00:00",
          "2022-10-10T00:00:00",
          "2022-10-11T00:00:00",
          "2022-10-12T00:00:00",
          "2022-10-13T00:00:00",
          "2022-10-14T00:00:00",
          "2022-10-15T00:00:00",
          "2022-10-16T00:00:00",
          "2022-10-17T00:00:00",
          "2022-10-18T00:00:00",
          "2022-10-19T00:00:00",
          "2022-10-20T00:00:00",
          "2022-10-21T00:00:00",
          "2022-10-22T00:00:00",
          "2022-10-23T00:00:00",
          "2022-10-24T00:00:00",
          "2022-10-25T00:00:00",
          "2022-10-26T00:00:00",
          "2022-10-27T00:00:00",
          "2022-10-28T00:00:00",
          "2022-10-29T00:00:00",
          "2022-10-30T00:00:00",
          "2022-10-31T00:00:00",
          "2022-11-01T00:00:00",
          "2022-11-02T00:00:00",
          "2022-11-03T00:00:00",
          "2022-11-04T00:00:00",
          "2022-11-05T00:00:00",
          "2022-11-06T00:00:00",
          "2022-11-07T00:00:00",
          "2022-11-08T00:00:00",
          "2022-11-09T00:00:00",
          "2022-11-10T00:00:00",
          "2022-11-11T00:00:00",
          "2022-11-12T00:00:00",
          "2022-11-13T00:00:00",
          "2022-11-14T00:00:00",
          "2022-11-15T00:00:00",
          "2022-11-16T00:00:00",
          "2022-11-17T00:00:00",
          "2022-11-18T00:00:00",
          "2022-11-19T00:00:00",
          "2022-11-20T00:00:00",
          "2022-11-21T00:00:00",
          "2022-11-22T00:00:00",
          "2022-11-23T00:00:00",
          "2022-11-24T00:00:00",
          "2022-11-25T00:00:00",
          "2022-11-26T00:00:00",
          "2022-11-27T00:00:00",
          "2022-11-28T00:00:00",
          "2022-11-29T00:00:00",
          "2022-11-30T00:00:00",
          "2022-12-01T00:00:00",
          "2022-12-02T00:00:00",
          "2022-12-03T00:00:00",
          "2022-12-04T00:00:00",
          "2022-12-05T00:00:00",
          "2022-12-06T00:00:00",
          "2022-12-07T00:00:00",
          "2022-12-08T00:00:00",
          "2022-12-09T00:00:00",
          "2022-12-10T00:00:00",
          "2022-12-11T00:00:00",
          "2022-12-12T00:00:00",
          "2022-12-13T00:00:00",
          "2022-12-14T00:00:00",
          "2022-12-15T00:00:00",
          "2022-12-16T00:00:00",
          "2022-12-17T00:00:00",
          "2022-12-18T00:00:00",
          "2022-12-19T00:00:00",
          "2022-12-20T00:00:00",
          "2022-12-21T00:00:00",
          "2022-12-22T00:00:00",
          "2022-12-23T00:00:00",
          "2022-12-24T00:00:00",
          "2022-12-25T00:00:00",
          "2022-12-26T00:00:00",
          "2022-12-27T00:00:00",
          "2022-12-28T00:00:00",
          "2022-12-29T00:00:00",
          "2022-12-30T00:00:00"
         ],
         "y": [
          1,
          1,
          0.9892933473268493,
          0.9893386462641433,
          1.028415687074308,
          1.0318555117810184,
          1.0553759348666927,
          1.094649363846114,
          1.0736031050012174,
          1.0378371430111322,
          0.9856613285926823,
          1.0378508006823892,
          0.9879361986845119,
          0.9686108587723625,
          0.9749524101328264,
          0.9721068707957491,
          0.9644211829920478,
          0.9803684600721717,
          0.9994409966850912,
          1.0375273343376554,
          1.1633652781160566,
          1.2639540124113926,
          1.206561752443179,
          1.1756719786446261,
          1.156072901808757,
          1.164501668410611,
          1.1638782436515716,
          1.1560015140529325,
          1.1759786045996612,
          1.170259993272453,
          1.1671028701798987,
          1.189352869434248,
          1.1593472206280715,
          1.1386750195512694,
          1.2068923277480708,
          1.2341369230229169,
          1.249395445558486,
          1.288101703607561,
          1.2619787965827236,
          1.2376668909023303,
          1.2040062045281676,
          1.241133831109508,
          1.2158537594816432,
          1.2049174536220368,
          1.1844743672272087,
          1.231987172651299,
          1.2154877963861055,
          1.254837306228889,
          1.2800939126427557,
          1.2957336372772756,
          1.3124310010413345,
          1.407473391106637,
          1.3413298505358453,
          1.308793185779615,
          1.3141638706686778,
          1.2881379256864693,
          1.2816392404505061,
          1.2751931422457026,
          1.174280281459072,
          1.1914549378677266,
          1.1742527733208779,
          1.2063378332743406,
          1.25860891223298,
          1.2328213291080188,
          1.187326387206849,
          1.196731832500308,
          1.200328831599821,
          1.2297842447746576,
          1.1706706480032543,
          1.182206630813412,
          1.185720073550755,
          1.195726934914687,
          1.1589712056601502,
          1.1630409162362814,
          1.1439412189111495,
          1.1345599299571973,
          1.10778618158845,
          1.170340671082654,
          1.1478800249390118,
          1.124221083634615,
          1.1536717120293551,
          1.1640415532804327,
          1.1932599215381743,
          1.181887056374121,
          1.1587470209503528,
          1.2105694003017753,
          1.1837102948769977,
          1.152193854784104,
          1.1739727331551288,
          1.1541324792746557,
          1.1237288284896034,
          1.1317822074778816,
          1.108226152790506,
          1.087353006993309,
          1.0943494376978888,
          1.1965041522172306,
          1.1544430652086592,
          1.1068235349128648,
          1.0710782542435857,
          1.0491138142963101,
          1.1313378805245564,
          1.0856021523278185,
          1.117303256992774,
          1.0921803351534227,
          1.0823826652410478,
          1.0849846387772903,
          1.0969002741223128,
          1.074261134979015,
          1.098064447779866,
          1.100348623702526,
          1.112401876768264,
          1.108312359916925,
          1.1057312767029006,
          1.1176375614579348,
          1.1185051846770342,
          1.1344331456851966,
          1.0828918431395969,
          1.0794276738441868,
          1.080094189569052,
          1.180043909941579,
          1.1308717624813718,
          1.1236530403398068,
          1.1262903746736503,
          1.031099315901831,
          0.9265075913573607,
          0.933164415283041,
          0.9445832485081641,
          0.9704185302124909,
          1.127334227817351,
          1.0860101419440706,
          0.9024594977329377,
          0.9689813076094047,
          0.8902377232821628,
          0.9368509917153085,
          0.9912240923709861,
          0.9156711014048111,
          0.8401279444916604,
          0.7764133282917673,
          0.7313642624173191,
          0.7081144731697464,
          0.6837468283276438,
          0.6979813149291593,
          0.6845815261145964,
          0.657681115678034,
          0.6435359084443267,
          0.6635649091825088,
          0.6818974013415193,
          0.6477203296830544,
          0.6832048569258968,
          0.7085643636341394,
          0.7098654976544548,
          0.7108202230686036,
          0.68914603486523,
          0.6548679078723024,
          0.6421111928504066,
          0.6331880500079271,
          0.619983247213443,
          0.6288074053009202,
          0.6301265803349858,
          0.6250804074264714,
          0.6332406935936827,
          0.6835548137356491,
          0.739337538938546,
          0.8082972405154532,
          0.8024165263409648,
          0.8210099919965607,
          0.7460832772997331,
          0.7287968194774413,
          0.6997086306504885,
          0.6500056909231177,
          0.6680300396978827,
          0.6717659447717328,
          0.6661391452373253,
          0.619024189726285,
          0.6520412978417243,
          0.6583331350797387,
          0.6481882419279198,
          0.6424750711209424,
          0.6410058807173084,
          0.6470807998083759,
          0.640302314151443,
          0.6496504784816534,
          0.6443587792730011,
          0.6389253377823503,
          0.643181654321746,
          0.6364888634200129,
          0.6160288324266843,
          0.6302875549787542,
          0.6203062462199876,
          0.6115338990747459,
          0.589165447747745,
          0.6226212399594033,
          0.6379922668135792,
          0.5918750770760726,
          0.6126199105231087,
          0.6106206169812947,
          0.6002937077376219,
          0.5898548495150446,
          0.5598471835535178,
          0.5737643629293439,
          0.5533834012402674,
          0.5390248211789657,
          0.5323496550096902,
          0.5258397474937588,
          0.5179309672936991,
          0.5115308089572641,
          0.5098759702610652,
          0.5109324420174393,
          0.5428173544949155,
          0.5588380421713891,
          0.5461214846024526,
          0.5461392089416569,
          0.5427328286880596,
          0.5333273418040199,
          0.5324243309346349,
          0.5320705509144427,
          0.5361130889443548,
          0.5314153624836431,
          0.5250612586760985,
          0.5244546539284084,
          0.5116333745832473,
          0.49025319432852643,
          0.49230453124073925,
          0.4873751857766055,
          0.48267760360546713,
          0.4879055958129074,
          0.48990743836807227,
          0.49122350474451226,
          0.5001924577517863,
          0.5152731001838015,
          0.561515899155804,
          0.5546299979074648,
          0.5580770815228049,
          0.5549236929209579,
          0.5482909241737102,
          0.5545759918579349,
          0.5500955369081233,
          0.5269214185668664,
          0.5226842385438658,
          0.5204771341330856,
          0.4879743811463215,
          0.47600042317913677,
          0.4722946915513294,
          0.4745043858599449,
          0.4752952262682479,
          0.4772041804523041,
          0.47646343782681116,
          0.4763712421207545,
          0.4904218670797559,
          0.46550156898351597,
          0.47122801316984175,
          0.48420452638017275,
          0.48440512639783,
          0.4872656399989743,
          0.485593603280956,
          0.5050338074257373,
          0.49214582632579323,
          0.48090033028978174,
          0.4799943704320921,
          0.4829016056905662,
          0.44692332396198875,
          0.4377709975209492,
          0.42746638421241356,
          0.43570788002620003,
          0.4162679210826381,
          0.4218232178491547,
          0.4176598005921174,
          0.4211462891703259,
          0.41407291061220675,
          0.4112679572346255,
          0.40934830544193623,
          0.418089314557096,
          0.4133549083836622,
          0.41249562611379403,
          0.4178541146959896,
          0.40685417703854065,
          0.4143726139830659,
          0.4117600024917977,
          0.41412026330859486,
          0.416590396610965,
          0.4189675798787494,
          0.4173005594109341,
          0.4083164083584079,
          0.41508749370122816,
          0.4162691953275487,
          0.4168701719437284,
          0.41672270656568866,
          0.41347544731823743,
          0.40944117840391275,
          0.41303966421239846,
          0.4113848517235066,
          0.4208237354558771,
          0.42291869038824464,
          0.4245434593083399,
          0.4237764157975359,
          0.42290918103712094,
          0.41777344437488867,
          0.4075311070949869,
          0.4125711500354938,
          0.4079186288580744,
          0.4012851199666779,
          0.4083597279752381,
          0.40461037516137777,
          0.40521501535270776,
          0.40386531277187415,
          0.4069541988793925,
          0.38356933087847556,
          0.40415688987413395,
          0.4053229051174736,
          0.408295404288607,
          0.40916247427288643,
          0.42798782930989704,
          0.515040303384403,
          0.4210090644590299,
          0.40409285724084887,
          0.418082015277197,
          0.4240292043519759,
          0.418704699064888,
          0.4231384185529729,
          0.417560477435412,
          0.41919938672727597,
          0.4194484820396973,
          0.4195387708805243,
          0.42027845897966326,
          0.42702521030286117,
          0.42022644353964267,
          0.43403652052996883,
          0.43519273805791,
          0.433105370280295,
          0.4298670760592391,
          0.4319811606060332,
          0.42906069817169884,
          0.4182596941557576,
          0.4264536282063842,
          0.42072575206111573,
          0.4155237521528947,
          0.4068849133230561,
          0.40122141365341596,
          0.40420155544657727,
          0.4010774834882652,
          0.398082531244434,
          0.3888833995008704,
          0.38818586399036603,
          0.3877670613278582,
          0.38582555626034887,
          0.38901074884920844,
          0.38768224847869687,
          0.3854981615374532,
          0.3900591340488866,
          0.4206190001234302,
          0.4061088534459733,
          0.40194588696865124,
          0.41231482355863786,
          0.3941977118594178,
          0.3885153291646015,
          0.38595290295369516,
          0.3859657725344778,
          0.3844324754788576,
          0.3848070531201835,
          0.38361333004777126,
          0.3810790503742603,
          0.3892807061932235,
          0.3887747151496682,
          0.38816910131883625
         ]
        },
        {
         "mode": "lines",
         "name": "ols_strat",
         "type": "scatter",
         "x": [
          "2022-01-01T00:00:00",
          "2022-01-02T00:00:00",
          "2022-01-03T00:00:00",
          "2022-01-04T00:00:00",
          "2022-01-05T00:00:00",
          "2022-01-06T00:00:00",
          "2022-01-07T00:00:00",
          "2022-01-08T00:00:00",
          "2022-01-09T00:00:00",
          "2022-01-10T00:00:00",
          "2022-01-11T00:00:00",
          "2022-01-12T00:00:00",
          "2022-01-13T00:00:00",
          "2022-01-14T00:00:00",
          "2022-01-15T00:00:00",
          "2022-01-16T00:00:00",
          "2022-01-17T00:00:00",
          "2022-01-18T00:00:00",
          "2022-01-19T00:00:00",
          "2022-01-20T00:00:00",
          "2022-01-21T00:00:00",
          "2022-01-22T00:00:00",
          "2022-01-23T00:00:00",
          "2022-01-24T00:00:00",
          "2022-01-25T00:00:00",
          "2022-01-26T00:00:00",
          "2022-01-27T00:00:00",
          "2022-01-28T00:00:00",
          "2022-01-29T00:00:00",
          "2022-01-30T00:00:00",
          "2022-01-31T00:00:00",
          "2022-02-01T00:00:00",
          "2022-02-02T00:00:00",
          "2022-02-03T00:00:00",
          "2022-02-04T00:00:00",
          "2022-02-05T00:00:00",
          "2022-02-06T00:00:00",
          "2022-02-07T00:00:00",
          "2022-02-08T00:00:00",
          "2022-02-09T00:00:00",
          "2022-02-10T00:00:00",
          "2022-02-11T00:00:00",
          "2022-02-12T00:00:00",
          "2022-02-13T00:00:00",
          "2022-02-14T00:00:00",
          "2022-02-15T00:00:00",
          "2022-02-16T00:00:00",
          "2022-02-17T00:00:00",
          "2022-02-18T00:00:00",
          "2022-02-19T00:00:00",
          "2022-02-20T00:00:00",
          "2022-02-21T00:00:00",
          "2022-02-22T00:00:00",
          "2022-02-23T00:00:00",
          "2022-02-24T00:00:00",
          "2022-02-25T00:00:00",
          "2022-02-26T00:00:00",
          "2022-02-27T00:00:00",
          "2022-02-28T00:00:00",
          "2022-03-01T00:00:00",
          "2022-03-02T00:00:00",
          "2022-03-03T00:00:00",
          "2022-03-04T00:00:00",
          "2022-03-05T00:00:00",
          "2022-03-06T00:00:00",
          "2022-03-07T00:00:00",
          "2022-03-08T00:00:00",
          "2022-03-09T00:00:00",
          "2022-03-10T00:00:00",
          "2022-03-11T00:00:00",
          "2022-03-12T00:00:00",
          "2022-03-13T00:00:00",
          "2022-03-14T00:00:00",
          "2022-03-15T00:00:00",
          "2022-03-16T00:00:00",
          "2022-03-17T00:00:00",
          "2022-03-18T00:00:00",
          "2022-03-19T00:00:00",
          "2022-03-20T00:00:00",
          "2022-03-21T00:00:00",
          "2022-03-22T00:00:00",
          "2022-03-23T00:00:00",
          "2022-03-24T00:00:00",
          "2022-03-25T00:00:00",
          "2022-03-26T00:00:00",
          "2022-03-27T00:00:00",
          "2022-03-28T00:00:00",
          "2022-03-29T00:00:00",
          "2022-03-30T00:00:00",
          "2022-03-31T00:00:00",
          "2022-04-01T00:00:00",
          "2022-04-02T00:00:00",
          "2022-04-03T00:00:00",
          "2022-04-04T00:00:00",
          "2022-04-05T00:00:00",
          "2022-04-06T00:00:00",
          "2022-04-07T00:00:00",
          "2022-04-08T00:00:00",
          "2022-04-09T00:00:00",
          "2022-04-10T00:00:00",
          "2022-04-11T00:00:00",
          "2022-04-12T00:00:00",
          "2022-04-13T00:00:00",
          "2022-04-14T00:00:00",
          "2022-04-15T00:00:00",
          "2022-04-16T00:00:00",
          "2022-04-17T00:00:00",
          "2022-04-18T00:00:00",
          "2022-04-19T00:00:00",
          "2022-04-20T00:00:00",
          "2022-04-21T00:00:00",
          "2022-04-22T00:00:00",
          "2022-04-23T00:00:00",
          "2022-04-24T00:00:00",
          "2022-04-25T00:00:00",
          "2022-04-26T00:00:00",
          "2022-04-27T00:00:00",
          "2022-04-28T00:00:00",
          "2022-04-29T00:00:00",
          "2022-04-30T00:00:00",
          "2022-05-01T00:00:00",
          "2022-05-02T00:00:00",
          "2022-05-03T00:00:00",
          "2022-05-04T00:00:00",
          "2022-05-05T00:00:00",
          "2022-05-06T00:00:00",
          "2022-05-07T00:00:00",
          "2022-05-08T00:00:00",
          "2022-05-09T00:00:00",
          "2022-05-10T00:00:00",
          "2022-05-11T00:00:00",
          "2022-05-12T00:00:00",
          "2022-05-13T00:00:00",
          "2022-05-14T00:00:00",
          "2022-05-15T00:00:00",
          "2022-05-16T00:00:00",
          "2022-05-17T00:00:00",
          "2022-05-18T00:00:00",
          "2022-05-19T00:00:00",
          "2022-05-20T00:00:00",
          "2022-05-21T00:00:00",
          "2022-05-22T00:00:00",
          "2022-05-23T00:00:00",
          "2022-05-24T00:00:00",
          "2022-05-25T00:00:00",
          "2022-05-26T00:00:00",
          "2022-05-27T00:00:00",
          "2022-05-28T00:00:00",
          "2022-05-29T00:00:00",
          "2022-05-30T00:00:00",
          "2022-05-31T00:00:00",
          "2022-06-01T00:00:00",
          "2022-06-02T00:00:00",
          "2022-06-03T00:00:00",
          "2022-06-04T00:00:00",
          "2022-06-05T00:00:00",
          "2022-06-06T00:00:00",
          "2022-06-07T00:00:00",
          "2022-06-08T00:00:00",
          "2022-06-09T00:00:00",
          "2022-06-10T00:00:00",
          "2022-06-11T00:00:00",
          "2022-06-12T00:00:00",
          "2022-06-13T00:00:00",
          "2022-06-14T00:00:00",
          "2022-06-15T00:00:00",
          "2022-06-16T00:00:00",
          "2022-06-17T00:00:00",
          "2022-06-18T00:00:00",
          "2022-06-19T00:00:00",
          "2022-06-20T00:00:00",
          "2022-06-21T00:00:00",
          "2022-06-22T00:00:00",
          "2022-06-23T00:00:00",
          "2022-06-24T00:00:00",
          "2022-06-25T00:00:00",
          "2022-06-26T00:00:00",
          "2022-06-27T00:00:00",
          "2022-06-28T00:00:00",
          "2022-06-29T00:00:00",
          "2022-06-30T00:00:00",
          "2022-07-01T00:00:00",
          "2022-07-02T00:00:00",
          "2022-07-03T00:00:00",
          "2022-07-04T00:00:00",
          "2022-07-05T00:00:00",
          "2022-07-06T00:00:00",
          "2022-07-07T00:00:00",
          "2022-07-08T00:00:00",
          "2022-07-09T00:00:00",
          "2022-07-10T00:00:00",
          "2022-07-11T00:00:00",
          "2022-07-12T00:00:00",
          "2022-07-13T00:00:00",
          "2022-07-14T00:00:00",
          "2022-07-15T00:00:00",
          "2022-07-16T00:00:00",
          "2022-07-17T00:00:00",
          "2022-07-18T00:00:00",
          "2022-07-19T00:00:00",
          "2022-07-20T00:00:00",
          "2022-07-21T00:00:00",
          "2022-07-22T00:00:00",
          "2022-07-23T00:00:00",
          "2022-07-24T00:00:00",
          "2022-07-25T00:00:00",
          "2022-07-26T00:00:00",
          "2022-07-27T00:00:00",
          "2022-07-28T00:00:00",
          "2022-07-29T00:00:00",
          "2022-07-30T00:00:00",
          "2022-07-31T00:00:00",
          "2022-08-01T00:00:00",
          "2022-08-02T00:00:00",
          "2022-08-03T00:00:00",
          "2022-08-04T00:00:00",
          "2022-08-05T00:00:00",
          "2022-08-06T00:00:00",
          "2022-08-07T00:00:00",
          "2022-08-08T00:00:00",
          "2022-08-09T00:00:00",
          "2022-08-10T00:00:00",
          "2022-08-11T00:00:00",
          "2022-08-12T00:00:00",
          "2022-08-13T00:00:00",
          "2022-08-14T00:00:00",
          "2022-08-15T00:00:00",
          "2022-08-16T00:00:00",
          "2022-08-17T00:00:00",
          "2022-08-18T00:00:00",
          "2022-08-19T00:00:00",
          "2022-08-20T00:00:00",
          "2022-08-21T00:00:00",
          "2022-08-22T00:00:00",
          "2022-08-23T00:00:00",
          "2022-08-24T00:00:00",
          "2022-08-25T00:00:00",
          "2022-08-26T00:00:00",
          "2022-08-27T00:00:00",
          "2022-08-28T00:00:00",
          "2022-08-29T00:00:00",
          "2022-08-30T00:00:00",
          "2022-08-31T00:00:00",
          "2022-09-01T00:00:00",
          "2022-09-02T00:00:00",
          "2022-09-03T00:00:00",
          "2022-09-04T00:00:00",
          "2022-09-05T00:00:00",
          "2022-09-06T00:00:00",
          "2022-09-07T00:00:00",
          "2022-09-08T00:00:00",
          "2022-09-09T00:00:00",
          "2022-09-10T00:00:00",
          "2022-09-11T00:00:00",
          "2022-09-12T00:00:00",
          "2022-09-13T00:00:00",
          "2022-09-14T00:00:00",
          "2022-09-15T00:00:00",
          "2022-09-16T00:00:00",
          "2022-09-17T00:00:00",
          "2022-09-18T00:00:00",
          "2022-09-19T00:00:00",
          "2022-09-20T00:00:00",
          "2022-09-21T00:00:00",
          "2022-09-22T00:00:00",
          "2022-09-23T00:00:00",
          "2022-09-24T00:00:00",
          "2022-09-25T00:00:00",
          "2022-09-26T00:00:00",
          "2022-09-27T00:00:00",
          "2022-09-28T00:00:00",
          "2022-09-29T00:00:00",
          "2022-09-30T00:00:00",
          "2022-10-01T00:00:00",
          "2022-10-02T00:00:00",
          "2022-10-03T00:00:00",
          "2022-10-04T00:00:00",
          "2022-10-05T00:00:00",
          "2022-10-06T00:00:00",
          "2022-10-07T00:00:00",
          "2022-10-08T00:00:00",
          "2022-10-09T00:00:00",
          "2022-10-10T00:00:00",
          "2022-10-11T00:00:00",
          "2022-10-12T00:00:00",
          "2022-10-13T00:00:00",
          "2022-10-14T00:00:00",
          "2022-10-15T00:00:00",
          "2022-10-16T00:00:00",
          "2022-10-17T00:00:00",
          "2022-10-18T00:00:00",
          "2022-10-19T00:00:00",
          "2022-10-20T00:00:00",
          "2022-10-21T00:00:00",
          "2022-10-22T00:00:00",
          "2022-10-23T00:00:00",
          "2022-10-24T00:00:00",
          "2022-10-25T00:00:00",
          "2022-10-26T00:00:00",
          "2022-10-27T00:00:00",
          "2022-10-28T00:00:00",
          "2022-10-29T00:00:00",
          "2022-10-30T00:00:00",
          "2022-10-31T00:00:00",
          "2022-11-01T00:00:00",
          "2022-11-02T00:00:00",
          "2022-11-03T00:00:00",
          "2022-11-04T00:00:00",
          "2022-11-05T00:00:00",
          "2022-11-06T00:00:00",
          "2022-11-07T00:00:00",
          "2022-11-08T00:00:00",
          "2022-11-09T00:00:00",
          "2022-11-10T00:00:00",
          "2022-11-11T00:00:00",
          "2022-11-12T00:00:00",
          "2022-11-13T00:00:00",
          "2022-11-14T00:00:00",
          "2022-11-15T00:00:00",
          "2022-11-16T00:00:00",
          "2022-11-17T00:00:00",
          "2022-11-18T00:00:00",
          "2022-11-19T00:00:00",
          "2022-11-20T00:00:00",
          "2022-11-21T00:00:00",
          "2022-11-22T00:00:00",
          "2022-11-23T00:00:00",
          "2022-11-24T00:00:00",
          "2022-11-25T00:00:00",
          "2022-11-26T00:00:00",
          "2022-11-27T00:00:00",
          "2022-11-28T00:00:00",
          "2022-11-29T00:00:00",
          "2022-11-30T00:00:00",
          "2022-12-01T00:00:00",
          "2022-12-02T00:00:00",
          "2022-12-03T00:00:00",
          "2022-12-04T00:00:00",
          "2022-12-05T00:00:00",
          "2022-12-06T00:00:00",
          "2022-12-07T00:00:00",
          "2022-12-08T00:00:00",
          "2022-12-09T00:00:00",
          "2022-12-10T00:00:00",
          "2022-12-11T00:00:00",
          "2022-12-12T00:00:00",
          "2022-12-13T00:00:00",
          "2022-12-14T00:00:00",
          "2022-12-15T00:00:00",
          "2022-12-16T00:00:00",
          "2022-12-17T00:00:00",
          "2022-12-18T00:00:00",
          "2022-12-19T00:00:00",
          "2022-12-20T00:00:00",
          "2022-12-21T00:00:00",
          "2022-12-22T00:00:00",
          "2022-12-23T00:00:00",
          "2022-12-24T00:00:00",
          "2022-12-25T00:00:00",
          "2022-12-26T00:00:00",
          "2022-12-27T00:00:00",
          "2022-12-28T00:00:00",
          "2022-12-29T00:00:00",
          "2022-12-30T00:00:00"
         ],
         "y": [
          1,
          1,
          1,
          1,
          1,
          1,
          1,
          1,
          1,
          1,
          1,
          1,
          1,
          1,
          1,
          1,
          1,
          1,
          1,
          1,
          0.9608178519649246,
          0.8777420945604872,
          0.9165476487249464,
          0.8765850016993761,
          0.8975770506498159,
          0.9004863421119147,
          0.8997956887489553,
          0.8900624697349212,
          0.8622290503841288,
          0.8657806441347812,
          0.852684653893299,
          0.8303128660095778,
          0.8664153367289436,
          0.8486726999742221,
          0.7755179708066378,
          0.7595685595644699,
          0.7413170784148203,
          0.7106042711373477,
          0.7265122353383124,
          0.7165462745012714,
          0.7342335350430474,
          0.7133878700803488,
          0.7263577884360266,
          0.7153455795223287,
          0.7280898533420495,
          0.7801665393807752,
          0.7722857945425131,
          0.740984426511095,
          0.7263125637476995,
          0.7287791843576084,
          0.6910844393671287,
          0.6427075960984495,
          0.6739237161934843,
          0.6575166451893085,
          0.6424284169031288,
          0.6462961309760124,
          0.6452105309592931,
          0.6655913210072768,
          0.6165111658309538,
          0.6074942661925733,
          0.6194558171668354,
          0.6339274712871656,
          0.6705658824790309,
          0.6715279728770648,
          0.6960922654865708,
          0.6948959892538196,
          0.6992158826487519,
          0.7074389215261463,
          0.7262252713554799,
          0.7239399053295318,
          0.7285842281293112,
          0.7078159627334948,
          0.7274410422113426,
          0.7274580074695846,
          0.7038664387352918,
          0.706614843271028,
          0.6845424972719044,
          0.6443666227380814,
          0.6617461497872564,
          0.6557119234362485,
          0.6455016981965261,
          0.6337828767542567,
          0.6186688026126749,
          0.6241255935560226,
          0.6184600997762937,
          0.6011876985413215,
          0.6124400127782806,
          0.6166481516225617,
          0.6130762442623643,
          0.6098812459587665,
          0.6221504639691328,
          0.6251021921313827,
          0.645197278099379,
          0.6430892989955136,
          0.6369810787307387,
          0.5819159736979087,
          0.6023722490530999,
          0.5703890348322571,
          0.5877285088276993,
          0.5687644489751038,
          0.5180206772817788,
          0.5389623016225676,
          0.5563173337605515,
          0.5502759902320123,
          0.555956710465144,
          0.5562067162417531,
          0.5692201392759492,
          0.5602517184426077,
          0.5481696542786137,
          0.5476979805387756,
          0.5678560144871799,
          0.5707074511934903,
          0.5780941809601343,
          0.5848187145788868,
          0.5833793727560245,
          0.5832272502707928,
          0.6061463272380232,
          0.6112107511917073,
          0.6020208291205493,
          0.5548852604086534,
          0.5804084692089608,
          0.5752407191019199,
          0.5744942819462462,
          0.5830129474679902,
          0.6421520901936336,
          0.6420600476776952,
          0.6515630384762581,
          0.6537256601761334,
          0.6795172192665501,
          0.7110261382553345,
          0.5596718702912493,
          0.5184175138993588,
          0.5719222527576509,
          0.6020158450590714,
          0.5638621138629197,
          0.6081992294738141,
          0.5594753424518529,
          0.601905494848691,
          0.5563363816863948,
          0.5740221017709581,
          0.5511061945469022,
          0.5405081361061768,
          0.5620777192736995,
          0.5352886141353056,
          0.5463656974053831,
          0.5869067805809293,
          0.6077603824902127,
          0.5972922297914248,
          0.5932059135162985,
          0.5958712604959926,
          0.5984726188753299,
          0.6427776476228168,
          0.6499626998279445,
          0.6708454732083461,
          0.6805175538895654,
          0.6776784696864407,
          0.6826162742396886,
          0.6686550159305206,
          0.666446530902609,
          0.6656545044712633,
          0.676109617895385,
          0.6443296605756837,
          0.5968203856796536,
          0.5388142699283165,
          0.5441280723503634,
          0.5862390675787773,
          0.557578466986699,
          0.5703519036479435,
          0.5677839063200174,
          0.5707234850766305,
          0.559333214175616,
          0.553098125546482,
          0.5675462018630539,
          0.5321337226536516,
          0.5026693183981829,
          0.49779475080134483,
          0.523349585263887,
          0.5219370613599608,
          0.5388983656538153,
          0.5439846769852674,
          0.5528089737692278,
          0.5467690243269852,
          0.55325281593759,
          0.5548431424071706,
          0.5704289026094574,
          0.5689374004142261,
          0.570421550394704,
          0.5690778042054343,
          0.57730030073459,
          0.5676188094794085,
          0.5867024039022138,
          0.5966183997077067,
          0.5800691631859082,
          0.6234650531804327,
          0.6151806062318617,
          0.6187424609127377,
          0.6050020496682708,
          0.6163905488477296,
          0.591989296011312,
          0.5778702098653726,
          0.6023156296390352,
          0.6024286258673353,
          0.6076789945470159,
          0.6108274281520849,
          0.6180617240698828,
          0.6065610172312879,
          0.6114651598597078,
          0.6613212189900036,
          0.6660689029851558,
          0.6494118604016093,
          0.6594660644690772,
          0.6634990232658962,
          0.6609309462647562,
          0.6673286692093822,
          0.6747995497229878,
          0.6806385301216443,
          0.6863525961300836,
          0.6892960549238238,
          0.6902145980766933,
          0.6883656344073715,
          0.6858309592960108,
          0.7123479981475114,
          0.7030179003167486,
          0.7137662040312137,
          0.7154733368243872,
          0.6988027008865082,
          0.6945526475004781,
          0.6898998580399559,
          0.6656882841641636,
          0.644121239955951,
          0.5863150610534327,
          0.5957756813526773,
          0.612687054832314,
          0.6077475193630443,
          0.6215007439622562,
          0.6178323756393762,
          0.613834731508093,
          0.651067293735934,
          0.6501441014635666,
          0.6598536460579982,
          0.6498303789823726,
          0.6630660199646711,
          0.6637210511825334,
          0.6545258787824146,
          0.6581835755106675,
          0.6543327209641726,
          0.6446623903709082,
          0.6449901996437071,
          0.6816603668679665,
          0.7107385523386777,
          0.7073071612131766,
          0.678618479601158,
          0.6782738926337454,
          0.6763329714381014,
          0.681774930762694,
          0.7152219039051819,
          0.7337875603133156,
          0.7143463449899021,
          0.721949508816096,
          0.7405324051180687,
          0.7150235334156291,
          0.7306092614175614,
          0.7147215343759231,
          0.7000332053648184,
          0.7304779540921735,
          0.7201519972007773,
          0.7327264585804469,
          0.7368183645614659,
          0.7334294208317577,
          0.7376800915122705,
          0.7321135240881547,
          0.7138411452198616,
          0.7171089693588039,
          0.7236693801399785,
          0.732945789585668,
          0.7353235644265274,
          0.7258969157931949,
          0.7292491208087324,
          0.7365835484924135,
          0.7384680214369749,
          0.7326387328615784,
          0.7349571199353173,
          0.7193274124608421,
          0.7090030344337719,
          0.7062859063950513,
          0.6937075775971963,
          0.6904190948033816,
          0.7006489620527453,
          0.7124549018758619,
          0.7108487642278776,
          0.7148309877840777,
          0.7337539415016001,
          0.7359194765230257,
          0.7384437094961996,
          0.7352717398499221,
          0.7249728627853144,
          0.7317507731161877,
          0.7154239622381352,
          0.7065869500329102,
          0.7152678968893896,
          0.702344676190947,
          0.6928283857590758,
          0.6908213574444211,
          0.6868357542465762,
          0.6902556322992833,
          0.6895553512907853,
          0.726473008301925,
          0.7196104279082122,
          0.7185035444417867,
          0.7453916406874489,
          0.7502060275306714,
          0.6702350424219184,
          0.5339096269344313,
          0.631385850377392,
          0.6060166724160211,
          0.5836575900882509,
          0.5723244802650139,
          0.5812069234763714,
          0.5930862310431254,
          0.5966500384142784,
          0.5972791365373861,
          0.5903048724679031,
          0.5897093402771569,
          0.6169528437811604,
          0.6222446793046275,
          0.602320249679604,
          0.5776058093518819,
          0.5759893051519092,
          0.5665484505893699,
          0.5667673384197391,
          0.5707046156698404,
          0.5836723235221378,
          0.5903219268336238,
          0.5764643214188094,
          0.5796662221305886,
          0.5744557752961326,
          0.5809069588821434,
          0.5834964032946891,
          0.5830227835332704,
          0.5872978297784497,
          0.5757592669784223,
          0.5893730997214363,
          0.5897278034549672,
          0.5937129869752606,
          0.5855488184444729,
          0.58318461875746,
          0.5877797204684562,
          0.589472919206552,
          0.5840059100121338,
          0.5355369265588088,
          0.5540114114329644,
          0.5537974924127577,
          0.536470316119569,
          0.5575973768058756,
          0.5566061075515722,
          0.5567754700472042,
          0.5574846515508143,
          0.5561723543911556,
          0.5597143147083182,
          0.5520400349614625,
          0.558951296410938,
          0.5763885800385355,
          0.5750386157690631,
          0.5774269229502045
         ]
        }
       ],
       "layout": {
        "height": 600,
        "showlegend": true,
        "template": {
         "data": {
          "bar": [
           {
            "error_x": {
             "color": "#2a3f5f"
            },
            "error_y": {
             "color": "#2a3f5f"
            },
            "marker": {
             "line": {
              "color": "#E5ECF6",
              "width": 0.5
             },
             "pattern": {
              "fillmode": "overlay",
              "size": 10,
              "solidity": 0.2
             }
            },
            "type": "bar"
           }
          ],
          "barpolar": [
           {
            "marker": {
             "line": {
              "color": "#E5ECF6",
              "width": 0.5
             },
             "pattern": {
              "fillmode": "overlay",
              "size": 10,
              "solidity": 0.2
             }
            },
            "type": "barpolar"
           }
          ],
          "carpet": [
           {
            "aaxis": {
             "endlinecolor": "#2a3f5f",
             "gridcolor": "white",
             "linecolor": "white",
             "minorgridcolor": "white",
             "startlinecolor": "#2a3f5f"
            },
            "baxis": {
             "endlinecolor": "#2a3f5f",
             "gridcolor": "white",
             "linecolor": "white",
             "minorgridcolor": "white",
             "startlinecolor": "#2a3f5f"
            },
            "type": "carpet"
           }
          ],
          "choropleth": [
           {
            "colorbar": {
             "outlinewidth": 0,
             "ticks": ""
            },
            "type": "choropleth"
           }
          ],
          "contour": [
           {
            "colorbar": {
             "outlinewidth": 0,
             "ticks": ""
            },
            "colorscale": [
             [
              0,
              "#0d0887"
             ],
             [
              0.1111111111111111,
              "#46039f"
             ],
             [
              0.2222222222222222,
              "#7201a8"
             ],
             [
              0.3333333333333333,
              "#9c179e"
             ],
             [
              0.4444444444444444,
              "#bd3786"
             ],
             [
              0.5555555555555556,
              "#d8576b"
             ],
             [
              0.6666666666666666,
              "#ed7953"
             ],
             [
              0.7777777777777778,
              "#fb9f3a"
             ],
             [
              0.8888888888888888,
              "#fdca26"
             ],
             [
              1,
              "#f0f921"
             ]
            ],
            "type": "contour"
           }
          ],
          "contourcarpet": [
           {
            "colorbar": {
             "outlinewidth": 0,
             "ticks": ""
            },
            "type": "contourcarpet"
           }
          ],
          "heatmap": [
           {
            "colorbar": {
             "outlinewidth": 0,
             "ticks": ""
            },
            "colorscale": [
             [
              0,
              "#0d0887"
             ],
             [
              0.1111111111111111,
              "#46039f"
             ],
             [
              0.2222222222222222,
              "#7201a8"
             ],
             [
              0.3333333333333333,
              "#9c179e"
             ],
             [
              0.4444444444444444,
              "#bd3786"
             ],
             [
              0.5555555555555556,
              "#d8576b"
             ],
             [
              0.6666666666666666,
              "#ed7953"
             ],
             [
              0.7777777777777778,
              "#fb9f3a"
             ],
             [
              0.8888888888888888,
              "#fdca26"
             ],
             [
              1,
              "#f0f921"
             ]
            ],
            "type": "heatmap"
           }
          ],
          "heatmapgl": [
           {
            "colorbar": {
             "outlinewidth": 0,
             "ticks": ""
            },
            "colorscale": [
             [
              0,
              "#0d0887"
             ],
             [
              0.1111111111111111,
              "#46039f"
             ],
             [
              0.2222222222222222,
              "#7201a8"
             ],
             [
              0.3333333333333333,
              "#9c179e"
             ],
             [
              0.4444444444444444,
              "#bd3786"
             ],
             [
              0.5555555555555556,
              "#d8576b"
             ],
             [
              0.6666666666666666,
              "#ed7953"
             ],
             [
              0.7777777777777778,
              "#fb9f3a"
             ],
             [
              0.8888888888888888,
              "#fdca26"
             ],
             [
              1,
              "#f0f921"
             ]
            ],
            "type": "heatmapgl"
           }
          ],
          "histogram": [
           {
            "marker": {
             "pattern": {
              "fillmode": "overlay",
              "size": 10,
              "solidity": 0.2
             }
            },
            "type": "histogram"
           }
          ],
          "histogram2d": [
           {
            "colorbar": {
             "outlinewidth": 0,
             "ticks": ""
            },
            "colorscale": [
             [
              0,
              "#0d0887"
             ],
             [
              0.1111111111111111,
              "#46039f"
             ],
             [
              0.2222222222222222,
              "#7201a8"
             ],
             [
              0.3333333333333333,
              "#9c179e"
             ],
             [
              0.4444444444444444,
              "#bd3786"
             ],
             [
              0.5555555555555556,
              "#d8576b"
             ],
             [
              0.6666666666666666,
              "#ed7953"
             ],
             [
              0.7777777777777778,
              "#fb9f3a"
             ],
             [
              0.8888888888888888,
              "#fdca26"
             ],
             [
              1,
              "#f0f921"
             ]
            ],
            "type": "histogram2d"
           }
          ],
          "histogram2dcontour": [
           {
            "colorbar": {
             "outlinewidth": 0,
             "ticks": ""
            },
            "colorscale": [
             [
              0,
              "#0d0887"
             ],
             [
              0.1111111111111111,
              "#46039f"
             ],
             [
              0.2222222222222222,
              "#7201a8"
             ],
             [
              0.3333333333333333,
              "#9c179e"
             ],
             [
              0.4444444444444444,
              "#bd3786"
             ],
             [
              0.5555555555555556,
              "#d8576b"
             ],
             [
              0.6666666666666666,
              "#ed7953"
             ],
             [
              0.7777777777777778,
              "#fb9f3a"
             ],
             [
              0.8888888888888888,
              "#fdca26"
             ],
             [
              1,
              "#f0f921"
             ]
            ],
            "type": "histogram2dcontour"
           }
          ],
          "mesh3d": [
           {
            "colorbar": {
             "outlinewidth": 0,
             "ticks": ""
            },
            "type": "mesh3d"
           }
          ],
          "parcoords": [
           {
            "line": {
             "colorbar": {
              "outlinewidth": 0,
              "ticks": ""
             }
            },
            "type": "parcoords"
           }
          ],
          "pie": [
           {
            "automargin": true,
            "type": "pie"
           }
          ],
          "scatter": [
           {
            "fillpattern": {
             "fillmode": "overlay",
             "size": 10,
             "solidity": 0.2
            },
            "type": "scatter"
           }
          ],
          "scatter3d": [
           {
            "line": {
             "colorbar": {
              "outlinewidth": 0,
              "ticks": ""
             }
            },
            "marker": {
             "colorbar": {
              "outlinewidth": 0,
              "ticks": ""
             }
            },
            "type": "scatter3d"
           }
          ],
          "scattercarpet": [
           {
            "marker": {
             "colorbar": {
              "outlinewidth": 0,
              "ticks": ""
             }
            },
            "type": "scattercarpet"
           }
          ],
          "scattergeo": [
           {
            "marker": {
             "colorbar": {
              "outlinewidth": 0,
              "ticks": ""
             }
            },
            "type": "scattergeo"
           }
          ],
          "scattergl": [
           {
            "marker": {
             "colorbar": {
              "outlinewidth": 0,
              "ticks": ""
             }
            },
            "type": "scattergl"
           }
          ],
          "scattermapbox": [
           {
            "marker": {
             "colorbar": {
              "outlinewidth": 0,
              "ticks": ""
             }
            },
            "type": "scattermapbox"
           }
          ],
          "scatterpolar": [
           {
            "marker": {
             "colorbar": {
              "outlinewidth": 0,
              "ticks": ""
             }
            },
            "type": "scatterpolar"
           }
          ],
          "scatterpolargl": [
           {
            "marker": {
             "colorbar": {
              "outlinewidth": 0,
              "ticks": ""
             }
            },
            "type": "scatterpolargl"
           }
          ],
          "scatterternary": [
           {
            "marker": {
             "colorbar": {
              "outlinewidth": 0,
              "ticks": ""
             }
            },
            "type": "scatterternary"
           }
          ],
          "surface": [
           {
            "colorbar": {
             "outlinewidth": 0,
             "ticks": ""
            },
            "colorscale": [
             [
              0,
              "#0d0887"
             ],
             [
              0.1111111111111111,
              "#46039f"
             ],
             [
              0.2222222222222222,
              "#7201a8"
             ],
             [
              0.3333333333333333,
              "#9c179e"
             ],
             [
              0.4444444444444444,
              "#bd3786"
             ],
             [
              0.5555555555555556,
              "#d8576b"
             ],
             [
              0.6666666666666666,
              "#ed7953"
             ],
             [
              0.7777777777777778,
              "#fb9f3a"
             ],
             [
              0.8888888888888888,
              "#fdca26"
             ],
             [
              1,
              "#f0f921"
             ]
            ],
            "type": "surface"
           }
          ],
          "table": [
           {
            "cells": {
             "fill": {
              "color": "#EBF0F8"
             },
             "line": {
              "color": "white"
             }
            },
            "header": {
             "fill": {
              "color": "#C8D4E3"
             },
             "line": {
              "color": "white"
             }
            },
            "type": "table"
           }
          ]
         },
         "layout": {
          "annotationdefaults": {
           "arrowcolor": "#2a3f5f",
           "arrowhead": 0,
           "arrowwidth": 1
          },
          "autotypenumbers": "strict",
          "coloraxis": {
           "colorbar": {
            "outlinewidth": 0,
            "ticks": ""
           }
          },
          "colorscale": {
           "diverging": [
            [
             0,
             "#8e0152"
            ],
            [
             0.1,
             "#c51b7d"
            ],
            [
             0.2,
             "#de77ae"
            ],
            [
             0.3,
             "#f1b6da"
            ],
            [
             0.4,
             "#fde0ef"
            ],
            [
             0.5,
             "#f7f7f7"
            ],
            [
             0.6,
             "#e6f5d0"
            ],
            [
             0.7,
             "#b8e186"
            ],
            [
             0.8,
             "#7fbc41"
            ],
            [
             0.9,
             "#4d9221"
            ],
            [
             1,
             "#276419"
            ]
           ],
           "sequential": [
            [
             0,
             "#0d0887"
            ],
            [
             0.1111111111111111,
             "#46039f"
            ],
            [
             0.2222222222222222,
             "#7201a8"
            ],
            [
             0.3333333333333333,
             "#9c179e"
            ],
            [
             0.4444444444444444,
             "#bd3786"
            ],
            [
             0.5555555555555556,
             "#d8576b"
            ],
            [
             0.6666666666666666,
             "#ed7953"
            ],
            [
             0.7777777777777778,
             "#fb9f3a"
            ],
            [
             0.8888888888888888,
             "#fdca26"
            ],
            [
             1,
             "#f0f921"
            ]
           ],
           "sequentialminus": [
            [
             0,
             "#0d0887"
            ],
            [
             0.1111111111111111,
             "#46039f"
            ],
            [
             0.2222222222222222,
             "#7201a8"
            ],
            [
             0.3333333333333333,
             "#9c179e"
            ],
            [
             0.4444444444444444,
             "#bd3786"
            ],
            [
             0.5555555555555556,
             "#d8576b"
            ],
            [
             0.6666666666666666,
             "#ed7953"
            ],
            [
             0.7777777777777778,
             "#fb9f3a"
            ],
            [
             0.8888888888888888,
             "#fdca26"
            ],
            [
             1,
             "#f0f921"
            ]
           ]
          },
          "colorway": [
           "#636efa",
           "#EF553B",
           "#00cc96",
           "#ab63fa",
           "#FFA15A",
           "#19d3f3",
           "#FF6692",
           "#B6E880",
           "#FF97FF",
           "#FECB52"
          ],
          "font": {
           "color": "#2a3f5f"
          },
          "geo": {
           "bgcolor": "white",
           "lakecolor": "white",
           "landcolor": "#E5ECF6",
           "showlakes": true,
           "showland": true,
           "subunitcolor": "white"
          },
          "hoverlabel": {
           "align": "left"
          },
          "hovermode": "closest",
          "mapbox": {
           "style": "light"
          },
          "paper_bgcolor": "white",
          "plot_bgcolor": "#E5ECF6",
          "polar": {
           "angularaxis": {
            "gridcolor": "white",
            "linecolor": "white",
            "ticks": ""
           },
           "bgcolor": "#E5ECF6",
           "radialaxis": {
            "gridcolor": "white",
            "linecolor": "white",
            "ticks": ""
           }
          },
          "scene": {
           "xaxis": {
            "backgroundcolor": "#E5ECF6",
            "gridcolor": "white",
            "gridwidth": 2,
            "linecolor": "white",
            "showbackground": true,
            "ticks": "",
            "zerolinecolor": "white"
           },
           "yaxis": {
            "backgroundcolor": "#E5ECF6",
            "gridcolor": "white",
            "gridwidth": 2,
            "linecolor": "white",
            "showbackground": true,
            "ticks": "",
            "zerolinecolor": "white"
           },
           "zaxis": {
            "backgroundcolor": "#E5ECF6",
            "gridcolor": "white",
            "gridwidth": 2,
            "linecolor": "white",
            "showbackground": true,
            "ticks": "",
            "zerolinecolor": "white"
           }
          },
          "shapedefaults": {
           "line": {
            "color": "#2a3f5f"
           }
          },
          "ternary": {
           "aaxis": {
            "gridcolor": "white",
            "linecolor": "white",
            "ticks": ""
           },
           "baxis": {
            "gridcolor": "white",
            "linecolor": "white",
            "ticks": ""
           },
           "bgcolor": "#E5ECF6",
           "caxis": {
            "gridcolor": "white",
            "linecolor": "white",
            "ticks": ""
           }
          },
          "title": {
           "x": 0.05
          },
          "xaxis": {
           "automargin": true,
           "gridcolor": "white",
           "linecolor": "white",
           "ticks": "",
           "title": {
            "standoff": 15
           },
           "zerolinecolor": "white",
           "zerolinewidth": 2
          },
          "yaxis": {
           "automargin": true,
           "gridcolor": "white",
           "linecolor": "white",
           "ticks": "",
           "title": {
            "standoff": 15
           },
           "zerolinecolor": "white",
           "zerolinewidth": 2
          }
         }
        },
        "title": {
         "text": "Rendements cumulatifs sans coûts inclus"
        }
       }
      }
     },
     "metadata": {},
     "output_type": "display_data"
    }
   ],
   "source": [
    "# Graphique des différentes stratégies avec possibilité d'inclusion de coûts \n",
    "manager.plot_all_strategies(backend=backend,include_costs=False)\n",
    "manager2.plot_all_strategies(backend=backend,include_costs=False)"
   ]
  },
  {
   "cell_type": "code",
   "execution_count": 77,
   "metadata": {},
   "outputs": [
    {
     "data": {
      "application/vnd.plotly.v1+json": {
       "config": {
        "plotlyServerURL": "https://plot.ly"
       },
       "data": [
        {
         "name": "total_return",
         "type": "bar",
         "x": [
          "ma_strat_default",
          "ma_strat_weekly",
          "ma_strat_monthly",
          "mom_strat_daily",
          "mom_strat_weekly",
          "mom_strat_monthly",
          "mco_strat_monthly"
         ],
         "y": [
          -0.11162553439272638,
          -0.06470762485420012,
          -0.24796411744782043,
          0.12452097614193236,
          -0.41306460555244373,
          -0.06296759104593785,
          -0.00039796560729377095
         ]
        },
        {
         "name": "annual_return",
         "type": "bar",
         "x": [
          "ma_strat_default",
          "ma_strat_weekly",
          "ma_strat_monthly",
          "mom_strat_daily",
          "mom_strat_weekly",
          "mom_strat_monthly",
          "mco_strat_monthly"
         ],
         "y": [
          -0.07867541138669754,
          -0.2724496062512527,
          -0.9974822661306492,
          0.0846390457535886,
          -0.9206197669814438,
          -0.7448198713213887,
          -0.008324102339923756
         ]
        },
        {
         "name": "profit_factor",
         "type": "bar",
         "x": [
          "ma_strat_default",
          "ma_strat_weekly",
          "ma_strat_monthly",
          "mom_strat_daily",
          "mom_strat_weekly",
          "mom_strat_monthly",
          "mco_strat_monthly"
         ],
         "y": [
          0.415129959726854,
          0.14049133000697636,
          0.0018874213655917307,
          1.0855232280219942,
          0.4601362127134797,
          0.6411989786367476,
          0.9031843348351968
         ]
        },
        {
         "name": "volatility",
         "type": "bar",
         "x": [
          "ma_strat_default",
          "ma_strat_weekly",
          "ma_strat_monthly",
          "mom_strat_daily",
          "mom_strat_weekly",
          "mom_strat_monthly",
          "mco_strat_monthly"
         ],
         "y": [
          0.01879808126453056,
          0.04551829881231538,
          0.3157486931077471,
          0.5774489595952191,
          0.505910138775192,
          0.6117720054163549,
          0.017919717310287474
         ]
        },
        {
         "name": "sharpe_ratio",
         "type": "bar",
         "x": [
          "ma_strat_default",
          "ma_strat_weekly",
          "ma_strat_monthly",
          "mom_strat_daily",
          "mom_strat_weekly",
          "mom_strat_monthly",
          "mco_strat_monthly"
         ],
         "y": [
          -4.185289460108219,
          -5.985496236901082,
          -3.159101804390573,
          0.1465740726469037,
          -1.8197298223954623,
          -1.2174794935483932,
          -0.4645219673831014
         ]
        },
        {
         "name": "max_drawdown",
         "type": "bar",
         "x": [
          "ma_strat_default",
          "ma_strat_weekly",
          "ma_strat_monthly",
          "mom_strat_daily",
          "mom_strat_weekly",
          "mom_strat_monthly",
          "mco_strat_monthly"
         ],
         "y": [
          -0.11228837795026225,
          -0.06534193303911695,
          -0.24796411744782043,
          -0.5178439342585637,
          -0.4604092049399292,
          -0.15078180739137037,
          -0.0027613507602936016
         ]
        },
        {
         "name": "sortino_ratio",
         "type": "bar",
         "x": [
          "ma_strat_default",
          "ma_strat_weekly",
          "ma_strat_monthly",
          "mom_strat_daily",
          "mom_strat_weekly",
          "mom_strat_monthly",
          "mco_strat_monthly"
         ],
         "y": [
          -3.6175521694579165,
          -3.9889780115859677,
          -1.8091813472471698,
          0.17350749372447616,
          -1.4608973497424338,
          -1.157214482456639,
          -0.40459078831178646
         ]
        },
        {
         "name": "VaR_95%",
         "type": "bar",
         "x": [
          "ma_strat_default",
          "ma_strat_weekly",
          "ma_strat_monthly",
          "mom_strat_daily",
          "mom_strat_weekly",
          "mom_strat_monthly",
          "mco_strat_monthly"
         ],
         "y": [
          -0.002155821263271473,
          -0.007764054123401703,
          -0.04738959045421411,
          -0.05030228330591522,
          -0.06533596211290339,
          -0.062122184630042904,
          -0.001693206994002602
         ]
        },
        {
         "name": "CVaR_95%",
         "type": "bar",
         "x": [
          "ma_strat_default",
          "ma_strat_weekly",
          "ma_strat_monthly",
          "mom_strat_daily",
          "mom_strat_weekly",
          "mom_strat_monthly",
          "mco_strat_monthly"
         ],
         "y": [
          -0.003082995720700906,
          -0.009124492452796335,
          -0.0477313438045307,
          -0.07206001590891571,
          -0.07993201637845183,
          -0.10204944225674381,
          -0.0027613507602936415
         ]
        },
        {
         "name": "Profit/Loss_Ratio",
         "type": "bar",
         "x": [
          "ma_strat_default",
          "ma_strat_weekly",
          "ma_strat_monthly",
          "mom_strat_daily",
          "mom_strat_weekly",
          "mom_strat_monthly",
          "mco_strat_monthly"
         ],
         "y": [
          0.7420907244674734,
          0.21073699501046453,
          0.016986792290325577,
          1.2642374180012248,
          0.5856279070898832,
          1.496130950152411,
          0.9031843348351967
         ]
        },
        {
         "name": "num_trades",
         "type": "bar",
         "x": [
          "ma_strat_default",
          "ma_strat_weekly",
          "ma_strat_monthly",
          "mom_strat_daily",
          "mom_strat_weekly",
          "mom_strat_monthly",
          "mco_strat_monthly"
         ],
         "y": [
          270,
          254,
          176,
          2014,
          805,
          279,
          114
         ]
        },
        {
         "name": "win_rate",
         "type": "bar",
         "x": [
          "ma_strat_default",
          "ma_strat_weekly",
          "ma_strat_monthly",
          "mom_strat_daily",
          "mom_strat_weekly",
          "mom_strat_monthly",
          "mco_strat_monthly"
         ],
         "y": [
          0.35873015873015873,
          0.4,
          0.1,
          0.4619718309859155,
          0.44,
          0.3,
          0.5
         ]
        }
       ],
       "layout": {
        "barmode": "group",
        "height": 600,
        "template": {
         "data": {
          "bar": [
           {
            "error_x": {
             "color": "#2a3f5f"
            },
            "error_y": {
             "color": "#2a3f5f"
            },
            "marker": {
             "line": {
              "color": "#E5ECF6",
              "width": 0.5
             },
             "pattern": {
              "fillmode": "overlay",
              "size": 10,
              "solidity": 0.2
             }
            },
            "type": "bar"
           }
          ],
          "barpolar": [
           {
            "marker": {
             "line": {
              "color": "#E5ECF6",
              "width": 0.5
             },
             "pattern": {
              "fillmode": "overlay",
              "size": 10,
              "solidity": 0.2
             }
            },
            "type": "barpolar"
           }
          ],
          "carpet": [
           {
            "aaxis": {
             "endlinecolor": "#2a3f5f",
             "gridcolor": "white",
             "linecolor": "white",
             "minorgridcolor": "white",
             "startlinecolor": "#2a3f5f"
            },
            "baxis": {
             "endlinecolor": "#2a3f5f",
             "gridcolor": "white",
             "linecolor": "white",
             "minorgridcolor": "white",
             "startlinecolor": "#2a3f5f"
            },
            "type": "carpet"
           }
          ],
          "choropleth": [
           {
            "colorbar": {
             "outlinewidth": 0,
             "ticks": ""
            },
            "type": "choropleth"
           }
          ],
          "contour": [
           {
            "colorbar": {
             "outlinewidth": 0,
             "ticks": ""
            },
            "colorscale": [
             [
              0,
              "#0d0887"
             ],
             [
              0.1111111111111111,
              "#46039f"
             ],
             [
              0.2222222222222222,
              "#7201a8"
             ],
             [
              0.3333333333333333,
              "#9c179e"
             ],
             [
              0.4444444444444444,
              "#bd3786"
             ],
             [
              0.5555555555555556,
              "#d8576b"
             ],
             [
              0.6666666666666666,
              "#ed7953"
             ],
             [
              0.7777777777777778,
              "#fb9f3a"
             ],
             [
              0.8888888888888888,
              "#fdca26"
             ],
             [
              1,
              "#f0f921"
             ]
            ],
            "type": "contour"
           }
          ],
          "contourcarpet": [
           {
            "colorbar": {
             "outlinewidth": 0,
             "ticks": ""
            },
            "type": "contourcarpet"
           }
          ],
          "heatmap": [
           {
            "colorbar": {
             "outlinewidth": 0,
             "ticks": ""
            },
            "colorscale": [
             [
              0,
              "#0d0887"
             ],
             [
              0.1111111111111111,
              "#46039f"
             ],
             [
              0.2222222222222222,
              "#7201a8"
             ],
             [
              0.3333333333333333,
              "#9c179e"
             ],
             [
              0.4444444444444444,
              "#bd3786"
             ],
             [
              0.5555555555555556,
              "#d8576b"
             ],
             [
              0.6666666666666666,
              "#ed7953"
             ],
             [
              0.7777777777777778,
              "#fb9f3a"
             ],
             [
              0.8888888888888888,
              "#fdca26"
             ],
             [
              1,
              "#f0f921"
             ]
            ],
            "type": "heatmap"
           }
          ],
          "heatmapgl": [
           {
            "colorbar": {
             "outlinewidth": 0,
             "ticks": ""
            },
            "colorscale": [
             [
              0,
              "#0d0887"
             ],
             [
              0.1111111111111111,
              "#46039f"
             ],
             [
              0.2222222222222222,
              "#7201a8"
             ],
             [
              0.3333333333333333,
              "#9c179e"
             ],
             [
              0.4444444444444444,
              "#bd3786"
             ],
             [
              0.5555555555555556,
              "#d8576b"
             ],
             [
              0.6666666666666666,
              "#ed7953"
             ],
             [
              0.7777777777777778,
              "#fb9f3a"
             ],
             [
              0.8888888888888888,
              "#fdca26"
             ],
             [
              1,
              "#f0f921"
             ]
            ],
            "type": "heatmapgl"
           }
          ],
          "histogram": [
           {
            "marker": {
             "pattern": {
              "fillmode": "overlay",
              "size": 10,
              "solidity": 0.2
             }
            },
            "type": "histogram"
           }
          ],
          "histogram2d": [
           {
            "colorbar": {
             "outlinewidth": 0,
             "ticks": ""
            },
            "colorscale": [
             [
              0,
              "#0d0887"
             ],
             [
              0.1111111111111111,
              "#46039f"
             ],
             [
              0.2222222222222222,
              "#7201a8"
             ],
             [
              0.3333333333333333,
              "#9c179e"
             ],
             [
              0.4444444444444444,
              "#bd3786"
             ],
             [
              0.5555555555555556,
              "#d8576b"
             ],
             [
              0.6666666666666666,
              "#ed7953"
             ],
             [
              0.7777777777777778,
              "#fb9f3a"
             ],
             [
              0.8888888888888888,
              "#fdca26"
             ],
             [
              1,
              "#f0f921"
             ]
            ],
            "type": "histogram2d"
           }
          ],
          "histogram2dcontour": [
           {
            "colorbar": {
             "outlinewidth": 0,
             "ticks": ""
            },
            "colorscale": [
             [
              0,
              "#0d0887"
             ],
             [
              0.1111111111111111,
              "#46039f"
             ],
             [
              0.2222222222222222,
              "#7201a8"
             ],
             [
              0.3333333333333333,
              "#9c179e"
             ],
             [
              0.4444444444444444,
              "#bd3786"
             ],
             [
              0.5555555555555556,
              "#d8576b"
             ],
             [
              0.6666666666666666,
              "#ed7953"
             ],
             [
              0.7777777777777778,
              "#fb9f3a"
             ],
             [
              0.8888888888888888,
              "#fdca26"
             ],
             [
              1,
              "#f0f921"
             ]
            ],
            "type": "histogram2dcontour"
           }
          ],
          "mesh3d": [
           {
            "colorbar": {
             "outlinewidth": 0,
             "ticks": ""
            },
            "type": "mesh3d"
           }
          ],
          "parcoords": [
           {
            "line": {
             "colorbar": {
              "outlinewidth": 0,
              "ticks": ""
             }
            },
            "type": "parcoords"
           }
          ],
          "pie": [
           {
            "automargin": true,
            "type": "pie"
           }
          ],
          "scatter": [
           {
            "fillpattern": {
             "fillmode": "overlay",
             "size": 10,
             "solidity": 0.2
            },
            "type": "scatter"
           }
          ],
          "scatter3d": [
           {
            "line": {
             "colorbar": {
              "outlinewidth": 0,
              "ticks": ""
             }
            },
            "marker": {
             "colorbar": {
              "outlinewidth": 0,
              "ticks": ""
             }
            },
            "type": "scatter3d"
           }
          ],
          "scattercarpet": [
           {
            "marker": {
             "colorbar": {
              "outlinewidth": 0,
              "ticks": ""
             }
            },
            "type": "scattercarpet"
           }
          ],
          "scattergeo": [
           {
            "marker": {
             "colorbar": {
              "outlinewidth": 0,
              "ticks": ""
             }
            },
            "type": "scattergeo"
           }
          ],
          "scattergl": [
           {
            "marker": {
             "colorbar": {
              "outlinewidth": 0,
              "ticks": ""
             }
            },
            "type": "scattergl"
           }
          ],
          "scattermapbox": [
           {
            "marker": {
             "colorbar": {
              "outlinewidth": 0,
              "ticks": ""
             }
            },
            "type": "scattermapbox"
           }
          ],
          "scatterpolar": [
           {
            "marker": {
             "colorbar": {
              "outlinewidth": 0,
              "ticks": ""
             }
            },
            "type": "scatterpolar"
           }
          ],
          "scatterpolargl": [
           {
            "marker": {
             "colorbar": {
              "outlinewidth": 0,
              "ticks": ""
             }
            },
            "type": "scatterpolargl"
           }
          ],
          "scatterternary": [
           {
            "marker": {
             "colorbar": {
              "outlinewidth": 0,
              "ticks": ""
             }
            },
            "type": "scatterternary"
           }
          ],
          "surface": [
           {
            "colorbar": {
             "outlinewidth": 0,
             "ticks": ""
            },
            "colorscale": [
             [
              0,
              "#0d0887"
             ],
             [
              0.1111111111111111,
              "#46039f"
             ],
             [
              0.2222222222222222,
              "#7201a8"
             ],
             [
              0.3333333333333333,
              "#9c179e"
             ],
             [
              0.4444444444444444,
              "#bd3786"
             ],
             [
              0.5555555555555556,
              "#d8576b"
             ],
             [
              0.6666666666666666,
              "#ed7953"
             ],
             [
              0.7777777777777778,
              "#fb9f3a"
             ],
             [
              0.8888888888888888,
              "#fdca26"
             ],
             [
              1,
              "#f0f921"
             ]
            ],
            "type": "surface"
           }
          ],
          "table": [
           {
            "cells": {
             "fill": {
              "color": "#EBF0F8"
             },
             "line": {
              "color": "white"
             }
            },
            "header": {
             "fill": {
              "color": "#C8D4E3"
             },
             "line": {
              "color": "white"
             }
            },
            "type": "table"
           }
          ]
         },
         "layout": {
          "annotationdefaults": {
           "arrowcolor": "#2a3f5f",
           "arrowhead": 0,
           "arrowwidth": 1
          },
          "autotypenumbers": "strict",
          "coloraxis": {
           "colorbar": {
            "outlinewidth": 0,
            "ticks": ""
           }
          },
          "colorscale": {
           "diverging": [
            [
             0,
             "#8e0152"
            ],
            [
             0.1,
             "#c51b7d"
            ],
            [
             0.2,
             "#de77ae"
            ],
            [
             0.3,
             "#f1b6da"
            ],
            [
             0.4,
             "#fde0ef"
            ],
            [
             0.5,
             "#f7f7f7"
            ],
            [
             0.6,
             "#e6f5d0"
            ],
            [
             0.7,
             "#b8e186"
            ],
            [
             0.8,
             "#7fbc41"
            ],
            [
             0.9,
             "#4d9221"
            ],
            [
             1,
             "#276419"
            ]
           ],
           "sequential": [
            [
             0,
             "#0d0887"
            ],
            [
             0.1111111111111111,
             "#46039f"
            ],
            [
             0.2222222222222222,
             "#7201a8"
            ],
            [
             0.3333333333333333,
             "#9c179e"
            ],
            [
             0.4444444444444444,
             "#bd3786"
            ],
            [
             0.5555555555555556,
             "#d8576b"
            ],
            [
             0.6666666666666666,
             "#ed7953"
            ],
            [
             0.7777777777777778,
             "#fb9f3a"
            ],
            [
             0.8888888888888888,
             "#fdca26"
            ],
            [
             1,
             "#f0f921"
            ]
           ],
           "sequentialminus": [
            [
             0,
             "#0d0887"
            ],
            [
             0.1111111111111111,
             "#46039f"
            ],
            [
             0.2222222222222222,
             "#7201a8"
            ],
            [
             0.3333333333333333,
             "#9c179e"
            ],
            [
             0.4444444444444444,
             "#bd3786"
            ],
            [
             0.5555555555555556,
             "#d8576b"
            ],
            [
             0.6666666666666666,
             "#ed7953"
            ],
            [
             0.7777777777777778,
             "#fb9f3a"
            ],
            [
             0.8888888888888888,
             "#fdca26"
            ],
            [
             1,
             "#f0f921"
            ]
           ]
          },
          "colorway": [
           "#636efa",
           "#EF553B",
           "#00cc96",
           "#ab63fa",
           "#FFA15A",
           "#19d3f3",
           "#FF6692",
           "#B6E880",
           "#FF97FF",
           "#FECB52"
          ],
          "font": {
           "color": "#2a3f5f"
          },
          "geo": {
           "bgcolor": "white",
           "lakecolor": "white",
           "landcolor": "#E5ECF6",
           "showlakes": true,
           "showland": true,
           "subunitcolor": "white"
          },
          "hoverlabel": {
           "align": "left"
          },
          "hovermode": "closest",
          "mapbox": {
           "style": "light"
          },
          "paper_bgcolor": "white",
          "plot_bgcolor": "#E5ECF6",
          "polar": {
           "angularaxis": {
            "gridcolor": "white",
            "linecolor": "white",
            "ticks": ""
           },
           "bgcolor": "#E5ECF6",
           "radialaxis": {
            "gridcolor": "white",
            "linecolor": "white",
            "ticks": ""
           }
          },
          "scene": {
           "xaxis": {
            "backgroundcolor": "#E5ECF6",
            "gridcolor": "white",
            "gridwidth": 2,
            "linecolor": "white",
            "showbackground": true,
            "ticks": "",
            "zerolinecolor": "white"
           },
           "yaxis": {
            "backgroundcolor": "#E5ECF6",
            "gridcolor": "white",
            "gridwidth": 2,
            "linecolor": "white",
            "showbackground": true,
            "ticks": "",
            "zerolinecolor": "white"
           },
           "zaxis": {
            "backgroundcolor": "#E5ECF6",
            "gridcolor": "white",
            "gridwidth": 2,
            "linecolor": "white",
            "showbackground": true,
            "ticks": "",
            "zerolinecolor": "white"
           }
          },
          "shapedefaults": {
           "line": {
            "color": "#2a3f5f"
           }
          },
          "ternary": {
           "aaxis": {
            "gridcolor": "white",
            "linecolor": "white",
            "ticks": ""
           },
           "baxis": {
            "gridcolor": "white",
            "linecolor": "white",
            "ticks": ""
           },
           "bgcolor": "#E5ECF6",
           "caxis": {
            "gridcolor": "white",
            "linecolor": "white",
            "ticks": ""
           }
          },
          "title": {
           "x": 0.05
          },
          "xaxis": {
           "automargin": true,
           "gridcolor": "white",
           "linecolor": "white",
           "ticks": "",
           "title": {
            "standoff": 15
           },
           "zerolinecolor": "white",
           "zerolinewidth": 2
          },
          "yaxis": {
           "automargin": true,
           "gridcolor": "white",
           "linecolor": "white",
           "ticks": "",
           "title": {
            "standoff": 15
           },
           "zerolinecolor": "white",
           "zerolinewidth": 2
          }
         }
        },
        "title": {
         "text": "Comparaison des stratégies"
        }
       }
      }
     },
     "metadata": {},
     "output_type": "display_data"
    },
    {
     "data": {
      "application/vnd.plotly.v1+json": {
       "config": {
        "plotlyServerURL": "https://plot.ly"
       },
       "data": [
        {
         "name": "total_return",
         "type": "bar",
         "x": [
          "day_var_strat_daily",
          "ols_strat"
         ],
         "y": [
          -1,
          -1
         ]
        },
        {
         "name": "annual_return",
         "type": "bar",
         "x": [
          "day_var_strat_daily",
          "ols_strat"
         ],
         "y": [
          -1,
          -1
         ]
        },
        {
         "name": "profit_factor",
         "type": "bar",
         "x": [
          "day_var_strat_daily",
          "ols_strat"
         ],
         "y": [
          0.003686086921597647,
          0.008975113571744488
         ]
        },
        {
         "name": "volatility",
         "type": "bar",
         "x": [
          "day_var_strat_daily",
          "ols_strat"
         ],
         "y": [
          11.148902141955164,
          6.724210936400111
         ]
        },
        {
         "name": "sharpe_ratio",
         "type": "bar",
         "x": [
          "day_var_strat_daily",
          "ols_strat"
         ],
         "y": [
          -0.08969493025118899,
          -0.14871633407374374
         ]
        },
        {
         "name": "max_drawdown",
         "type": "bar",
         "x": [
          "day_var_strat_daily",
          "ols_strat"
         ],
         "y": [
          -1.0823160513711314,
          -1.03413170480031
         ]
        },
        {
         "name": "sortino_ratio",
         "type": "bar",
         "x": [
          "day_var_strat_daily",
          "ols_strat"
         ],
         "y": [
          -0.052318277364988064,
          -0.11083217557605161
         ]
        },
        {
         "name": "VaR_95%",
         "type": "bar",
         "x": [
          "day_var_strat_daily",
          "ols_strat"
         ],
         "y": [
          -1.7601816604864167,
          -1.3272908162901509
         ]
        },
        {
         "name": "CVaR_95%",
         "type": "bar",
         "x": [
          "day_var_strat_daily",
          "ols_strat"
         ],
         "y": [
          -1.7859134353344333,
          -1.4487972166952587
         ]
        },
        {
         "name": "Profit/Loss_Ratio",
         "type": "bar",
         "x": [
          "day_var_strat_daily",
          "ols_strat"
         ],
         "y": [
          0.05713434728476353,
          0.0704201218706106
         ]
        },
        {
         "name": "num_trades",
         "type": "bar",
         "x": [
          "day_var_strat_daily",
          "ols_strat"
         ],
         "y": [
          7093,
          3183
         ]
        },
        {
         "name": "win_rate",
         "type": "bar",
         "x": [
          "day_var_strat_daily",
          "ols_strat"
         ],
         "y": [
          0.06060606060606061,
          0.11304347826086956
         ]
        }
       ],
       "layout": {
        "barmode": "group",
        "height": 600,
        "template": {
         "data": {
          "bar": [
           {
            "error_x": {
             "color": "#2a3f5f"
            },
            "error_y": {
             "color": "#2a3f5f"
            },
            "marker": {
             "line": {
              "color": "#E5ECF6",
              "width": 0.5
             },
             "pattern": {
              "fillmode": "overlay",
              "size": 10,
              "solidity": 0.2
             }
            },
            "type": "bar"
           }
          ],
          "barpolar": [
           {
            "marker": {
             "line": {
              "color": "#E5ECF6",
              "width": 0.5
             },
             "pattern": {
              "fillmode": "overlay",
              "size": 10,
              "solidity": 0.2
             }
            },
            "type": "barpolar"
           }
          ],
          "carpet": [
           {
            "aaxis": {
             "endlinecolor": "#2a3f5f",
             "gridcolor": "white",
             "linecolor": "white",
             "minorgridcolor": "white",
             "startlinecolor": "#2a3f5f"
            },
            "baxis": {
             "endlinecolor": "#2a3f5f",
             "gridcolor": "white",
             "linecolor": "white",
             "minorgridcolor": "white",
             "startlinecolor": "#2a3f5f"
            },
            "type": "carpet"
           }
          ],
          "choropleth": [
           {
            "colorbar": {
             "outlinewidth": 0,
             "ticks": ""
            },
            "type": "choropleth"
           }
          ],
          "contour": [
           {
            "colorbar": {
             "outlinewidth": 0,
             "ticks": ""
            },
            "colorscale": [
             [
              0,
              "#0d0887"
             ],
             [
              0.1111111111111111,
              "#46039f"
             ],
             [
              0.2222222222222222,
              "#7201a8"
             ],
             [
              0.3333333333333333,
              "#9c179e"
             ],
             [
              0.4444444444444444,
              "#bd3786"
             ],
             [
              0.5555555555555556,
              "#d8576b"
             ],
             [
              0.6666666666666666,
              "#ed7953"
             ],
             [
              0.7777777777777778,
              "#fb9f3a"
             ],
             [
              0.8888888888888888,
              "#fdca26"
             ],
             [
              1,
              "#f0f921"
             ]
            ],
            "type": "contour"
           }
          ],
          "contourcarpet": [
           {
            "colorbar": {
             "outlinewidth": 0,
             "ticks": ""
            },
            "type": "contourcarpet"
           }
          ],
          "heatmap": [
           {
            "colorbar": {
             "outlinewidth": 0,
             "ticks": ""
            },
            "colorscale": [
             [
              0,
              "#0d0887"
             ],
             [
              0.1111111111111111,
              "#46039f"
             ],
             [
              0.2222222222222222,
              "#7201a8"
             ],
             [
              0.3333333333333333,
              "#9c179e"
             ],
             [
              0.4444444444444444,
              "#bd3786"
             ],
             [
              0.5555555555555556,
              "#d8576b"
             ],
             [
              0.6666666666666666,
              "#ed7953"
             ],
             [
              0.7777777777777778,
              "#fb9f3a"
             ],
             [
              0.8888888888888888,
              "#fdca26"
             ],
             [
              1,
              "#f0f921"
             ]
            ],
            "type": "heatmap"
           }
          ],
          "heatmapgl": [
           {
            "colorbar": {
             "outlinewidth": 0,
             "ticks": ""
            },
            "colorscale": [
             [
              0,
              "#0d0887"
             ],
             [
              0.1111111111111111,
              "#46039f"
             ],
             [
              0.2222222222222222,
              "#7201a8"
             ],
             [
              0.3333333333333333,
              "#9c179e"
             ],
             [
              0.4444444444444444,
              "#bd3786"
             ],
             [
              0.5555555555555556,
              "#d8576b"
             ],
             [
              0.6666666666666666,
              "#ed7953"
             ],
             [
              0.7777777777777778,
              "#fb9f3a"
             ],
             [
              0.8888888888888888,
              "#fdca26"
             ],
             [
              1,
              "#f0f921"
             ]
            ],
            "type": "heatmapgl"
           }
          ],
          "histogram": [
           {
            "marker": {
             "pattern": {
              "fillmode": "overlay",
              "size": 10,
              "solidity": 0.2
             }
            },
            "type": "histogram"
           }
          ],
          "histogram2d": [
           {
            "colorbar": {
             "outlinewidth": 0,
             "ticks": ""
            },
            "colorscale": [
             [
              0,
              "#0d0887"
             ],
             [
              0.1111111111111111,
              "#46039f"
             ],
             [
              0.2222222222222222,
              "#7201a8"
             ],
             [
              0.3333333333333333,
              "#9c179e"
             ],
             [
              0.4444444444444444,
              "#bd3786"
             ],
             [
              0.5555555555555556,
              "#d8576b"
             ],
             [
              0.6666666666666666,
              "#ed7953"
             ],
             [
              0.7777777777777778,
              "#fb9f3a"
             ],
             [
              0.8888888888888888,
              "#fdca26"
             ],
             [
              1,
              "#f0f921"
             ]
            ],
            "type": "histogram2d"
           }
          ],
          "histogram2dcontour": [
           {
            "colorbar": {
             "outlinewidth": 0,
             "ticks": ""
            },
            "colorscale": [
             [
              0,
              "#0d0887"
             ],
             [
              0.1111111111111111,
              "#46039f"
             ],
             [
              0.2222222222222222,
              "#7201a8"
             ],
             [
              0.3333333333333333,
              "#9c179e"
             ],
             [
              0.4444444444444444,
              "#bd3786"
             ],
             [
              0.5555555555555556,
              "#d8576b"
             ],
             [
              0.6666666666666666,
              "#ed7953"
             ],
             [
              0.7777777777777778,
              "#fb9f3a"
             ],
             [
              0.8888888888888888,
              "#fdca26"
             ],
             [
              1,
              "#f0f921"
             ]
            ],
            "type": "histogram2dcontour"
           }
          ],
          "mesh3d": [
           {
            "colorbar": {
             "outlinewidth": 0,
             "ticks": ""
            },
            "type": "mesh3d"
           }
          ],
          "parcoords": [
           {
            "line": {
             "colorbar": {
              "outlinewidth": 0,
              "ticks": ""
             }
            },
            "type": "parcoords"
           }
          ],
          "pie": [
           {
            "automargin": true,
            "type": "pie"
           }
          ],
          "scatter": [
           {
            "fillpattern": {
             "fillmode": "overlay",
             "size": 10,
             "solidity": 0.2
            },
            "type": "scatter"
           }
          ],
          "scatter3d": [
           {
            "line": {
             "colorbar": {
              "outlinewidth": 0,
              "ticks": ""
             }
            },
            "marker": {
             "colorbar": {
              "outlinewidth": 0,
              "ticks": ""
             }
            },
            "type": "scatter3d"
           }
          ],
          "scattercarpet": [
           {
            "marker": {
             "colorbar": {
              "outlinewidth": 0,
              "ticks": ""
             }
            },
            "type": "scattercarpet"
           }
          ],
          "scattergeo": [
           {
            "marker": {
             "colorbar": {
              "outlinewidth": 0,
              "ticks": ""
             }
            },
            "type": "scattergeo"
           }
          ],
          "scattergl": [
           {
            "marker": {
             "colorbar": {
              "outlinewidth": 0,
              "ticks": ""
             }
            },
            "type": "scattergl"
           }
          ],
          "scattermapbox": [
           {
            "marker": {
             "colorbar": {
              "outlinewidth": 0,
              "ticks": ""
             }
            },
            "type": "scattermapbox"
           }
          ],
          "scatterpolar": [
           {
            "marker": {
             "colorbar": {
              "outlinewidth": 0,
              "ticks": ""
             }
            },
            "type": "scatterpolar"
           }
          ],
          "scatterpolargl": [
           {
            "marker": {
             "colorbar": {
              "outlinewidth": 0,
              "ticks": ""
             }
            },
            "type": "scatterpolargl"
           }
          ],
          "scatterternary": [
           {
            "marker": {
             "colorbar": {
              "outlinewidth": 0,
              "ticks": ""
             }
            },
            "type": "scatterternary"
           }
          ],
          "surface": [
           {
            "colorbar": {
             "outlinewidth": 0,
             "ticks": ""
            },
            "colorscale": [
             [
              0,
              "#0d0887"
             ],
             [
              0.1111111111111111,
              "#46039f"
             ],
             [
              0.2222222222222222,
              "#7201a8"
             ],
             [
              0.3333333333333333,
              "#9c179e"
             ],
             [
              0.4444444444444444,
              "#bd3786"
             ],
             [
              0.5555555555555556,
              "#d8576b"
             ],
             [
              0.6666666666666666,
              "#ed7953"
             ],
             [
              0.7777777777777778,
              "#fb9f3a"
             ],
             [
              0.8888888888888888,
              "#fdca26"
             ],
             [
              1,
              "#f0f921"
             ]
            ],
            "type": "surface"
           }
          ],
          "table": [
           {
            "cells": {
             "fill": {
              "color": "#EBF0F8"
             },
             "line": {
              "color": "white"
             }
            },
            "header": {
             "fill": {
              "color": "#C8D4E3"
             },
             "line": {
              "color": "white"
             }
            },
            "type": "table"
           }
          ]
         },
         "layout": {
          "annotationdefaults": {
           "arrowcolor": "#2a3f5f",
           "arrowhead": 0,
           "arrowwidth": 1
          },
          "autotypenumbers": "strict",
          "coloraxis": {
           "colorbar": {
            "outlinewidth": 0,
            "ticks": ""
           }
          },
          "colorscale": {
           "diverging": [
            [
             0,
             "#8e0152"
            ],
            [
             0.1,
             "#c51b7d"
            ],
            [
             0.2,
             "#de77ae"
            ],
            [
             0.3,
             "#f1b6da"
            ],
            [
             0.4,
             "#fde0ef"
            ],
            [
             0.5,
             "#f7f7f7"
            ],
            [
             0.6,
             "#e6f5d0"
            ],
            [
             0.7,
             "#b8e186"
            ],
            [
             0.8,
             "#7fbc41"
            ],
            [
             0.9,
             "#4d9221"
            ],
            [
             1,
             "#276419"
            ]
           ],
           "sequential": [
            [
             0,
             "#0d0887"
            ],
            [
             0.1111111111111111,
             "#46039f"
            ],
            [
             0.2222222222222222,
             "#7201a8"
            ],
            [
             0.3333333333333333,
             "#9c179e"
            ],
            [
             0.4444444444444444,
             "#bd3786"
            ],
            [
             0.5555555555555556,
             "#d8576b"
            ],
            [
             0.6666666666666666,
             "#ed7953"
            ],
            [
             0.7777777777777778,
             "#fb9f3a"
            ],
            [
             0.8888888888888888,
             "#fdca26"
            ],
            [
             1,
             "#f0f921"
            ]
           ],
           "sequentialminus": [
            [
             0,
             "#0d0887"
            ],
            [
             0.1111111111111111,
             "#46039f"
            ],
            [
             0.2222222222222222,
             "#7201a8"
            ],
            [
             0.3333333333333333,
             "#9c179e"
            ],
            [
             0.4444444444444444,
             "#bd3786"
            ],
            [
             0.5555555555555556,
             "#d8576b"
            ],
            [
             0.6666666666666666,
             "#ed7953"
            ],
            [
             0.7777777777777778,
             "#fb9f3a"
            ],
            [
             0.8888888888888888,
             "#fdca26"
            ],
            [
             1,
             "#f0f921"
            ]
           ]
          },
          "colorway": [
           "#636efa",
           "#EF553B",
           "#00cc96",
           "#ab63fa",
           "#FFA15A",
           "#19d3f3",
           "#FF6692",
           "#B6E880",
           "#FF97FF",
           "#FECB52"
          ],
          "font": {
           "color": "#2a3f5f"
          },
          "geo": {
           "bgcolor": "white",
           "lakecolor": "white",
           "landcolor": "#E5ECF6",
           "showlakes": true,
           "showland": true,
           "subunitcolor": "white"
          },
          "hoverlabel": {
           "align": "left"
          },
          "hovermode": "closest",
          "mapbox": {
           "style": "light"
          },
          "paper_bgcolor": "white",
          "plot_bgcolor": "#E5ECF6",
          "polar": {
           "angularaxis": {
            "gridcolor": "white",
            "linecolor": "white",
            "ticks": ""
           },
           "bgcolor": "#E5ECF6",
           "radialaxis": {
            "gridcolor": "white",
            "linecolor": "white",
            "ticks": ""
           }
          },
          "scene": {
           "xaxis": {
            "backgroundcolor": "#E5ECF6",
            "gridcolor": "white",
            "gridwidth": 2,
            "linecolor": "white",
            "showbackground": true,
            "ticks": "",
            "zerolinecolor": "white"
           },
           "yaxis": {
            "backgroundcolor": "#E5ECF6",
            "gridcolor": "white",
            "gridwidth": 2,
            "linecolor": "white",
            "showbackground": true,
            "ticks": "",
            "zerolinecolor": "white"
           },
           "zaxis": {
            "backgroundcolor": "#E5ECF6",
            "gridcolor": "white",
            "gridwidth": 2,
            "linecolor": "white",
            "showbackground": true,
            "ticks": "",
            "zerolinecolor": "white"
           }
          },
          "shapedefaults": {
           "line": {
            "color": "#2a3f5f"
           }
          },
          "ternary": {
           "aaxis": {
            "gridcolor": "white",
            "linecolor": "white",
            "ticks": ""
           },
           "baxis": {
            "gridcolor": "white",
            "linecolor": "white",
            "ticks": ""
           },
           "bgcolor": "#E5ECF6",
           "caxis": {
            "gridcolor": "white",
            "linecolor": "white",
            "ticks": ""
           }
          },
          "title": {
           "x": 0.05
          },
          "xaxis": {
           "automargin": true,
           "gridcolor": "white",
           "linecolor": "white",
           "ticks": "",
           "title": {
            "standoff": 15
           },
           "zerolinecolor": "white",
           "zerolinewidth": 2
          },
          "yaxis": {
           "automargin": true,
           "gridcolor": "white",
           "linecolor": "white",
           "ticks": "",
           "title": {
            "standoff": 15
           },
           "zerolinecolor": "white",
           "zerolinewidth": 2
          }
         }
        },
        "title": {
         "text": "Comparaison des stratégies"
        }
       }
      }
     },
     "metadata": {},
     "output_type": "display_data"
    }
   ],
   "source": [
    "# Histogramme de comparaison des différentes stratégies\n",
    "manager.compare_strategies(backend=backend)\n",
    "manager2.compare_strategies(backend=backend)"
   ]
  },
  {
   "cell_type": "markdown",
   "metadata": {},
   "source": [
    "### *Analyse rapide des graphiques*\n",
    "\n",
    "#### **1. Rendements Cumulés avec Coûts Inclus**\n",
    "- Les rendements cumulés montrent une divergence claire entre les stratégies. La majorité des courbes descendent progressivement, indiquant que les frais de transaction impactent négativement les performances globales.\n",
    "- Une courbe violette (mom_strat_daily) reste stable en début et fin de période, mais très volatile au centre.\n",
    "\n",
    "#### **2. Rendements Cumulés sans Coûts Inclus**\n",
    "- En supprimant les coûts, on observe une amélioration notable des performances globales. \n",
    "- Cependant, une grande partie des stratégies montre encore une incapacité à générer des rendements constants, indiquant des faiblesses structurelles dans les approches de trading, même en l'absence de frais.\n",
    "\n",
    "#### **4. Comparaison des Métriques**\n",
    "- Ce graphique permet de comparer les différentes métriques pour chaque stratégie. Les points marquants incluent :\n",
    "    - Nombre de Transactions : Les stratégies les plus actives, i.e. fréquence journalière, enregistrent des coûts plus élevés et des rendements moindres, ce qui reflète une fréquence de trading non optimisée.\n",
    "    - Sharpe Ratio et Profit Factor : Les valeurs sont globalement proche de zéro ou négatives, indiquant une gestion inefficace du risque et des pertes importantes par rapport aux gains.\n",
    "    - Win Rate : La majorité des stratégies ont un taux de succès inférieur à 50 %, montrant une prédominance de trades non rentables."
   ]
  },
  {
   "cell_type": "markdown",
   "metadata": {},
   "source": []
  }
 ],
 "metadata": {
  "kernelspec": {
   "display_name": "base",
   "language": "python",
   "name": "python3"
  },
  "language_info": {
   "codemirror_mode": {
    "name": "ipython",
    "version": 3
   },
   "file_extension": ".py",
   "mimetype": "text/x-python",
   "name": "python",
   "nbconvert_exporter": "python",
   "pygments_lexer": "ipython3",
   "version": "3.12.4"
  }
 },
 "nbformat": 4,
 "nbformat_minor": 2
}
